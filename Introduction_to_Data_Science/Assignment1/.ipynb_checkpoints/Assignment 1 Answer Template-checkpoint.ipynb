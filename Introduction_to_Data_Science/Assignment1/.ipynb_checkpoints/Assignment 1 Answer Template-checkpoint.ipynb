{
 "cells": [
  {
   "cell_type": "markdown",
   "metadata": {},
   "source": [
    "# IDS Assignment 1\n",
    "Document your results as well as the way you obtained them in this jupyter notebook. A seperate report (pdf, word etc.) is _not_ required. However, it is necessary that you provide the python code leading to your results as well as textual answers to the assignment questions in this notebook. \n",
    "\n",
    "Do not change the general structure of this notebook, but you can add further markdown or code cells to explain your solutions if necessary. In the end, submit this file in moodle."
   ]
  },
  {
   "cell_type": "markdown",
   "metadata": {},
   "source": [
    "## Get to know the data"
   ]
  },
  {
   "cell_type": "code",
   "execution_count": 87,
   "metadata": {},
   "outputs": [
    {
     "name": "stdout",
     "output_type": "stream",
     "text": [
      "##################\n",
      "\n",
      "['age', 'workclass', 'education', 'education-num', 'marital-status', 'occupation', 'relationship', 'race', 'sex', 'hours-per-week', 'native-country', 'label']\n",
      "featureName: age\n",
      "uniqueValues: 70\n",
      "[17, 18, 19, 20, 21, 22, 23, 24, 25, 26, 27, 28, 29, 30, 31, 32, 33, 34, 35, 36, 37, 38, 39, 40, 41, 42, 43, 44, 45, 46, 47, 48, 49, 50, 51, 52, 53, 54, 55, 56, 57, 58, 59, 60, 61, 62, 63, 64, 65, 66, 67, 68, 69, 70, 71, 72, 73, 74, 75, 76, 77, 78, 79, 80, 81, 82, 83, 84, 86, 90]\n",
      "\n",
      "featureName: workclass\n",
      "uniqueValues: 9\n",
      "['Federal-gov', 'Local-gov', 'NAN', 'Never-worked', 'Private', 'Self-emp-inc', 'Self-emp-not-inc', 'State-gov', 'Without-pay']\n",
      "\n",
      "featureName: education\n",
      "uniqueValues: 16\n",
      "['10th', '11th', '12th', '1st-4th', '5th-6th', '7th-8th', '9th', 'Assoc-acdm', 'Assoc-voc', 'Bachelors', 'Doctorate', 'HS-grad', 'Masters', 'Preschool', 'Prof-school', 'Some-college']\n",
      "\n",
      "featureName: education-num\n",
      "uniqueValues: 16\n",
      "[1, 2, 3, 4, 5, 6, 7, 8, 9, 10, 11, 12, 13, 14, 15, 16]\n",
      "\n",
      "featureName: marital-status\n",
      "uniqueValues: 7\n",
      "['Divorced', 'Married-AF-spouse', 'Married-civ-spouse', 'Married-spouse-absent', 'Never-married', 'Separated', 'Widowed']\n",
      "\n",
      "featureName: occupation\n",
      "uniqueValues: 15\n",
      "['Adm-clerical', 'Armed-Forces', 'Craft-repair', 'Exec-managerial', 'Farming-fishing', 'Handlers-cleaners', 'Machine-op-inspct', 'NAN', 'Other-service', 'Priv-house-serv', 'Prof-specialty', 'Protective-serv', 'Sales', 'Tech-support', 'Transport-moving']\n",
      "\n",
      "featureName: relationship\n",
      "uniqueValues: 6\n",
      "['Husband', 'Not-in-family', 'Other-relative', 'Own-child', 'Unmarried', 'Wife']\n",
      "\n",
      "featureName: race\n",
      "uniqueValues: 5\n",
      "['Amer-Indian-Eskimo', 'Asian-Pac-Islander', 'Black', 'Other', 'White']\n",
      "\n",
      "featureName: sex\n",
      "uniqueValues: 2\n",
      "['Female', 'Male']\n",
      "\n",
      "featureName: hours-per-week\n",
      "uniqueValues: 92\n",
      "[1, 2, 3, 4, 5, 6, 7, 8, 9, 10, 11, 12, 13, 14, 15, 16, 17, 18, 19, 20, 21, 22, 23, 24, 25, 26, 27, 28, 29, 30, 31, 32, 33, 34, 35, 36, 37, 38, 39, 40, 41, 42, 43, 44, 45, 46, 47, 48, 49, 50, 51, 52, 53, 54, 55, 56, 57, 58, 59, 60, 61, 62, 63, 64, 65, 66, 67, 68, 70, 72, 73, 74, 75, 76, 77, 78, 80, 81, 82, 84, 85, 86, 88, 89, 90, 91, 94, 95, 96, 97, 98, 99]\n",
      "\n",
      "featureName: native-country\n",
      "uniqueValues: 41\n",
      "['Cambodia', 'Canada', 'China', 'Columbia', 'Cuba', 'Dominican-Republic', 'Ecuador', 'El-Salvador', 'England', 'France', 'Germany', 'Greece', 'Guatemala', 'Haiti', 'Honduras', 'Hong', 'Hungary', 'India', 'Iran', 'Ireland', 'Italy', 'Jamaica', 'Japan', 'Laos', 'Mexico', 'NAN', 'Nicaragua', 'Outlying-US(Guam-USVI-etc)', 'Peru', 'Philippines', 'Poland', 'Portugal', 'Puerto-Rico', 'Scotland', 'South', 'Taiwan', 'Thailand', 'Trinadad&Tobago', 'United-States', 'Vietnam', 'Yugoslavia']\n",
      "\n",
      "featureName: label\n",
      "uniqueValues: 2\n",
      "['<=50K', '>50K']\n",
      "\n",
      "##################\n"
     ]
    }
   ],
   "source": [
    "import pandas as pd\n",
    "\n",
    "path_training = \"adult.data-3.csv\"\n",
    "path_test = \"adult.test-3.csv\"\n",
    "\n",
    "def getUniqueValues(listWithDuplicates):\n",
    "    uniqueValues = []\n",
    "    for value in listWithDuplicates:\n",
    "        if value not in uniqueValues:\n",
    "            uniqueValues.append(value)\n",
    "            \n",
    "    return uniqueValues\n",
    "\n",
    "def readDataFromCSV(filePath):\n",
    "    allData = pd.read_csv(filePath)\n",
    "    features = list(allData)\n",
    "    \n",
    "    descriptiveFeats = features[:-1]\n",
    "    labelFeats = features[-1]\n",
    "\n",
    "    descriptives = allData[descriptiveFeats]\n",
    "    labels = allData[labelFeats]\n",
    "\n",
    "    return descriptives, labels, allData\n",
    "\n",
    "def printColumns(_data):\n",
    "    print(\"##################\")\n",
    "    print()\n",
    "    featuresList = list(_data)\n",
    "    print(featuresList)\n",
    "    for feature in featuresList:\n",
    "        print(\"featureName:\", feature)\n",
    "        uniqueValues = getUniqueValues(_data[feature])\n",
    "        print(\"uniqueValues:\", len(uniqueValues))\n",
    "        print(sorted(uniqueValues))\n",
    "        print()\n",
    "    print(\"##################\")\n",
    "\n",
    "def main():\n",
    "    trainData, trainLabel, allData = readDataFromCSV(path_training)\n",
    "    testData, testLabel, allTestData = readDataFromCSV(path_test)\n",
    "    printColumns(allData)\n",
    "    \n",
    "testData, testLabel, allTestData = readDataFromCSV(path_test)\n",
    "main()"
   ]
  },
  {
   "cell_type": "markdown",
   "metadata": {},
   "source": [
    "### Question 1 (Indicating type): \n",
    "1. Identify precise type of each attribute. Note that the right answers are like: “numerical-continuous-ratio”, just Numerical or Categorical is not enough.\n",
    "\n",
    "['age', 'workclass', 'education', 'education-num', 'marital-status', 'occupation', 'relationship', 'race', 'sex', 'hours-per-week', 'native-country']\n",
    "\n",
    "As the features, their unique values and the cardinality of those unique values are printed above; we can conclude the following:\n",
    "    * age -> numerical, discrete\n",
    "    * workclass -> categorical, nominal\n",
    "    * education -> categorical, ordinal\n",
    "    * education-num -> numerical, discrete\n",
    "    * marital-status -> categorical, nominal\n",
    "    * occupation -> categorical, nominal\n",
    "    * relationship -> categorical, nominal\n",
    "    * race -> categorical, nominal\n",
    "    * sex -> categorical, dichotomous/nominal\n",
    "    * hours-per-week -> numerical, discrete\n",
    "    * native-country -> categorical, nominal\n",
    "    * label -> categorical, nominal\n",
    "    \n",
    "    \n"
   ]
  },
  {
   "cell_type": "raw",
   "metadata": {},
   "source": [
    "Explanation:\n",
    "\n",
    "Note that each feature and the unique values that feature contains in the dataset are printed above.\n",
    "Based on the information printed, it is observable that:\n",
    "    * age -> numerical, discrete\n",
    "        -> all unique values are integers, none of them float\n",
    "        ! although age is normally continuous, here numbers are truncated.\n",
    "        \n",
    "    * workclass -> categorical, nominal\n",
    "        -> as can be observed from the unique values, they are categorical\n",
    "        -> moreover, there is no ordering between those values, nominal\n",
    "        \n",
    "    * education -> categorical, ordinal\n",
    "        -> as can be observed from the unique values, they are categorical\n",
    "        -> moreover, an ordering could be provided for values, thus ordinal\n",
    "        \n",
    "    * education-num -> numerical, discrete\n",
    "        -> all unique values are integers, none of them float\n",
    "        (just as a note, there is an ordering between them)\n",
    "    \n",
    "    * marital-status -> categorical, nominal\n",
    "        -> as can be observed from the unique values, they are categorical\n",
    "        -> moreover, there is no ordering between those values, nominal\n",
    "    \n",
    "    * occupation -> categorical, nominal\n",
    "        -> as can be observed from the unique values, they are categorical\n",
    "        -> moreover, there is no ordering between those values, nominal\n",
    "    \n",
    "    * relationship -> categorical, nominal\n",
    "        -> as can be observed from the unique values, they are categorical\n",
    "        -> moreover, there is no ordering between those values, nominal\n",
    "    \n",
    "    * race -> categorical, nominal\n",
    "        -> as can be observed from the unique values, they are categorical\n",
    "        -> moreover, there is no ordering between those values, nominal\n",
    "    \n",
    "    * sex -> categorical, nominal\n",
    "        -> as can be observed from the unique values, they are categorical\n",
    "        -> moreover, there is no ordering between those values, nominal\n",
    "    \n",
    "    * hours-per-week -> numerical, discrete\n",
    "        -> all unique values are integers, none of them float\n",
    "    \n",
    "    * native-country -> categorical, nominal\n",
    "        -> as can be observed from the unique values, they are categorical\n",
    "        -> moreover, there is no ordering between those values, nominal\n"
   ]
  },
  {
   "cell_type": "markdown",
   "metadata": {},
   "source": [
    "### Question 2 (Removing outliers):\n",
    "2. (a) Explore into \"age\" and \"hours-per-week\" and identify outliers (Boxplot returns whiskers). After identifying outliers, remove them (do it just once on the data set). Now you should have two data sets (cleaned and original)."
   ]
  },
  {
   "cell_type": "code",
   "execution_count": 49,
   "metadata": {},
   "outputs": [
    {
     "name": "stdout",
     "output_type": "stream",
     "text": [
      "Whiskers for age:  [17.0, 77.0]\n",
      "Whiskers for hpw:  [28.0, 60.0]\n"
     ]
    },
    {
     "data": {
      "image/png": "[encoded data removed]",
      "text/plain": [
       "<Figure size 432x288 with 2 Axes>"
      ]
     },
     "metadata": {
      "needs_background": "light"
     },
     "output_type": "display_data"
    }
   ],
   "source": [
    "# your code\n",
    "%matplotlib inline\n",
    "import matplotlib.pyplot as plt\n",
    "from copy import deepcopy\n",
    "\n",
    "#fig1, axs1 = plt.subplots(1,2)\n",
    "fig2, axs2 = plt.subplots(1,2)\n",
    "#fig3, axs3 = plt.subplots(1,2)\n",
    "\n",
    "def getWhiskers(boxplotObject):\n",
    "    whiskersList = []\n",
    "    for internalRepresentation in boxplotObject['whiskers']:\n",
    "        oneWhisker = internalRepresentation.get_ydata()\n",
    "        # oneWhisker format = [lastValue in rectangle box, whiskerValue]\n",
    "        # we need whiskerValue here\n",
    "        whiskerValue = oneWhisker[1]\n",
    "        whiskersList.append(whiskerValue)\n",
    "    return sorted(whiskersList)\n",
    "        \n",
    "def clearOutliers(pandaObject, _featureList):\n",
    "    # find whisker values\n",
    "    plotAge = pandaObject.boxplot(column=[\"age\"], return_type=\"dict\", ax= axs2[0])\n",
    "    ageWhiskers = getWhiskers(plotAge)\n",
    "    print(\"Whiskers for age: \", ageWhiskers)\n",
    "    \n",
    "    plotHPW = pandaObject.boxplot(column=[\"hours-per-week\"], return_type=\"dict\", ax=axs2[1])\n",
    "    hpwWhiskers = getWhiskers(plotHPW)\n",
    "    print(\"Whiskers for hpw: \", hpwWhiskers)\n",
    "    \n",
    "    # deep copy the structure, to be on the safe side\n",
    "    deepCopiedPanda = deepcopy(pandaObject)\n",
    "    \n",
    "    # remove outliers for \"age\"\n",
    "    ageLow, ageHigh = ageWhiskers\n",
    "    deepCopiedPanda = deepCopiedPanda[ deepCopiedPanda[\"age\"] >= ageLow ]\n",
    "    deepCopiedPanda = deepCopiedPanda[ deepCopiedPanda[\"age\"] <= ageHigh ]\n",
    "    \n",
    "    # remove outliers for \"hours-per-week\"\n",
    "    hpwLow, hpwHigh = hpwWhiskers\n",
    "    deepCopiedPanda = deepCopiedPanda[deepCopiedPanda[\"hours-per-week\"] >= hpwLow ]\n",
    "    deepCopiedPanda = deepCopiedPanda[deepCopiedPanda[\"hours-per-week\"] <= hpwHigh ]\n",
    "    \n",
    "    # return the filtered panda set\n",
    "    return deepCopiedPanda\n",
    "    \n",
    "def boxplotter(pandaObject, _featureList, index):\n",
    "    boxplot = pandaObject.boxplot(column=_featureList, ax=axs1)\n",
    "    return boxplot\n",
    "    \n",
    "\n",
    "trainData, trainLabel, allData = readDataFromCSV(path_training)\n",
    "testData, testLabel, allTestData = readDataFromCSV(path_test)\n",
    "    \n",
    "cleanedDataset = clearOutliers(allData, [\"age\", \"hours-per-week\"])"
   ]
  },
  {
   "cell_type": "markdown",
   "metadata": {},
   "source": [
    "2. (b) Draw Boxplot of the cleaned data set for \"hours-per-week\". Is there still any outlier? If so, explain why?"
   ]
  },
  {
   "cell_type": "code",
   "execution_count": 50,
   "metadata": {},
   "outputs": [
    {
     "name": "stdout",
     "output_type": "stream",
     "text": [
      "Whiskers for hpw:  [28.0, 60.0]\n",
      "Unique HPWs     :  [28, 29, 30, 31, 32, 33, 34, 35, 36, 37, 38, 39, 40, 41, 42, 43, 44, 45, 46, 47, 48, 49, 50, 51, 52, 53, 54, 55, 56, 57, 58, 59, 60]\n"
     ]
    },
    {
     "data": {
      "image/png": "[encoded data removed]",
      "text/plain": [
       "<Figure size 432x288 with 1 Axes>"
      ]
     },
     "metadata": {
      "needs_background": "light"
     },
     "output_type": "display_data"
    }
   ],
   "source": [
    "# your code\n",
    "#deepCopiedPanda.boxplot(column=[\"age\"], return_type=\"dict\", ax= axs3[0])\n",
    "\n",
    "def explanationForOutliers(dataset):\n",
    "    fig3, axs3 = plt.subplots(1,1)\n",
    "    #agePlot = dataset.boxplot(column=[\"age\"], return_type=\"dict\", ax= axs3[0])\n",
    "    hpwPlot = dataset.boxplot(column=[\"hours-per-week\"], return_type=\"dict\", ax= axs3)\n",
    "    uniqueHPWs = getUniqueValues(dataset[\"hours-per-week\"])\n",
    "    hpwWhiskers = getWhiskers(hpwPlot)\n",
    "    print(\"Whiskers for hpw: \", hpwWhiskers)\n",
    "    print(\"Unique HPWs     : \", sorted(uniqueHPWs))\n",
    "\n",
    "\n",
    "explanationForOutliers(cleanedDataset)"
   ]
  },
  {
   "cell_type": "markdown",
   "metadata": {},
   "source": [
    "Explanation:\n",
    "\n",
    "There is no outlier in the cleaned dataset.\n",
    "\n",
    "However, in filtering the outlier values, \n",
    "    if we are to use \"greater\" instead of \"greater or equal to\" and to use \"smaller\" instead of \"smaller or equal to\",\n",
    "        there would be some outliers in the dataset.\n",
    "        \n",
    "Why?\n",
    "The reason for the \"however\" case is, we are not including the values that are just on the edge of whiskers.\n",
    "And without those values discriminating the whiskers, more values stay out of the whiskers.\n",
    "There is also possibility that no matter outliers are removed, the cleaned dataset can have outliers as the distribution changes after the outlier removal, thus possibility of creating more outliers.\n",
    "\n",
    "Nevertheless, based on definition, we would stick with the first approach (where there is no outlier)"
   ]
  },
  {
   "cell_type": "markdown",
   "metadata": {},
   "source": [
    "### Question 3 (Basic visualization):\n",
    "3. (a) Visualize mean and median of \"age\", and \"hours-per-week\" per \"sex\" by separate plots for the cleaned and the original data sets (there should be 8 plots, 4 plots for the original data set and 4 plots for the cleaned data set). "
   ]
  },
  {
   "cell_type": "code",
   "execution_count": 44,
   "metadata": {
    "scrolled": false
   },
   "outputs": [
    {
     "data": {
      "image/png": "[encoded data removed]",
      "text/plain": [
       "<Figure size 432x288 with 2 Axes>"
      ]
     },
     "metadata": {
      "needs_background": "light"
     },
     "output_type": "display_data"
    },
    {
     "data": {
      "image/png": "[encoded data removed]",
      "text/plain": [
       "<Figure size 432x288 with 2 Axes>"
      ]
     },
     "metadata": {
      "needs_background": "light"
     },
     "output_type": "display_data"
    },
    {
     "data": {
      "image/png": "[encoded data removed]",
      "text/plain": [
       "<Figure size 432x288 with 2 Axes>"
      ]
     },
     "metadata": {
      "needs_background": "light"
     },
     "output_type": "display_data"
    },
    {
     "data": {
      "image/png": "[encoded data removed]",
      "text/plain": [
       "<Figure size 432x288 with 2 Axes>"
      ]
     },
     "metadata": {
      "needs_background": "light"
     },
     "output_type": "display_data"
    }
   ],
   "source": [
    "# your code\n",
    "# female/male, cleaned/dirty, age/hours-per-week\n",
    "\n",
    "featuresToPlot = [\"age\", \"hours-per-week\"]\n",
    "datasetList = [allData, cleanedDataset]\n",
    "datasetNameList = [\"Original\", \"Cleaned\" ]\n",
    "sexList = [\"Female\", \"Male\" ]\n",
    "\n",
    "def generateAxes():\n",
    "    axes = []\n",
    "    for sex in sexList:\n",
    "        for dataset in featuresToPlot:\n",
    "            fig, axs = plt.subplots(1,2)\n",
    "            for i in range(0,2):\n",
    "                axs[i].set_title(datasetNameList[i] + \" - \" + sex)\n",
    "                axs[i].set_ylim([0, 110])\n",
    "            axes.append(axs)\n",
    "    return axes\n",
    "\n",
    "subplotList = generateAxes()\n",
    "\n",
    "def applyStyleToPlot(plotObject, edge_color, fill_color):\n",
    "    #bp = ax.boxplot(data, patch_artist=True)\n",
    "\n",
    "    for element in ['boxes', 'whiskers', 'fliers', 'means', 'medians', 'caps']:\n",
    "        plt.setp(plotObject[element], color=edge_color)\n",
    "\n",
    "    for patch in plotObject['boxes']:\n",
    "        patch.set(facecolor=fill_color)\n",
    "\n",
    "def getInformativeTextForLabel(plotObject, numberOfObjects):\n",
    "    median = plotObject[\"medians\"][0].get_ydata()[0]        \n",
    "    mean = plotObject[\"means\"][0].get_ydata()[0]\n",
    "    \n",
    "    meanPrecisionLimited = \"%.3f\" % mean\n",
    "    textForDownLabel = \\\n",
    "        \"Median  : \" + str(float(median)) + '\\n' + \\\n",
    "        \"Mean    : \" + str(float(meanPrecisionLimited)) + '\\n' + \\\n",
    "        \"#Samples: \" + str(numberOfObjects)\n",
    "    return textForDownLabel\n",
    "\n",
    "def generatePlot(dataset, sex, featureName, printIndex):\n",
    "    datasetCopied = deepcopy(dataset)\n",
    "    genderFilteredDataset = datasetCopied[datasetCopied[\"sex\"] == sex]\n",
    "    \n",
    "    row = int(printIndex/2)\n",
    "    column = printIndex%2\n",
    "    ax = subplotList[row][column]\n",
    "    #print(row, column)\n",
    "    \n",
    "    plotObject = genderFilteredDataset.boxplot \\\n",
    "        (column=[featureName], showmeans=True, return_type=\"dict\", ax=subplotList[row][column], patch_artist=True)\n",
    "\n",
    "    textForDownLabel = getInformativeTextForLabel(plotObject, len(genderFilteredDataset))\n",
    "    ax.set_xlabel(textForDownLabel)\n",
    "    applyStyleToPlot(plotObject, 'red', 'tan')\n",
    "    # 'blue', 'cyan'\n",
    "        \n",
    "        \n",
    "        \n",
    "    \n",
    "\n",
    "def generateAllPlots():\n",
    "    index = 0\n",
    "    for sex in sexList:\n",
    "        for feature in featuresToPlot:\n",
    "            subIndex = 0\n",
    "            for dataset in datasetList:\n",
    "                #print(datasetNameList[subIndex], sex, feature)\n",
    "                subIndex += 1\n",
    "                generatePlot(dataset, sex, feature, index)\n",
    "                index += 1\n",
    "        \n",
    "generateAllPlots()"
   ]
  },
  {
   "cell_type": "markdown",
   "metadata": {},
   "source": [
    "3. (b) Explain how mean and median of \"age\" per \"sex\" change when you remove the outliers.\n",
    "\n",
    "Female - age:\n",
    "\n",
    "    Median: 36.0 -> 37.0 (increased)\n",
    "    Mean: 37.576 -> 37.773 (increased)\n",
    "    \n",
    "    \n",
    "Female - hours-per-week:\n",
    "\n",
    "    Median: 40.0 -> 40.0 (no change)\n",
    "    Mean: 36.884 -> 40.542 (increased)\n",
    "    \n",
    "\n",
    "Male - age:\n",
    "\n",
    "    Median: 40.0 -> 40.0 (no change)\n",
    "    Mean: 41.121 -> 40.998 (decreased)\n",
    "    \n",
    "\n",
    "Male - hours-per-week:\n",
    "\n",
    "    Median: 40.0 -> 40.0 (no change)\n",
    "    Mean: 43.708 -> 43.97 (decreased)\n",
    "    \n",
    "    \n",
    "\n",
    "    "
   ]
  },
  {
   "cell_type": "markdown",
   "metadata": {},
   "source": [
    "Explanation: \n",
    "\n",
    "# TODO\n"
   ]
  },
  {
   "cell_type": "markdown",
   "metadata": {},
   "source": [
    "### Question 4 (Distribution):\n",
    "4. (a) Explore into distribution of \"age\" in the original data set. Does it have any well-known distribution (normal, uniform, skewed, ...)? If so, what are the main statistical features (mean, median, and mode) of this specific type of distribution."
   ]
  },
  {
   "cell_type": "code",
   "execution_count": 5,
   "metadata": {},
   "outputs": [
    {
     "name": "stdout",
     "output_type": "stream",
     "text": [
      "Mean  :  40.103\n",
      "Median:  39\n",
      "Mode  :  37\n"
     ]
    },
    {
     "data": {
      "image/png": "[encoded data removed]",
      "text/plain": [
       "<Figure size 432x288 with 1 Axes>"
      ]
     },
     "metadata": {
      "needs_background": "light"
     },
     "output_type": "display_data"
    }
   ],
   "source": [
    "# your code\n",
    "\n",
    "plot1 = allData.hist(column=\"age\", bins=10)\n",
    "\n",
    "mean = allData[\"age\"].mean()\n",
    "median = allData[\"age\"].median()\n",
    "mode = allData[\"age\"].mode()\n",
    "print(\"Mean  : \", \"%.3f\" % mean)\n",
    "print(\"Median: \", int(median))\n",
    "print(\"Mode  : \", int(mode))"
   ]
  },
  {
   "cell_type": "markdown",
   "metadata": {},
   "source": [
    "Explanation:\n",
    "\n",
    "Distribution is right-skewed.\n",
    "\n",
    "Properties of a right-skewed distributions:\n",
    "    * the mode is smaller than the median\n",
    "    * the median is smaller than the mean\n",
    "    * shorter left-tail, longer right-tail"
   ]
  },
  {
   "cell_type": "markdown",
   "metadata": {},
   "source": [
    "4. (b) Explore into distribution of \"age\" and \"hours-per-week\" together. Explain how the data is distributed with respect to these two attributes in the original data sets (using Jointplot)?\n"
   ]
  },
  {
   "cell_type": "code",
   "execution_count": 53,
   "metadata": {},
   "outputs": [
    {
     "data": {
      "text/plain": [
       "<seaborn.axisgrid.JointGrid at 0x7fa78146c6d8>"
      ]
     },
     "execution_count": 53,
     "metadata": {},
     "output_type": "execute_result"
    },
    {
     "data": {
      "image/png": "[encoded data removed]",
      "text/plain": [
       "<Figure size 432x432 with 3 Axes>"
      ]
     },
     "metadata": {
      "needs_background": "light"
     },
     "output_type": "display_data"
    }
   ],
   "source": [
    "# your code\n",
    "import seaborn as sb\n",
    "\n",
    "# sb.jointplot(x=\"age\", y=\"hours-per-week\", data = allData)\n",
    "sb.jointplot( \n",
    "    x = tuple( allData[(\"age\")] ),\n",
    "    y = tuple( allData[(\"hours-per-week\")] )\n",
    ")\n",
    "\n"
   ]
  },
  {
   "cell_type": "markdown",
   "metadata": {},
   "source": [
    "Explanation:\n",
    "\n",
    "The most observed hours-per-week value is 40 hours per week.\n",
    "\n",
    "The age and the hours-per-week has somehow similar patterns.\n",
    "Both the age and the hours-per-week, based on the observation frequency, and generally speaking, increases up to a number (peak there), and decreases.\n",
    "\n",
    "From this founding, we can say that workforce of this dataset mostly consists of the people around age 37 and age 41.\n",
    "People younger and people older than this age range contribute to workforce less.\n",
    "I will call these people around age 37 and age 41 \"hardworkers\" from now on.\n",
    "\n",
    "Moreover, it can be observed that most of the \"hardworkers\" also work hours-per-week that is the median of the hours-per-week scale.\n",
    "\n",
    "Speculatively, it can be said from this graph, as age increases up until the range 37-41 age, the hours-per-week increases. After this range, it will decrease steadily."
   ]
  },
  {
   "cell_type": "markdown",
   "metadata": {},
   "source": [
    "## Building models to perform predictions"
   ]
  },
  {
   "cell_type": "markdown",
   "metadata": {},
   "source": [
    "### Question 5 (Decision Tree):\n",
    "5. (a) Consider all the categorical attributes except label as descriptive features and label (income) as target feature. Make two decision trees (one based on Entropy and another based on Gini)."
   ]
  },
  {
   "cell_type": "code",
   "execution_count": 61,
   "metadata": {},
   "outputs": [
    {
     "name": "stdout",
     "output_type": "stream",
     "text": [
      "System entropy score:  0.9894104774720454\n",
      "System gini score:  0.49267787898095206\n"
     ]
    }
   ],
   "source": [
    "# your code\n",
    "import graphviz\n",
    "from DecisionTree import DecisionTree\n",
    "\n",
    "categoricals = ['workclass', 'education', \\\n",
    "                'marital-status', 'occupation', 'relationship', 'race', 'sex', \\\n",
    "             'native-country']\n",
    "\n",
    "def datasetDividedToSections(datasetName):\n",
    "    features = datasetName.columns\n",
    "    descriptiveFeatures = categoricals\n",
    "    targetFeature = features[-1]\n",
    "    \n",
    "    # convert to string\n",
    "    for feature in features:\n",
    "        datasetName[feature] = datasetName[feature].astype(str)\n",
    "        \n",
    "    descriptiveValues = datasetName[descriptiveFeatures].values\n",
    "    targetValues = datasetName[targetFeature].values\n",
    "    \n",
    "    return descriptiveValues, targetValues, descriptiveFeatures\n",
    "\n",
    "descriptives, targets, descrFeatures = datasetDividedToSections(allData)\n",
    "descriptives2, targets2, descrFeatures2 = datasetDividedToSections(allData)\n",
    "decisionTreeEntropy = DecisionTree(descriptives.tolist(), descrFeatures, targets.tolist(), \"entropy\")\n",
    "decisionTreeGini = DecisionTree(descriptives2.tolist(), descrFeatures2, targets2.tolist(), \"gini\")\n",
    "\n",
    "decisionTreeEntropy.id3(0,0)\n",
    "decisionTreeGini.id3(0,0)\n",
    "\n",
    "\n",
    "decisionTreeEntropy.print_visualTree()\n",
    "decisionTreeGini.print_visualTree()\n",
    "\n",
    "print(\"System entropy score: \", format(decisionTreeEntropy.entropy))\n",
    "print(\"System gini score: \", format(decisionTreeGini.gini))"
   ]
  },
  {
   "cell_type": "markdown",
   "metadata": {},
   "source": [
    "5. (b) What are the best attributes (based on Gini and Entropy) for splitting the trees in the third round of ID3?\n"
   ]
  },
  {
   "cell_type": "markdown",
   "metadata": {},
   "source": [
    "Explanation:\n",
    "\n",
    "\n",
    "For entropy: \"occupation\"\n",
    "\n",
    "For gini: \"occupation\"\n",
    "\n"
   ]
  },
  {
   "cell_type": "markdown",
   "metadata": {},
   "source": [
    "5. (c) Prune the tree which is made based on Entropy by 7000 as minimum number of samples. Identify which value of the first node/attribute is chosen to be split in the second round of ID3 and explain why?"
   ]
  },
  {
   "cell_type": "code",
   "execution_count": 8,
   "metadata": {},
   "outputs": [],
   "source": [
    "# before pruning\n",
    "decisionTreeEntropy.print_visualTree()"
   ]
  },
  {
   "cell_type": "code",
   "execution_count": 64,
   "metadata": {},
   "outputs": [
    {
     "name": "stdout",
     "output_type": "stream",
     "text": [
      "6662 1179\n",
      "5918\n"
     ]
    }
   ],
   "source": [
    "# your code\n",
    "#Here you can pass pruning features (gain_threshold and minimum_samples)\n",
    "decisionTreeEntropy.id3(0,7000)\n",
    "decisionTreeEntropy.print_visualTree()\n",
    "['<=50K', '>50K']\n",
    "m = 0\n",
    "f= 0\n",
    "h = 0\n",
    "for index, row in allData.iterrows():\n",
    "    if row[\"label\"] == \">50K\":\n",
    "        if row[\"sex\"] == \"Male\":\n",
    "            m += 1\n",
    "        if row[\"sex\"] == \"Female\":\n",
    "            f += 1\n",
    "        if row[\"relationship\"] == \"Husband\":\n",
    "            h += 1\n",
    "print(m, f)\n",
    "print(h)"
   ]
  },
  {
   "cell_type": "markdown",
   "metadata": {},
   "source": [
    "Explanation:\n",
    "\n",
    "\"husband\" value of first attribute(\"relationship\") is chosen to be split in the second round of ID3.\n",
    "\n",
    "It is most probably because still the biggest contributors to any country is family, and still families are dominated by the salary of father who is working for both house and the family.\n",
    "\n",
    "Moreover, assuming the assumption above is correct, we can say that for a male, being a husband is determinative of whether he would make more than 50K or less than that amount.\n",
    "\n",
    "On the other hand, it might also be because most of the people who make more than 50K in this dataset is male.\n",
    "\n",
    "Number of males making more than 50K: 6662\n",
    "\n",
    "Number of females making more than 50K: 1179\n",
    "\n",
    "On top of this, in the set of males who make more than 50K, this set is predominantly consists of men who also have the role of \"husband\" in their \"relationship\" feature."
   ]
  },
  {
   "cell_type": "markdown",
   "metadata": {},
   "source": [
    "### Question 6 (Regression):\n",
    "\n",
    "6. (a) Create two sets of independent variables (1) and (2)"
   ]
  },
  {
   "cell_type": "code",
   "execution_count": 10,
   "metadata": {},
   "outputs": [],
   "source": [
    "# your code\n",
    "set1Features = [\"age\", \"marital-status\", \"sex\"]\n",
    "set2Features = [\"workclass\", \"education\", \"hours-per-week\"]\n",
    "allDataFeatures = \\\n",
    "[\n",
    "    'age', 'workclass', 'education', 'education-num', 'marital-status', 'occupation', 'relationship',\\\n",
    "    'race', 'sex', 'hours-per-week', 'native-country'\n",
    "]\n",
    "\n",
    "set1 = allData[set1Features]\n",
    "set2 = allData[set2Features]\n",
    "\n"
   ]
  },
  {
   "cell_type": "markdown",
   "metadata": {},
   "source": [
    "6. (b) Which attributes are suitable as an input for the logistic regression and which need to be modified first? Why? "
   ]
  },
  {
   "cell_type": "markdown",
   "metadata": {},
   "source": [
    "Explanation:\n",
    "\n",
    "For 1st set where features are [\"age\", \"marital-status\", \"sex\"]:\n",
    "    * age: suitable as an input for logistic regression\n",
    "    * marital-status: not suitable as it is categorical, need to be modified first\n",
    "    * sex: not suitable as it is categorical, need to be modified first\n",
    "    \n",
    "For 2nd set where features are [\"workclass\", \"education\", \"hours-per-week\"]:\n",
    "    * workclass: not suitable as it is categorical, need to be modified first\n",
    "    * education: not suitable as it is categorical, need to be modified first\n",
    "    * hours-per-wekk: suitable as an input for logistic regression\n",
    "    \n",
    "Why modification?\n",
    "\n",
    "    -> Logistic regression works with numerical data, but categorical features do not contain numerical data.\n",
    "    They have to be modified first to be fed into a logistic regression."
   ]
  },
  {
   "cell_type": "code",
   "execution_count": 103,
   "metadata": {},
   "outputs": [],
   "source": [
    "# your modification\n",
    "#import sklearn.linear_model.LogisticRegression\n",
    "\n",
    "set1Categoricals = [\"marital-status\", \"sex\"]\n",
    "set1Numerics = [\"age\"]\n",
    "\n",
    "set2Categoricals = [\"workclass\", \"education\"]\n",
    "set2Numerics = [\"hours-per-week\"]\n",
    "\n",
    "allDataNumerics = \\\n",
    "[\n",
    "    'age', 'education-num', 'hours-per-week'\\\n",
    "]\n",
    "allDataCategoricals = \\\n",
    "[\n",
    "    'workclass', 'education', 'marital-status', 'occupation', 'relationship', 'race', 'sex', 'native-country'\n",
    "]\n",
    "\n",
    "def modifyCategoricalFeatures(setName, setCategoricalFeatures, setNumericFeatures, featureOrder):\n",
    "    numericData = setName[setNumericFeatures]\n",
    "    categoricalData = setName[setCategoricalFeatures]\n",
    "    concatenationList = []\n",
    "    for feature in featureOrder:\n",
    "        \n",
    "        featureIndex = featureOrder.index(feature)\n",
    "        featureData = setName[[feature]]\n",
    "        if feature in setNumericFeatures:\n",
    "            featureData = featureData\n",
    "        if feature in setCategoricalFeatures:\n",
    "            featureData = pd.get_dummies(featureData)\n",
    "        \n",
    "        concatenationList.append(featureData)\n",
    "        \n",
    "    mergedAll = pd.concat(concatenationList, axis=1)\n",
    "    resultFeatures = mergedAll.columns\n",
    "    \n",
    "    return mergedAll\n",
    "\n",
    "def getLabels(setName):\n",
    "    labelFeature = [\"label\"]\n",
    "    labels = setName[labelFeature]\n",
    "    r = []\n",
    "    for label in labels.values:\n",
    "        val = label[0]\n",
    "        if val == \"<=50K\":\n",
    "            r.append(0)\n",
    "        elif val == \">50K\":\n",
    "            r.append(1)\n",
    "        else:\n",
    "            print(val)\n",
    "    return r\n",
    "            \n",
    "# note that those sets do not include \"label feature in them\"\n",
    "set1Modified = modifyCategoricalFeatures(set1, set1Categoricals, set1Numerics, set1Features)\n",
    "set2Modified = modifyCategoricalFeatures(set2, set2Categoricals, set2Numerics, set2Features)\n",
    "allDataModified = modifyCategoricalFeatures(allData, allDataCategoricals, allDataNumerics, allDataFeatures)\n",
    "labels = getLabels(allData)"
   ]
  },
  {
   "cell_type": "markdown",
   "metadata": {},
   "source": [
    "6. (c) Train three logistic regression classifiers based on the two created data sets as well as the initial data set:"
   ]
  },
  {
   "cell_type": "code",
   "execution_count": 113,
   "metadata": {},
   "outputs": [
    {
     "name": "stderr",
     "output_type": "stream",
     "text": [
      "/home/ulfet/.local/lib/python3.6/site-packages/sklearn/linear_model/logistic.py:433: FutureWarning: Default solver will be changed to 'lbfgs' in 0.22. Specify a solver to silence this warning.\n",
      "  FutureWarning)\n",
      "/home/ulfet/.local/lib/python3.6/site-packages/sklearn/linear_model/logistic.py:433: FutureWarning: Default solver will be changed to 'lbfgs' in 0.22. Specify a solver to silence this warning.\n",
      "  FutureWarning)\n",
      "/home/ulfet/.local/lib/python3.6/site-packages/sklearn/linear_model/logistic.py:433: FutureWarning: Default solver will be changed to 'lbfgs' in 0.22. Specify a solver to silence this warning.\n",
      "  FutureWarning)\n"
     ]
    },
    {
     "name": "stdout",
     "output_type": "stream",
     "text": [
      "[[6751 3249]\n",
      " [1217 6624]]\n",
      "[[7926 2074]\n",
      " [3240 4601]]\n",
      "[[8132 1868]\n",
      " [1554 6287]]\n"
     ]
    }
   ],
   "source": [
    "# your code\n",
    "# C=1e5, solver='lbfgs', multi_class='multinomial'\n",
    "from sklearn.linear_model import LogisticRegression\n",
    "from sklearn.metrics import confusion_matrix\n",
    "from sklearn.metrics import classification_report\n",
    "from sklearn.metrics import accuracy_score\n",
    "\n",
    "LR1 = LogisticRegression().fit(set1Modified, labels)\n",
    "LR2 = LogisticRegression().fit(set2Modified, labels)\n",
    "LROrig = LogisticRegression().fit(allDataModified, labels)\n",
    "\n",
    "def resultTester(modelName, dataset, labels):\n",
    "    predictionList = modelName.predict(dataset)\n",
    "    truePredicts = 0\n",
    "    falsePredicts = 0\n",
    "    for index in range(len(predictionList)):\n",
    "        prediction = predictionList[index]\n",
    "        actualValue = labels[index]\n",
    "        if actualValue == prediction:\n",
    "            truePredicts += 1\n",
    "        else:\n",
    "            falsePredicts += 1\n",
    "    ratio = float(truePredicts) / (truePredicts + falsePredicts)\n",
    "            \n",
    "    confusionMatrix = confusion_matrix(labels, predictionList)\n",
    "    classificationReport = classification_report(labels, predictionList, target_names=[\"<=50K\", \">50K\"])\n",
    "    accuracyScore = accuracy_score(labels, predictionList)\n",
    "    print(confusionMatrix)\n",
    "    return confusionMatrix, classificationReport, accuracyScore\n",
    "    \n",
    "        \n",
    "result1, _, _ = resultTester(LR1, set1Modified, labels)\n",
    "result2, _, _ = resultTester(LR2, set2Modified, labels)\n",
    "resultOrig, _, _= resultTester(LROrig, allDataModified, labels)"
   ]
  },
  {
   "cell_type": "markdown",
   "metadata": {},
   "source": [
    "6. (d) Interpret the three resulting models and compare them. Which model do you recommend and why?"
   ]
  },
  {
   "cell_type": "markdown",
   "metadata": {},
   "source": [
    "Explanation:"
   ]
  },
  {
   "cell_type": "markdown",
   "metadata": {},
   "source": [
    "### Question 7 (Neural Networks)"
   ]
  },
  {
   "cell_type": "markdown",
   "metadata": {},
   "source": [
    "7. (a) What are the inputs of your network?"
   ]
  },
  {
   "cell_type": "markdown",
   "metadata": {},
   "source": [
    "Explanation:\n",
    "\n",
    "used Attributes:\n",
    "\n",
    "    ['education-num', 'relationship', 'age', 'occupation','hours-per-week']\n",
    "    // not in specific order\n",
    "\n",
    "Based on a correlation matrix and some work I did outside of this jupyter file,\n",
    "education is preferrable choice for income guessing. Moreover, it is correlated with real-life too.\n",
    "\n",
    "Then, from the initial features list, I used forward selection algorithm by hand to determine which features to add.\n",
    "\n",
    "Although I can add all the features of the dataset(excluding \"label\") as inputs to my network,\n",
    "It might overfit the data, and as a rule of thumb, model should converge fast.\n",
    "\n",
    "While using all the features, it takes a great time to train the model; therefore, I made some educated guesses and also run correlation matrix, and preferred to use the features listed above."
   ]
  },
  {
   "cell_type": "markdown",
   "metadata": {},
   "source": [
    "7. (b) What are the possible number of input pattern for your network (just including categorical attributes)?\n",
    "\n",
    "\n",
    "    "
   ]
  },
  {
   "cell_type": "markdown",
   "metadata": {},
   "source": [
    "Explanation:\n",
    "\n",
    "There are 8 categorical features.\n",
    "\n",
    "Those are:\n",
    "\n",
    "    [ 'workclass', 'education', 'marital-status', 'occupation', \n",
    "    'relationship', 'race', 'sex', 'native-country', 'label']\n",
    "    \n",
    "Possible numbers of possible number of input pattern for the network is calculated as follows:\n",
    "    \n",
    "    2^(the number of categorical features) - 1 = \n",
    "    2^(8) - 1 = 255\n",
    "    \n",
    "There are 255 different input patterns, assuming we only use categorical attributes."
   ]
  },
  {
   "cell_type": "code",
   "execution_count": 67,
   "metadata": {},
   "outputs": [],
   "source": [
    "# here is some experiments for choosing the inputs to the neural network\n",
    "from itertools import combinations\n",
    "import numpy as np\n",
    "from sklearn import preprocessing\n",
    "from sklearn.neural_network import MLPClassifier\n",
    "\n",
    "allFeatures = allData.columns\n",
    "descriptiveFeatures = allFeatures[:-1]\n",
    "\n",
    "categoricalFeatures = [ 'workclass', 'education',  \\\n",
    "                       'marital-status', 'occupation', 'relationship', 'race', 'sex', \\\n",
    "                       'native-country', 'label']\n",
    "numericalFeatures = ['age', 'education-num', 'hours-per-week']\n",
    "\n",
    "def getAllPossibleCombinations(featureList):\n",
    "    featureSet = set(featureList)\n",
    "    allCombinations = sum(map(lambda r: list(combinations(featureSet, r)), range(1, len(featureSet)+1)), [])\n",
    "    # now combinations are there, but each as a tuple\n",
    "    combinationList = []\n",
    "    for combination in allCombinations:\n",
    "        x = list(combination)\n",
    "        combinationList.append(x)\n",
    "    return combinationList\n",
    "    \n",
    "def normalizeCategorizeClean(setName, setCategoricalFeatures, setNumericFeatures, featureOrder):\n",
    "    concatenationList = []\n",
    "    for feature in featureOrder:\n",
    "        \n",
    "        featureIndex = featureOrder.index(feature)\n",
    "        featureData = setName[[feature]]\n",
    "        \n",
    "        if feature in setNumericFeatures:\n",
    "            min_max_scaler = preprocessing.MinMaxScaler()\n",
    "            setName[[feature]] = setName[[feature]].astype(float)\n",
    "            featureDataScaled = min_max_scaler.fit_transform(featureData)\n",
    "            featureData = pd.DataFrame(featureDataScaled, columns=[feature])\n",
    "            \n",
    "        if feature in setCategoricalFeatures:\n",
    "            oneHottedData = pd.get_dummies(featureData)\n",
    "            oneHotFeatList = oneHottedData.columns.tolist()\n",
    "            featureData = pd.DataFrame(oneHottedData, columns=oneHotFeatList)\n",
    "            \n",
    "        concatenationList.append(featureData)\n",
    "        \n",
    "    mergedAll = pd.concat(concatenationList, axis=1)\n",
    "    return mergedAll\n",
    "\n",
    "wantedCombinations = getAllPossibleCombinations(descriptiveFeatures)\n",
    "oneCombination = descriptiveFeatures.tolist()\n",
    "normalizedOneHotted = normalizeCategorizeClean(allData, categoricalFeatures, numericalFeatures, oneCombination)"
   ]
  },
  {
   "cell_type": "markdown",
   "metadata": {},
   "source": [
    "7. (c.i) First, with default parameters and return the parameters."
   ]
  },
  {
   "cell_type": "code",
   "execution_count": 131,
   "metadata": {},
   "outputs": [
    {
     "name": "stderr",
     "output_type": "stream",
     "text": [
      "/home/ulfet/.local/lib/python3.6/site-packages/sklearn/preprocessing/data.py:323: DataConversionWarning: Data with input dtype int64 were all converted to float64 by MinMaxScaler.\n",
      "  return self.partial_fit(X, y)\n",
      "/home/ulfet/.local/lib/python3.6/site-packages/sklearn/preprocessing/data.py:323: DataConversionWarning: Data with input dtype int64 were all converted to float64 by MinMaxScaler.\n",
      "  return self.partial_fit(X, y)\n",
      "/home/ulfet/.local/lib/python3.6/site-packages/sklearn/preprocessing/data.py:323: DataConversionWarning: Data with input dtype int64 were all converted to float64 by MinMaxScaler.\n",
      "  return self.partial_fit(X, y)\n"
     ]
    },
    {
     "name": "stdout",
     "output_type": "stream",
     "text": [
      "{'activation': 'relu', 'alpha': 0.0001, 'batch_size': 'auto', 'beta_1': 0.9, 'beta_2': 0.999, 'early_stopping': False, 'epsilon': 1e-08, 'hidden_layer_sizes': (100,), 'learning_rate': 'constant', 'learning_rate_init': 0.001, 'max_iter': 200, 'momentum': 0.9, 'n_iter_no_change': 10, 'nesterovs_momentum': True, 'power_t': 0.5, 'random_state': None, 'shuffle': True, 'solver': 'adam', 'tol': 0.0001, 'validation_fraction': 0.1, 'verbose': False, 'warm_start': False}\n",
      "0.7983539094650206\n"
     ]
    }
   ],
   "source": [
    "# your code\n",
    "\n",
    "usedAttribs = ['age', 'education-num', 'occupation',\\\n",
    "               'relationship','hours-per-week']\n",
    "testLabels = getLabels(allTestData)\n",
    "smallTrainSet = normalizeCategorizeClean(allData, categoricalFeatures, numericalFeatures, usedAttribs)\n",
    "smallTestSet = normalizeCategorizeClean(allTestData, categoricalFeatures, numericalFeatures, usedAttribs)\n",
    "\n",
    "\n",
    "\n",
    "\n",
    "# default params\n",
    "defaultNetwork = MLPClassifier()\n",
    "print(defaultNetwork.get_params())\n",
    "\n",
    "columnsForAllData = allData.columns[:-1]\n",
    "columnsForAllData = columnsForAllData.tolist()\n",
    "\n",
    "trainedModel = defaultNetwork.fit(smallTrainSet, labels)\n",
    "currentScore = trainedModel.score(smallTestSet, testLabels)\n",
    "predicstOfDefaultModel = trainedModel.predict(smallTestSet)\n",
    "print(currentScore)"
   ]
  },
  {
   "cell_type": "markdown",
   "metadata": {},
   "source": [
    "7. (c.ii) Second, try to find the optimized number of hidden layers and nodes. (Start with default number and then at least go with one number above and one number below the default) \n"
   ]
  },
  {
   "cell_type": "code",
   "execution_count": 84,
   "metadata": {},
   "outputs": [
    {
     "name": "stdout",
     "output_type": "stream",
     "text": [
      "Hidden Layer:  () Test Score:  0.8009336035870033\n",
      "Hidden Layer:  () Test Score:  0.8003808119894356\n",
      "Hidden Layer:  () Test Score:  0.800810761009766\n",
      "\n",
      "Hidden Layer:  (100,) Test Score:  0.809901111725324\n",
      "Hidden Layer:  (100,) Test Score:  0.8074442601805786\n",
      "Hidden Layer:  (100,) Test Score:  0.8021006080707573\n",
      "\n",
      "Hidden Layer:  (40, 10) Test Score:  0.8041275105951723\n",
      "Hidden Layer:  (40, 10) Test Score:  0.7849640685461581\n",
      "Hidden Layer:  (40, 10) Test Score:  0.8027762422455623\n",
      "\n",
      "Layer:  (100,) 0.809901111725324\n"
     ]
    }
   ],
   "source": [
    "# usedAttribs = ['age', 'workclass', 'education-num', 'marital-status', 'occupation',\\\n",
    "#               'relationship', 'race', 'sex', 'hours-per-week', 'native-country']\n",
    "\n",
    "bestScoreForLayer = -1\n",
    "bestLayerParam = \"\"\n",
    "\n",
    "# function for training model with different layer formations\n",
    "def tryLayerValues(hiddenLayerInfo):\n",
    "    global bestScoreForLayer\n",
    "    global bestLayerParam\n",
    "    for i in range(0,3):\n",
    "        network = MLPClassifier(hidden_layer_sizes=hiddenLayerInfo, max_iter=300)\n",
    "        model = network.fit(smallTrainSet, labels)\n",
    "        currentScore = model.score(smallTestSet, testLabels)\n",
    "        print(\"Hidden Layer: \", hiddenLayerInfo, \"Test Score: \", currentScore)\n",
    "        if currentScore > bestScoreForLayer:\n",
    "            bestScoreForLayer = currentScore\n",
    "            bestLayerParam = hiddenLayerInfo\n",
    "            \n",
    "    print()\n",
    "\n",
    "# your code for lower number of hidden layers\n",
    "\n",
    "lowerHidden = ()\n",
    "tryLayerValues(lowerHidden)\n",
    "\n",
    "# default values\n",
    "default = (100,)\n",
    "tryLayerValues(default)\n",
    "\n",
    "# your code for higher number of hidden layers\n",
    "higherHidden = (40,10)\n",
    "tryLayerValues(higherHidden)\n",
    "\n",
    "\n",
    "\n",
    "# your code for testing number of neurons in each layer\n",
    "print(\"Layer: \", bestLayerParam, bestScoreForLayer)"
   ]
  },
  {
   "cell_type": "markdown",
   "metadata": {},
   "source": [
    "7. (c.iii) Third, try to train your model with one linear activation function and one non linear activation function, name the functions and explain if there is any difference in your networks and why? (you can use evaluation metrics to show which activation function works better for this data set)\n"
   ]
  },
  {
   "cell_type": "code",
   "execution_count": 83,
   "metadata": {},
   "outputs": [
    {
     "name": "stdout",
     "output_type": "stream",
     "text": [
      "Activation Function :  identity Test Score:  0.8054787789447823\n",
      "Activation Function :  identity Test Score:  0.7898777716356489\n",
      "Activation Function :  identity Test Score:  0.8032676125545114\n",
      "Activation Function :  identity Test Score:  0.8083041582212395\n",
      "Activation Function :  identity Test Score:  0.8027762422455623\n",
      "Activation Function :  identity Test Score:  0.8023462932252319\n",
      "Activation Function :  identity Test Score:  0.793071678643818\n",
      "Activation Function :  identity Test Score:  0.8065843621399177\n",
      "Activation Function :  identity Test Score:  0.8044346170382655\n",
      "Activation Function :  identity Test Score:  0.8030833486886555\n",
      "\n",
      "Activation Function :  relu Test Score:  0.8143848657944843\n",
      "Activation Function :  relu Test Score:  0.8081198943553836\n",
      "Activation Function :  relu Test Score:  0.8094097414163749\n",
      "Activation Function :  relu Test Score:  0.8089183711074258\n",
      "Activation Function :  relu Test Score:  0.8120508568269762\n",
      "Activation Function :  relu Test Score:  0.8105153246115103\n",
      "Activation Function :  relu Test Score:  0.7935016276641484\n",
      "Activation Function :  relu Test Score:  0.8011792887414778\n",
      "Activation Function :  relu Test Score:  0.8105153246115103\n",
      "Activation Function :  relu Test Score:  0.8047417234813586\n",
      "\n",
      "Activation:  relu 0.8105153246115103\n"
     ]
    }
   ],
   "source": [
    "# your code for linear activation function\n",
    "bestActivationFunc = \"\"\n",
    "bestScoreForActivation = -1\n",
    "\n",
    "def tryActivationValues(activationFunc):\n",
    "    global bestScoreForActivation\n",
    "    global bestActivationFunc\n",
    "    loopNo = 10\n",
    "    for i in range(0,loopNo):\n",
    "        network = MLPClassifier(activation=activationFunc, max_iter=300)\n",
    "        model = network.fit(smallTrainSet, labels)\n",
    "        currentScore = model.score(smallTestSet, testLabels)\n",
    "        print(\"Activation Function : \", activationFunc, \"Test Score: \", currentScore)\n",
    "        if currentScore > bestScoreForLayer:\n",
    "            bestScoreForActivation = currentScore\n",
    "            bestActivationFunc = activationFunc\n",
    "            \n",
    "    print()\n",
    "\n",
    "tryActivationValues(\"identity\")\n",
    "\n",
    "# your code for non linear activation function\n",
    "\n",
    "tryActivationValues(\"relu\")\n",
    "\n",
    "# yor code for comparing two networks\n",
    "\n",
    "print(\"Activation: \", bestActivationFunc, bestScoreForActivation)"
   ]
  },
  {
   "cell_type": "markdown",
   "metadata": {},
   "source": [
    "Parameters:\n",
    "Best value for layers: (100) // default\n",
    "Best value for activation functions: nonlinear(relu)"
   ]
  },
  {
   "cell_type": "markdown",
   "metadata": {},
   "source": [
    "Explanation:\n",
    "\n",
    "In layers, I tried no hidden layer, default parameter(1 layer, 100 nodes), and two layers(first: 40 nodes, second: 10 nodes).\n",
    "\n",
    "I trained the networks with training data, and measured their success with test data.\n",
    "\n",
    "// in Moodle discussions, it is told by the assistants that we can use test data to measure in question 7.\n",
    "\n",
    "Default hidden layer param (1 layer, 100 nodes) being the best might mean that the data is not that complicated, and using one layer is enough.\n",
    "    \n",
    "    However, I could have trained the network with many different combinations of layer formations, and get a better result. Luckily, we were told in the Moodle again that the point is experimenting with the different parameters.\n",
    "    If there were more computational resources, more could be experimented.\n",
    "    \n",
    "For activation function, I tried one linear(identity) and one nonlinear(relu).\n",
    "\n",
    "It is determined by many runs that the relu gives better results overall.\n",
    "\n",
    "!! Note that success of a trained model is determined by the score function of neural network(from scikit library), which is nothing more than this formula below:\n",
    "\n",
    "    (number of correct predictions) / (number of total predictions)"
   ]
  },
  {
   "cell_type": "markdown",
   "metadata": {},
   "source": [
    "7. (c.iv) Which model do you recommend to be used as your classifier and why? (with respect to the number of hidden layer and activation function (linear or nonlinear))"
   ]
  },
  {
   "cell_type": "markdown",
   "metadata": {},
   "source": [
    "Explanation:\n",
    "\n",
    "Based on the many trial-and-error I did to train a network and measure their success:\n",
    "\n",
    "    I recommend using the relu function as activation function,\n",
    "\n",
    "    and again recommend default parameter as hidden layer formation to be used."
   ]
  },
  {
   "cell_type": "markdown",
   "metadata": {},
   "source": [
    "## Analysing the quality of the prediction models"
   ]
  },
  {
   "cell_type": "markdown",
   "metadata": {},
   "source": [
    "### Question 8 (Evaluation metrics)"
   ]
  },
  {
   "cell_type": "markdown",
   "metadata": {},
   "source": [
    "8. (a) Calculate the following metrics for the model 7. (c, i) and the logistic regression with all the initial attributes in question 6 (c):"
   ]
  },
  {
   "cell_type": "markdown",
   "metadata": {},
   "source": [
    "- Confusion matrices on the training data"
   ]
  },
  {
   "cell_type": "code",
   "execution_count": null,
   "metadata": {},
   "outputs": [
    {
     "name": "stdout",
     "output_type": "stream",
     "text": [
      "Set1 - Logistic Regression:\n",
      "[[6751 3249]\n",
      " [1217 6624]]\n",
      "\n",
      "Set2 - Logistic Regression:\n",
      "[[7926 2074]\n",
      " [3240 4601]]\n",
      "\n",
      "SetOriginal - Logistic Regression: (all the attributes)\n",
      "[[8132 1868]\n",
      " [1554 6287]]\n",
      "\n"
     ]
    }
   ],
   "source": [
    "# your code for the confusion matrices on the training data\n",
    "print(\"Set1 - Logistic Regression:\")\n",
    "result1Training, metric1Training, accuracy1Training = resultTester(LR1, set1Modified, labels)\n",
    "print()\n",
    "\n",
    "print(\"Set2 - Logistic Regression:\")\n",
    "result2Training, metric2Training, accuracy2Training = resultTester(LR2, set2Modified, labels)\n",
    "print()\n",
    "\n",
    "print(\"SetOriginal - Logistic Regression: (all the attributes)\")\n",
    "resultOrigTraining, metricOrigTraining, accuracyOrigTraining = resultTester(LROrig, allDataModified, labels)\n",
    "print()\n",
    "\n",
    "allFeatures = ['age', 'workclass', 'education', 'education-num', 'marital-status', 'occupation', \\\n",
    "               'relationship', 'race', 'sex', 'hours-per-week', 'native-country']\n",
    "trainLabels = getLabels(allData)\n",
    "testLabels = getLabels(allTestData)\n",
    "_trainSet = normalizeCategorizeClean(allData, categoricalFeatures, numericalFeatures, allFeatures)\n",
    "_testSet = normalizeCategorizeClean(allTestData, categoricalFeatures, numericalFeatures, allFeatures)\n",
    "\n",
    "defaultModel = MLPClassifier()\n",
    "trainedModel = defaultModel.fit(_trainSet, trainLabels)\n",
    "predictDefaultTrain = trainedModel.predict(_trainSet)\n",
    "confusionDefaultTrain = confusion_matrix(predictionDefaultTrain, trainLabels)\n",
    "print(\"Default NN - Train Data:\")\n",
    "print(confusionDefaultTrain)"
   ]
  },
  {
   "cell_type": "markdown",
   "metadata": {},
   "source": [
    "- Confusion matrices on the test data"
   ]
  },
  {
   "cell_type": "code",
   "execution_count": 132,
   "metadata": {},
   "outputs": [
    {
     "name": "stdout",
     "output_type": "stream",
     "text": [
      "[[8430 4005]\n",
      " [ 577 3269]]\n",
      "\n",
      "[[9850 2585]\n",
      " [1596 2250]]\n",
      "\n",
      "[[10078  2357]\n",
      " [  794  3052]]\n",
      "\n"
     ]
    }
   ],
   "source": [
    "# your code for the confusion matrices on the test data\n",
    "testSet1 = allTestData[set1Features]\n",
    "testSet2 = allTestData[set2Features]\n",
    "testSetOrig = allTestData[set2Features]\n",
    "testLabels = getLabels(allTestData)\n",
    "\n",
    "set1Test = modifyCategoricalFeatures(testSet1, set1Categoricals, set1Numerics, set1Features)\n",
    "set2Test = modifyCategoricalFeatures(testSet2, set2Categoricals, set2Numerics, set2Features)\n",
    "setOrigTest = modifyCategoricalFeatures(allTestData, allDataCategoricals, allDataNumerics, allDataFeatures)\n",
    "\n",
    "result1Test, metric1Test, accuracy1Test= resultTester(LR1, set1Test, testLabels)\n",
    "print()\n",
    "result2Test, metric2Test, accuracy2Test = resultTester(LR2, set2Test, testLabels)\n",
    "print()\n",
    "resultOrigTest, metricOrigTest, accuracyOrigTest = resultTester(LROrig, setOrigTest, testLabels)\n",
    "print()\n",
    "\n",
    "\n",
    "\n"
   ]
  },
  {
   "cell_type": "markdown",
   "metadata": {},
   "source": [
    "- Precision, recall and F1-scores on the test data"
   ]
  },
  {
   "cell_type": "code",
   "execution_count": 118,
   "metadata": {},
   "outputs": [
    {
     "name": "stdout",
     "output_type": "stream",
     "text": [
      "              precision    recall  f1-score   support\n",
      "\n",
      "       <=50K       0.94      0.68      0.79     12435\n",
      "        >50K       0.45      0.85      0.59      3846\n",
      "\n",
      "   micro avg       0.72      0.72      0.72     16281\n",
      "   macro avg       0.69      0.76      0.69     16281\n",
      "weighted avg       0.82      0.72      0.74     16281\n",
      "\n",
      "\n",
      "              precision    recall  f1-score   support\n",
      "\n",
      "       <=50K       0.94      0.68      0.79     12435\n",
      "        >50K       0.45      0.85      0.59      3846\n",
      "\n",
      "   micro avg       0.72      0.72      0.72     16281\n",
      "   macro avg       0.69      0.76      0.69     16281\n",
      "weighted avg       0.82      0.72      0.74     16281\n",
      "\n",
      "\n",
      "              precision    recall  f1-score   support\n",
      "\n",
      "       <=50K       0.93      0.81      0.86     12435\n",
      "        >50K       0.56      0.79      0.66      3846\n",
      "\n",
      "   micro avg       0.81      0.81      0.81     16281\n",
      "   macro avg       0.75      0.80      0.76     16281\n",
      "weighted avg       0.84      0.81      0.82     16281\n",
      "\n"
     ]
    }
   ],
   "source": [
    "# your code for precision, recall and F1-scores on the test data\n",
    "print(metric1Test)\n",
    "print()\n",
    "print(metric1Test)\n",
    "print()\n",
    "print(metricOrigTest)"
   ]
  },
  {
   "cell_type": "markdown",
   "metadata": {},
   "source": [
    "- Accuracy scores on training and test data"
   ]
  },
  {
   "cell_type": "code",
   "execution_count": 126,
   "metadata": {},
   "outputs": [
    {
     "name": "stdout",
     "output_type": "stream",
     "text": [
      "accuracy1Training    :  0.7496777086486184\n",
      "accuracy2Training    :  0.7021467406535508\n",
      "accuracyOrigTraining :  0.8081946079255647\n",
      "\n",
      "accuracy1Test        :  0.7185676555494134\n",
      "accuracy2Test        :  0.7431975922854861\n",
      "accuracyOrigTest     :  0.8064615195626804\n"
     ]
    }
   ],
   "source": [
    "# your code for accuracy scores on training and test data\n",
    "print(\"accuracy1Training    : \", accuracy1Training)\n",
    "print(\"accuracy2Training    : \", accuracy2Training)\n",
    "print(\"accuracyOrigTraining : \", accuracyOrigTraining)\n",
    "print()\n",
    "\n",
    "print(\"accuracy1Test        : \", accuracy1Test)\n",
    "print(\"accuracy2Test        : \", accuracy2Test)\n",
    "print(\"accuracyOrigTest     : \", accuracyOrigTest)"
   ]
  },
  {
   "cell_type": "markdown",
   "metadata": {},
   "source": [
    "In order to turn numbers into insights, please comment on your findings. Motivate the answers to the following questions using the metrics and the findings in the questions 1 through 7."
   ]
  },
  {
   "cell_type": "markdown",
   "metadata": {},
   "source": [
    "8. (b) What is, in your opinion, the best model? Motivate your answer with the correct performance metrics."
   ]
  },
  {
   "cell_type": "markdown",
   "metadata": {},
   "source": [
    "Explanation:"
   ]
  },
  {
   "cell_type": "markdown",
   "metadata": {},
   "source": [
    "8. (c) Does any model suffer from underfitting or overfitting? Motivate your answer with the correct performance metrics."
   ]
  },
  {
   "cell_type": "markdown",
   "metadata": {},
   "source": [
    "Explanation:"
   ]
  },
  {
   "cell_type": "markdown",
   "metadata": {},
   "source": [
    "8. (d) In the hypothesis that a separate validation set is not available, how would you proceed in evaluating a model? Refer to the evaluation techniques seen in the lectures."
   ]
  },
  {
   "cell_type": "markdown",
   "metadata": {},
   "source": [
    "Explanation:"
   ]
  }
 ],
 "metadata": {
  "kernelspec": {
   "display_name": "Python 3",
   "language": "python",
   "name": "python3"
  },
  "language_info": {
   "codemirror_mode": {
    "name": "ipython",
    "version": 3
   },
   "file_extension": ".py",
   "mimetype": "text/x-python",
   "name": "python",
   "nbconvert_exporter": "python",
   "pygments_lexer": "ipython3",
   "version": "3.6.7"
  }
 },
 "nbformat": 4,
 "nbformat_minor": 2
}
