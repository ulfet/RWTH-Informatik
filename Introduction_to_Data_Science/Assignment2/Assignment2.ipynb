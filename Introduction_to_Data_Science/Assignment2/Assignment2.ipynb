{
 "cells": [
  {
   "cell_type": "markdown",
   "metadata": {
    "colab_type": "text",
    "id": "ZiWHjXgvEChM"
   },
   "source": [
    "# IDS Assignment 2\n",
    "Document your results as well as the way you obtained them in this jupyter notebook. A seperate report (pdf, word etc.) is _not_ required. However, it is necessary that you provide the python code leading to your results as well as textual answers to the assignment questions in this notebook. \n",
    "\n",
    "Do not change the general structure of this notebook, but you can add further markdown or code cells to explain your solutions if necessary. In the end, submit this file in moodle."
   ]
  },
  {
   "cell_type": "markdown",
   "metadata": {
    "colab_type": "text",
    "id": "3pftdbPtBam4"
   },
   "source": [
    "# Preprocessing and Data Quality \n"
   ]
  },
  {
   "cell_type": "markdown",
   "metadata": {
    "colab_type": "text",
    "id": "fLUecg7SFaoG"
   },
   "source": [
    "###Question 1 (Order cancellations)\n",
    "Invoices with a InvoiceNo starting with the letter ‘c’ are order cancellations. Would you recommend keeping the order cancellation in your data set? Also provide a reason for your recommandation. "
   ]
  },
  {
   "cell_type": "markdown",
   "metadata": {
    "colab_type": "text",
    "id": "xkSmAfDFFycc"
   },
   "source": [
    "Your answer:\n",
    "\n",
    "In my opinion, the cancelled invoices should be discarded.\n",
    "\n",
    "The reason for this decision is that the cancelled invoices do not contribute to the buyers' shopping behaviors.\n",
    "\n",
    "\n",
    "If the point of this analyze is to find why people cancel their orders, then only cancelled invoices should be included and not successful ones should be discarded: this way, we can analyze why an order is cancelled and what can be done to prevent it, increasing the revenue.\n",
    "\n",
    "However, we want to analyze the consumer behavior, and cancelled invoices can be thrown out of the equation, for the reasons stated above."
   ]
  },
  {
   "cell_type": "code",
   "execution_count": 1,
   "metadata": {
    "colab": {},
    "colab_type": "code",
    "id": "5RokWgJyF10J"
   },
   "outputs": [
    {
     "name": "stdout",
     "output_type": "stream",
     "text": [
      "Read Excel File [DONE]\n"
     ]
    }
   ],
   "source": [
    "#Modify the data set according to your recommendation\n",
    "import numpy as np\n",
    "import pandas as pd\n",
    "\n",
    "# it takes some time to read excel file(23 MB)\n",
    "fileName = \"Online Retail.xlsx\"\n",
    "df = pd.read_excel(fileName, sheet_name=None)\n",
    "df = df[\"Online Retail\"]\n",
    "print(\"Read Excel File [DONE]\")"
   ]
  },
  {
   "cell_type": "code",
   "execution_count": 2,
   "metadata": {},
   "outputs": [
    {
     "name": "stdout",
     "output_type": "stream",
     "text": [
      "All      :  541909\n",
      "Uniques  :  25900\n",
      "\n",
      "Cancelled:  9288\n",
      "Uniques  :  3836\n",
      "Uniq Ratio:  0.14810810810810812\n",
      "\n",
      "Use: acceptedInvoices, length:  532621\n"
     ]
    }
   ],
   "source": [
    "allInvoices = df[\"InvoiceNo\"];\n",
    "print(\"All      : \", len(allInvoices))\n",
    "print(\"Uniques  : \", int(allInvoices.nunique()))\n",
    "print()\n",
    "\n",
    "startingWithC = [str(invoiceNo)[1:] \\\n",
    "                 for index,invoiceNo in df[\"InvoiceNo\"].iteritems() if str(invoiceNo)[0] == \"C\"]\n",
    "startingWithC = pd.DataFrame(startingWithC, columns = [\"InvoiceNo\"] )\n",
    "print(\"Cancelled: \", len(startingWithC))\n",
    "print(\"Uniques  : \", int(startingWithC.nunique()))\n",
    "type(startingWithC.nunique())\n",
    "\n",
    "print(\"Uniq Ratio: \", float(int(startingWithC.nunique())) / int(allInvoices.nunique()) )\n",
    "\n",
    "\n",
    "acceptedInvoices = df[ df[\"InvoiceNo\"].astype(str).str.contains('C') == False ]\n",
    "\n",
    "print()\n",
    "print(\"Use: acceptedInvoices, length: \", len(acceptedInvoices))\n"
   ]
  },
  {
   "cell_type": "markdown",
   "metadata": {
    "colab_type": "text",
    "id": "OugGYUj3HCcD"
   },
   "source": [
    "###Question 2 (Empty values)\n",
    "The attributes Description and CustomerID contain empty values. The Country attribute contains an “unspecified” value. For each of the three attributes reason how you would handle these values and why. "
   ]
  },
  {
   "cell_type": "markdown",
   "metadata": {
    "colab_type": "text",
    "id": "4VQ4ArG8IYhE"
   },
   "source": [
    "Your answer:\n",
    "\n",
    "These are the number of rows that contain empty or \"unspecified\" value in the dataset, respective of the field that they contain those values: <br>\n",
    "Desc, ID, Country:  \n",
    "1454 133243 244\n",
    "\n",
    "My decision would be to remove the rows that has missing or unspecified values. <br>\n",
    "Number of rows before deleting: 532621 <br>\n",
    "Number of rows after deleting : 397680\n",
    "\n",
    "First of all, those that are deleted only contribute to the 25.3% of the total number of the rows. <br>\n",
    "That is to say, they do not hurt the completeness that much.\n",
    "\n",
    "Furthermore, analyzing each field:\n",
    "\n",
    "Description: this field would be important in assessing what a specific product ID points to. <br>\n",
    "Having this field empty means we might find a product ID that is sold extensively, yet, <br>\n",
    "we cannot pinpoint what this product is, diminishing our effects.\n",
    "\n",
    "\n",
    "CustomerID: although CustomerID field may not effect our work on finding the customer behavior of the whole, I decided it is better to remove them. <br>\n",
    "The reason for this is that, I might need customer ID to tailor targeted ads to a specific customer. <br>\n",
    "However, without having CustomerID field intact, I cannot produce this information. <br>\n",
    "(all assuming that this data is collected with customers' written consent and it does not violate any laws in any way when tailoring targeted ads to customers.)\n",
    "\n",
    "Country: The data might be used to find the customer behavior of a specific country. <br>\n",
    "(in fact, later in the assignment we check for \"United Kingdom\"'s customer behavior) <br>\n",
    "For this reason, rows without their country stated will not help us in our cause, leading to removal of those rows."
   ]
  },
  {
   "cell_type": "code",
   "execution_count": 3,
   "metadata": {
    "colab": {},
    "colab_type": "code",
    "id": "k8c855xlILgG",
    "scrolled": true
   },
   "outputs": [
    {
     "name": "stdout",
     "output_type": "stream",
     "text": [
      "Full     :  532621\n",
      "0\n",
      "100000\n",
      "200000\n",
      "300000\n",
      "400000\n",
      "500000\n",
      "Pass Desc, ID, Country:  1454 133243 244\n",
      "Eliminated: 397680\n"
     ]
    }
   ],
   "source": [
    "#Modify the data set according to your recommendation\n",
    "from copy import deepcopy\n",
    "\n",
    "def handleValuesSpitNewDataset2(pandaObject):\n",
    "    deepCopied = pandaObject\n",
    "    featureList = deepCopied.columns\n",
    "    print(\"Full     : \", len(deepCopied))\n",
    "    \n",
    "    acceptedRows = []\n",
    "    passDesc = 0\n",
    "    passID = 0\n",
    "    passCountry = 0\n",
    "    for index, row in deepCopied.iterrows():\n",
    "        if index % 100000 == 0:\n",
    "            print(index)\n",
    "        \n",
    "        # empty Description feature\n",
    "        desc = row[\"Description\"]\n",
    "        if isinstance(desc, str): # string valid\n",
    "            pass\n",
    "        elif np.isnan(desc): # nan invalid\n",
    "            passDesc += 1\n",
    "            continue\n",
    "        else: # uncaught type, allow\n",
    "            pass\n",
    "        \n",
    "        # empty CustomerID feature\n",
    "        cid = row[\"CustomerID\"]\n",
    "        if np.isnan(cid): # nan invalid\n",
    "            passID += 1\n",
    "            continue\n",
    "        else: # uncaught type, allow\n",
    "            pass\n",
    "        \n",
    "        country = row[\"Country\"]\n",
    "        if country == \"Unspecified\":\n",
    "            passCountry += 1\n",
    "            continue\n",
    "        else:\n",
    "            pass\n",
    "        \n",
    "        acceptedRows.append(row)\n",
    "\n",
    "    print(\"Pass Desc, ID, Country: \", passDesc, passID, passCountry )\n",
    "    \n",
    "    deepCopied = pd.DataFrame(acceptedRows, columns = featureList)\n",
    "    print(\"Eliminated:\", len(deepCopied))\n",
    "    \n",
    "    return deepCopied\n",
    "\n",
    "handledDataset = handleValuesSpitNewDataset2(acceptedInvoices)"
   ]
  },
  {
   "cell_type": "markdown",
   "metadata": {
    "colab_type": "text",
    "id": "q491HYdbIq8T"
   },
   "source": [
    "###Question 3 (Outliers/Noise)\n",
    "Explore into the attributes Quantity and UnitPrice by plotting each attribute visually. Do these attributes contain noise and/or outliers? If so, reason how you would handle them and modify your data set accordingly.\n"
   ]
  },
  {
   "cell_type": "code",
   "execution_count": 4,
   "metadata": {
    "colab": {},
    "colab_type": "code",
    "id": "-bOdS-GsJPn3"
   },
   "outputs": [
    {
     "name": "stdout",
     "output_type": "stream",
     "text": [
      "Whiskers for quantity:  [1.0, 27.0]\n",
      "Whiskers for unitPrice:  [0.0, 7.5]\n"
     ]
    },
    {
     "data": {
      "image/png": "[encoded data removed]",
      "text/plain": [
       "<Figure size 432x288 with 2 Axes>"
      ]
     },
     "metadata": {
      "needs_background": "light"
     },
     "output_type": "display_data"
    },
    {
     "data": {
      "image/png": "[encoded data removed]",
      "text/plain": [
       "<Figure size 432x288 with 2 Axes>"
      ]
     },
     "metadata": {
      "needs_background": "light"
     },
     "output_type": "display_data"
    }
   ],
   "source": [
    "#Your code\n",
    "%matplotlib inline\n",
    "import matplotlib.pyplot as plt\n",
    "from copy import deepcopy\n",
    "import seaborn as sns\n",
    "\n",
    "def getWhiskers(boxplotObject):\n",
    "    whiskersList = []\n",
    "    for internalRepresentation in boxplotObject['whiskers']:\n",
    "        oneWhisker = internalRepresentation.get_ydata()\n",
    "        # oneWhisker format = [lastValue in rectangle box, whiskerValue]\n",
    "        # we need whiskerValue here\n",
    "        whiskerValue = oneWhisker[1]\n",
    "        whiskersList.append(whiskerValue)\n",
    "    return sorted(whiskersList)\n",
    "\n",
    "def drawBoxplots(pandaObject):\n",
    "    fig2, axs2 = plt.subplots(1,2)\n",
    "    fig3, axs3 = plt.subplots(1,2)\n",
    "    \n",
    "    plotQuantity = pandaObject.boxplot(column=[\"Quantity\"], return_type=\"dict\", ax= axs2[0])\n",
    "    quantityWhiskers = getWhiskers(plotQuantity)\n",
    "    print(\"Whiskers for quantity: \", quantityWhiskers)\n",
    "    \n",
    "    plotUnitPrice = pandaObject.boxplot(column=[\"UnitPrice\"], return_type=\"dict\", ax=axs2[1])\n",
    "    unitPriceWhiskers = getWhiskers(plotUnitPrice)\n",
    "    print(\"Whiskers for unitPrice: \", unitPriceWhiskers)\n",
    "    \n",
    "    sns.distplot(pandaObject[\"Quantity\"], bins=12, ax=axs3[0])\n",
    "    sns.distplot(pandaObject[\"UnitPrice\"], bins=5, ax=axs3[1])\n",
    "    \n",
    "        \n",
    "def clearOutliers(pandaObject, _featureList):\n",
    "    # find whisker values\n",
    "    plotQuantity = pandaObject.boxplot(column=[\"Quantity\"], return_type=\"dict\")\n",
    "    quantityWhiskers = getWhiskers(plotQuantity)\n",
    "    # print(\"Whiskers for quantity: \", quantityWhiskers)\n",
    "    \n",
    "    plotUnitPrice = pandaObject.boxplot(column=[\"UnitPrice\"], return_type=\"dict\")\n",
    "    unitPriceWhiskers = getWhiskers(plotUnitPrice)\n",
    "    # print(\"Whiskers for unitPrice: \", unitPriceWhiskers)\n",
    "    \n",
    "    # deep copy the structure, to be on the safe side\n",
    "    deepCopiedPanda = deepcopy(pandaObject)\n",
    "    \n",
    "    # remove outliers for \"Quantity\"\n",
    "    qLow, qHigh = quantityWhiskers\n",
    "    deepCopiedPanda = deepCopiedPanda[ deepCopiedPanda[\"Quantity\"] >= qLow ]\n",
    "    deepCopiedPanda = deepCopiedPanda[ deepCopiedPanda[\"Quantity\"] <= qHigh ]\n",
    "    \n",
    "    # remove outliers for \"UnitPrice\"\n",
    "    unitLow, unitHigh = unitPriceWhiskers\n",
    "    deepCopiedPanda = deepCopiedPanda[deepCopiedPanda[\"UnitPrice\"] >= unitLow ]\n",
    "    deepCopiedPanda = deepCopiedPanda[deepCopiedPanda[\"UnitPrice\"] <= unitHigh ]\n",
    "    \n",
    "    # return the filtered panda set\n",
    "    return deepCopiedPanda\n",
    "\n",
    "# this graphs below are before removing outliers\n",
    "drawBoxplots(handledDataset)"
   ]
  },
  {
   "cell_type": "code",
   "execution_count": 5,
   "metadata": {},
   "outputs": [
    {
     "name": "stdout",
     "output_type": "stream",
     "text": [
      "Whiskers for quantity:  [1.0, 27.0]\n",
      "Whiskers for unitPrice:  [0.0, 5.49]\n",
      "337969\n"
     ]
    },
    {
     "data": {
      "image/png": "[encoded data removed]",
      "text/plain": [
       "<Figure size 432x288 with 1 Axes>"
      ]
     },
     "metadata": {
      "needs_background": "light"
     },
     "output_type": "display_data"
    },
    {
     "data": {
      "image/png": "[encoded data removed]",
      "text/plain": [
       "<Figure size 432x288 with 2 Axes>"
      ]
     },
     "metadata": {
      "needs_background": "light"
     },
     "output_type": "display_data"
    },
    {
     "data": {
      "image/png": "[encoded data removed]",
      "text/plain": [
       "<Figure size 432x288 with 2 Axes>"
      ]
     },
     "metadata": {
      "needs_background": "light"
     },
     "output_type": "display_data"
    }
   ],
   "source": [
    "# this graphs below are after removing outliers\n",
    "clearedDataset = clearOutliers(handledDataset, [\"Quantity\", \"UnitPrice\"])\n",
    "drawBoxplots(clearedDataset)\n",
    "print(len(clearedDataset))"
   ]
  },
  {
   "attachments": {},
   "cell_type": "markdown",
   "metadata": {
    "colab_type": "text",
    "id": "GEMVC1cfJUec"
   },
   "source": [
    "Your explanation:\n",
    "\n",
    "Attributes Quantity and UnitPrice sure contains noise.<br>\n",
    "Some examples: <br>\n",
    "* Invoice that is not cancelled, yet has enormous value in Quantity field  (there are a lot of rows)<br>\n",
    "556690\t23005\tprinting smudges/thrown away\t-9600\t6/14/2011 10:37\t0\t\tUnited Kingdom <br>\n",
    "* UnitPrice of 0 (there are a lot of rows) <br>\n",
    "537197\t22841\tROUND CAKE TIN VINTAGE GREEN\t1\t12/5/2010 14:02\t0\t12647\tGermany\n",
    "\n",
    "Attributes Quantity and UnitPrice sure also contains outliers.<br>\n",
    "(look at the graphs two cells above)\n",
    "\n",
    "I will just stick to the old classic outlier removal method (standard quartile and whisker measures used).\n",
    "After removing outliers, it is visible in the cell above that both Quantity and UnitPrice columns are cleaned of negative values, zero values, or enormous values.\n",
    "\n",
    "So no extra operation is applied on the dataset."
   ]
  },
  {
   "cell_type": "markdown",
   "metadata": {
    "colab_type": "text",
    "id": "jxkDUfn3Lehi"
   },
   "source": [
    "#Visualization\n",
    "\n",
    "Unfortunately, visualization is done in the cells above. <br>\n",
    "Please refer to them, not this cell."
   ]
  },
  {
   "cell_type": "markdown",
   "metadata": {
    "colab_type": "text",
    "id": "eTMS8jZIL2s_"
   },
   "source": [
    "###Question 4 (Stream graph)\n",
    "Create a stream graph that visualizes the number  of purchases (invoices) per country over time.\n",
    "\n",
    "4. (a) Modify the data set to only contain purchases made in the countries Belgium, Ireland (EIRE), France, Germany, the Netherlands, Norway, Portugal, Spain and Switzerland."
   ]
  },
  {
   "cell_type": "code",
   "execution_count": 6,
   "metadata": {
    "colab": {},
    "colab_type": "code",
    "id": "Ij3QO-Y_MR3A"
   },
   "outputs": [
    {
     "name": "stdout",
     "output_type": "stream",
     "text": [
      "27611\n",
      "['Belgium' 'EIRE' 'France' 'Germany' 'Netherlands' 'Norway' 'Portugal'\n",
      " 'Spain' 'Switzerland']\n"
     ]
    }
   ],
   "source": [
    "#your modification\n",
    "def countryFilterSpitNew(pandaObject, countryList):\n",
    "    acceptedRows = []\n",
    "    for index, row in pandaObject.iterrows():\n",
    "        if row[\"Country\"] in countryList:\n",
    "            acceptedRows.append(row)\n",
    "    newObject = pd.DataFrame(acceptedRows, columns = pandaObject.columns)\n",
    "    return newObject\n",
    "\n",
    "cList = [\"Belgium\", \"EIRE\", \"France\", \"Germany\",\n",
    "         \"Netherlands\", \"Norway\", \"Portugal\", \"Spain\", \"Switzerland\"]\n",
    "cFilteredDataset = countryFilterSpitNew(clearedDataset, cList)\n",
    "\n",
    "print(len(cFilteredDataset))\n",
    "countries = cFilteredDataset[\"Country\"].unique()\n",
    "countries.sort()\n",
    "print(countries)"
   ]
  },
  {
   "cell_type": "markdown",
   "metadata": {
    "colab_type": "text",
    "id": "jQTj0TziMUBu"
   },
   "source": [
    "4. (b) Modify the data set such that it shows per month for each country how many purchases were made (i.e. how many invoices were created)."
   ]
  },
  {
   "cell_type": "code",
   "execution_count": 7,
   "metadata": {
    "colab": {},
    "colab_type": "code",
    "id": "ADMbVAjOMY-7"
   },
   "outputs": [
    {
     "name": "stdout",
     "output_type": "stream",
     "text": [
      "27611\n",
      "1390\n"
     ]
    }
   ],
   "source": [
    "#your modification\n",
    "monthsNameDict = { \n",
    "    1: 'January', 2: 'February', 3 : 'March', 4 : 'April',\n",
    "    5 : 'May',6 : 'June', 7 : 'July', 8 : 'August', \n",
    "    9 : 'September', 10 : 'October', 11 : 'November', 12 : 'December'\n",
    "}\n",
    "monthNameList = ['January', 'February', 'March', 'April',\n",
    "    'May','June', 'July', 'August', \n",
    "    'September', 'October', 'November', 'December']\n",
    "\n",
    "monthsIntList = [0,1,2,3,4,5,6,7,8,9,10,11,12]\n",
    "\n",
    "def groupCountryMonth(pandaObject, countryList):\n",
    "    cDict = {}\n",
    "    # generate country-month-purchases dictionary\n",
    "    for c in countryList:\n",
    "        cDict[c] = {}\n",
    "        for i in range(1,13):\n",
    "            cDict[c][monthsNameDict[i]] = 0\n",
    "    \n",
    "    invoiceList = []\n",
    "    for index, row in pandaObject.iterrows():\n",
    "        # format: 12/1/2010 9:09\n",
    "        monthInt = row[\"InvoiceDate\"].month\n",
    "        monthName = monthsNameDict[monthInt]\n",
    "        country = row[\"Country\"]\n",
    "        \n",
    "        # invoice has to be unique\n",
    "        invoiceNo = row[\"InvoiceNo\"]\n",
    "        if invoiceNo not in invoiceList:\n",
    "            cDict[country][monthName] = cDict[country][monthName] + 1\n",
    "            invoiceList.append(invoiceNo)\n",
    "    \n",
    "    return cDict\n",
    "\n",
    "print(len(cFilteredDataset))\n",
    "CMDict = groupCountryMonth(cFilteredDataset, cList)\n",
    "\n",
    "tot = 0\n",
    "for x in CMDict:\n",
    "    for y in CMDict[x]:\n",
    "         tot += CMDict[x][y]\n",
    "print(tot)"
   ]
  },
  {
   "cell_type": "markdown",
   "metadata": {
    "colab_type": "text",
    "id": "odTJGKrRMcwG"
   },
   "source": [
    "4. (c) Use the modified data to create a stream graph. "
   ]
  },
  {
   "cell_type": "code",
   "execution_count": 8,
   "metadata": {
    "colab": {},
    "colab_type": "code",
    "id": "V34Z_doDMg7W"
   },
   "outputs": [
    {
     "name": "stdout",
     "output_type": "stream",
     "text": [
      "{'Belgium': [3, 8, 9, 6, 8, 11, 5, 8, 6, 11, 9, 9], 'EIRE': [7, 9, 18, 11, 18, 23, 19, 16, 31, 26, 37, 23], 'France': [27, 21, 24, 11, 36, 28, 22, 24, 43, 28, 61, 37], 'Germany': [30, 18, 30, 19, 40, 23, 31, 36, 40, 54, 61, 44], 'Netherlands': [3, 4, 7, 2, 7, 10, 1, 3, 7, 8, 9, 4], 'Norway': [0, 2, 3, 0, 0, 3, 1, 2, 6, 7, 5, 5], 'Portugal': [4, 2, 4, 2, 1, 3, 3, 1, 3, 6, 7, 10], 'Spain': [7, 4, 7, 3, 4, 8, 8, 9, 8, 8, 12, 5], 'Switzerland': [3, 4, 2, 2, 3, 4, 5, 3, 5, 5, 5, 2]}\n"
     ]
    }
   ],
   "source": [
    "#your code\n",
    "country_MonthList_Dict = {}\n",
    "# for country in cList:\n",
    "#     print(country + \" :\",)\n",
    "#     for month in monthNameList:\n",
    "#         print(\"\t\", month, \":\", CMDict[country][month])\n",
    "#     print()\n",
    "    \n",
    "for country in cList:\n",
    "    country_MonthList_Dict[country] = []\n",
    "    for month in monthNameList:\n",
    "        country_MonthList_Dict[country].append( CMDict[country][month] )\n",
    "print(country_MonthList_Dict)"
   ]
  },
  {
   "cell_type": "code",
   "execution_count": 9,
   "metadata": {},
   "outputs": [
    {
     "data": {
      "image/png": "[encoded data removed]",
      "text/plain": [
       "<Figure size 432x288 with 1 Axes>"
      ]
     },
     "metadata": {
      "needs_background": "light"
     },
     "output_type": "display_data"
    },
    {
     "data": {
      "text/plain": [
       "[<matplotlib.collections.PolyCollection at 0x7fa30f5be9b0>,\n",
       " <matplotlib.collections.PolyCollection at 0x7fa30f5bebe0>,\n",
       " <matplotlib.collections.PolyCollection at 0x7fa30f5beef0>,\n",
       " <matplotlib.collections.PolyCollection at 0x7fa30f5bed30>,\n",
       " <matplotlib.collections.PolyCollection at 0x7fa30f5ae400>,\n",
       " <matplotlib.collections.PolyCollection at 0x7fa30f5ae668>,\n",
       " <matplotlib.collections.PolyCollection at 0x7fa30f5ae8d0>,\n",
       " <matplotlib.collections.PolyCollection at 0x7fa30f5aeb38>,\n",
       " <matplotlib.collections.PolyCollection at 0x7fa30f5aeda0>]"
      ]
     },
     "execution_count": 9,
     "metadata": {},
     "output_type": "execute_result"
    },
    {
     "data": {
      "image/png": "[encoded data removed]",
      "text/plain": [
       "<Figure size 432x288 with 1 Axes>"
      ]
     },
     "metadata": {
      "needs_background": "light"
     },
     "output_type": "display_data"
    }
   ],
   "source": [
    "import numpy as np\n",
    "import matplotlib.pyplot as plt\n",
    "\n",
    "allCMList = []\n",
    "for country in cList:\n",
    "    allCMList.append(country_MonthList_Dict[country])\n",
    "    \n",
    "Belgium =  country_MonthList_Dict[\"Belgium\"]\n",
    "EIRE = country_MonthList_Dict[\"EIRE\"]\n",
    "France = country_MonthList_Dict[\"France\"]\n",
    "Germany = country_MonthList_Dict[\"Germany\"]\n",
    "Netherlands=  country_MonthList_Dict[\"Netherlands\"]\n",
    "Norway = country_MonthList_Dict[\"Norway\"]\n",
    "Portugal= country_MonthList_Dict[\"Portugal\"] \n",
    "Spain = country_MonthList_Dict[\"Spain\"]\n",
    "Switzerland = country_MonthList_Dict[\"Switzerland\"]\n",
    "\n",
    "x = ['Jan', 'Feb', 'Mar', 'Apr',\n",
    "    'May','Jun', 'Jul', 'Aug', \n",
    "    'Sept', 'Oct', 'Nov', 'Dec']\n",
    "y = np.vstack(\n",
    "    [Belgium, EIRE, France, Germany, \n",
    "     Netherlands, Norway, Portugal, \n",
    "     Spain, Switzerland]\n",
    ")\n",
    "\n",
    "labels = [\"Belgium\", \"EIRE\", \"France\", \"Germany\",\n",
    "          \"Netherlands\", \"Norway\", \"Portugal\", \n",
    "           \"Spain\", \"Switzerland\"]\n",
    "\n",
    "fig, ax = plt.subplots()\n",
    "ax.stackplot(x, \n",
    "             Belgium, EIRE, France, Germany, \n",
    "             Netherlands, Norway, Portugal, \n",
    "             Spain, Switzerland, \n",
    "             labels=labels)\n",
    "ax.legend(loc='upper left')\n",
    "plt.show()\n",
    "\n",
    "fig, ax = plt.subplots()\n",
    "ax.stackplot(x, y)"
   ]
  },
  {
   "cell_type": "markdown",
   "metadata": {
    "colab_type": "text",
    "id": "XXdSd-59Miy8"
   },
   "source": [
    "4. (d) Use this graph to compare the purchases made by each country. "
   ]
  },
  {
   "cell_type": "markdown",
   "metadata": {
    "colab_type": "text",
    "id": "SutofybpMrKN"
   },
   "source": [
    "Your answer:\n",
    "\n",
    "It can be seen from the graph that the Germany dominates the number of invoices created. <br>\n",
    "Then comes the France and and EIRE, sharing the top 3 places. <br>\n",
    "\n",
    "The remaining countries, compared to top 3, are relatively small in their number of invoices created, individually. <br>\n",
    "\n",
    "The order of the remaining ones based on their number of invoices created is as follows(decreasing order):<br>\n",
    "Belgium, Spain, Netherlands, Portugal, Switzerland, Norway. <br>\n",
    "\n",
    "\n",
    "For a full list:\n",
    "* Germany 426\n",
    "* France 362\n",
    "* EIRE 238\n",
    "* Belgium 93\n",
    "* Spain 83\n",
    "* Netherlands 65\n",
    "* Portugal 46\n",
    "* Switzerland 43\n",
    "* Norway 34\n",
    "\n",
    "One can also find country-month-number_of_invoice_created relation here:\n",
    "\n",
    "{ <br>\n",
    "\n",
    "    'Belgium': [3, 8, 9, 6, 8, 11, 5, 8, 6, 11, 9, 9],\n",
    "    'EIRE': [7, 9, 18, 11, 18, 23, 19, 16, 31, 26, 37, 23], \n",
    "    'France': [27, 21, 24, 11, 36, 28, 22, 24, 43, 28, 61, 37], \n",
    "    'Germany': [30, 18, 30, 19, 40, 23, 31, 36, 40, 54, 61, 44], \n",
    "    'Netherlands': [3, 4, 7, 2, 7, 10, 1, 3, 7, 8, 9, 4], \n",
    "    'Norway': [0, 2, 3, 0, 0, 3, 1, 2, 6, 7, 5, 5], \n",
    "    'Portugal': [4, 2, 4, 2, 1, 3, 3, 1, 3, 6, 7, 10], \n",
    "    'Spain': [7, 4, 7, 3, 4, 8, 8, 9, 8, 8, 12, 5],\n",
    "    'Switzerland': [3, 4, 2, 2, 3, 4, 5, 3, 5, 5, 5, 2]\n",
    "    \n",
    " } <br>\n",
    "\n",
    "Also note that some countries share similar patterns in their month-invoice graphs. <br>\n",
    "For example, for the most of the countries, from January to February, the amount of invoice created decreases. <br>\n",
    "\n",
    "Similar patterns can be seen if countries are coupled, yet, <br>\n",
    "the aim of the question is not comparison of countries in groups of two based on increase/decrease in the number of invoices created by them."
   ]
  },
  {
   "cell_type": "markdown",
   "metadata": {
    "colab_type": "text",
    "id": "jkdo7SE6Mw3N"
   },
   "source": [
    "### Question 5 (Heat map)\n",
    "Create a heat map that visualizes how much (in sterling) each country purchases per month. \n",
    "\n",
    "5. (a) Modify the data set to only contain purchases made in the countries Belgium, Ireland (EIRE), France, Germany, the Netherlands, Norway, Portugal, Spain and Switzerland. (Or use the version of the data set that you created for question 4 a)."
   ]
  },
  {
   "cell_type": "code",
   "execution_count": 10,
   "metadata": {
    "colab": {},
    "colab_type": "code",
    "id": "5yVXnl6WNZ3N"
   },
   "outputs": [],
   "source": [
    "#your modification\n",
    "\n",
    "# using dataset named: cFilteredDataset\n",
    "# from 4a"
   ]
  },
  {
   "cell_type": "markdown",
   "metadata": {
    "colab_type": "text",
    "id": "cEV9doRYNanl"
   },
   "source": [
    "5. (b) Modify the data set such that it shows per month how much money (in sterling) was spent in the shop per country."
   ]
  },
  {
   "cell_type": "code",
   "execution_count": 11,
   "metadata": {
    "colab": {},
    "colab_type": "code",
    "id": "WdKt5vIGNfAF"
   },
   "outputs": [],
   "source": [
    "#your modification\n",
    "\n",
    "cNames = [\"Belgium\", \"EIRE\", \"France\", \"Germany\",\n",
    "          \"Netherlands\", \"Norway\", \"Portugal\", \n",
    "           \"Spain\", \"Switzerland\"]\n",
    "\n",
    "mNames = ['January', 'February', 'March', 'April',\n",
    "    'May','June', 'July', 'August', \n",
    "    'September', 'October', 'November', 'December']\n",
    "\n",
    "\n",
    "# create a dictionary for in the form:\n",
    "# {\n",
    "#    \"countryName\": { \"monthName\": purchaseTotal, ...},\n",
    "#    ....\n",
    "# }\n",
    "\n",
    "# generate an empty dictionary of the form above\n",
    "c_sterling_dict = {}\n",
    "for country in cNames:\n",
    "    # country_month_dict\n",
    "    newDict = {}\n",
    "    for month in mNames:\n",
    "        newDict[month] = 0\n",
    "    c_sterling_dict[country] = newDict\n",
    "\n",
    "# populate the dictionary\n",
    "# calculate how much is spent per country-month basis\n",
    "for index, row in cFilteredDataset.iterrows():\n",
    "    country = row[\"Country\"]\n",
    "    monthInt = row[\"InvoiceDate\"].month # month in int\n",
    "    month = monthsNameDict[monthInt]    # month in string\n",
    "    invoiceCost = row[\"UnitPrice\"] * row[\"Quantity\"]\n",
    "    c_sterling_dict[country][month] += invoiceCost\n",
    "\n",
    "# just convert to integer, as we are working with big numbers\n",
    "for country in c_sterling_dict:\n",
    "    for month in c_sterling_dict[country]:\n",
    "        c_sterling_dict[country][month] = int(c_sterling_dict[country][month])\n",
    "\n",
    "# for country in c_sterling_dict:\n",
    "#     print(country)\n",
    "#     print(\"  \", c_sterling_dict[country])\n",
    "#     print()"
   ]
  },
  {
   "cell_type": "markdown",
   "metadata": {
    "colab_type": "text",
    "id": "Z9OxLF1xNg6d"
   },
   "source": [
    "5. (c) Use the modified data to create a heat map. "
   ]
  },
  {
   "cell_type": "code",
   "execution_count": 14,
   "metadata": {
    "colab": {},
    "colab_type": "code",
    "id": "BeqD_H9BNsWd"
   },
   "outputs": [
    {
     "data": {
      "text/html": [
       "<style  type=\"text/css\" >\n",
       "    #T_03a6202e_1c24_11e9_8145_40b89a4faccbrow0_col1 {\n",
       "            background-color:  #feeae0;\n",
       "        }    #T_03a6202e_1c24_11e9_8145_40b89a4faccbrow0_col2 {\n",
       "            background-color:  #fdd3c1;\n",
       "        }    #T_03a6202e_1c24_11e9_8145_40b89a4faccbrow0_col3 {\n",
       "            background-color:  #fcbba1;\n",
       "        }    #T_03a6202e_1c24_11e9_8145_40b89a4faccbrow0_col4 {\n",
       "            background-color:  #fcc3ab;\n",
       "        }    #T_03a6202e_1c24_11e9_8145_40b89a4faccbrow0_col5 {\n",
       "            background-color:  #fed9c9;\n",
       "        }    #T_03a6202e_1c24_11e9_8145_40b89a4faccbrow0_col6 {\n",
       "            background-color:  #fca98c;\n",
       "        }    #T_03a6202e_1c24_11e9_8145_40b89a4faccbrow0_col7 {\n",
       "            background-color:  #fed9c9;\n",
       "        }    #T_03a6202e_1c24_11e9_8145_40b89a4faccbrow0_col8 {\n",
       "            background-color:  #fdd4c2;\n",
       "        }    #T_03a6202e_1c24_11e9_8145_40b89a4faccbrow0_col9 {\n",
       "            background-color:  #fee4d8;\n",
       "        }    #T_03a6202e_1c24_11e9_8145_40b89a4faccbrow0_col10 {\n",
       "            background-color:  #fee1d4;\n",
       "        }    #T_03a6202e_1c24_11e9_8145_40b89a4faccbrow0_col11 {\n",
       "            background-color:  #fedfd0;\n",
       "        }    #T_03a6202e_1c24_11e9_8145_40b89a4faccbrow0_col12 {\n",
       "            background-color:  #fee3d7;\n",
       "        }    #T_03a6202e_1c24_11e9_8145_40b89a4faccbrow1_col1 {\n",
       "            background-color:  #fdd3c1;\n",
       "        }    #T_03a6202e_1c24_11e9_8145_40b89a4faccbrow1_col2 {\n",
       "            background-color:  #db2824;\n",
       "        }    #T_03a6202e_1c24_11e9_8145_40b89a4faccbrow1_col3 {\n",
       "            background-color:  #71020e;\n",
       "        }    #T_03a6202e_1c24_11e9_8145_40b89a4faccbrow1_col4 {\n",
       "            background-color:  #f7593f;\n",
       "        }    #T_03a6202e_1c24_11e9_8145_40b89a4faccbrow1_col5 {\n",
       "            background-color:  #dd2a25;\n",
       "        }    #T_03a6202e_1c24_11e9_8145_40b89a4faccbrow1_col6 {\n",
       "            background-color:  #ab1016;\n",
       "        }    #T_03a6202e_1c24_11e9_8145_40b89a4faccbrow1_col7 {\n",
       "            background-color:  #d92523;\n",
       "        }    #T_03a6202e_1c24_11e9_8145_40b89a4faccbrow1_col8 {\n",
       "            background-color:  #e22e27;\n",
       "        }    #T_03a6202e_1c24_11e9_8145_40b89a4faccbrow1_col9 {\n",
       "            background-color:  #67000d;\n",
       "        }    #T_03a6202e_1c24_11e9_8145_40b89a4faccbrow1_col10 {\n",
       "            background-color:  #f5533b;\n",
       "        }    #T_03a6202e_1c24_11e9_8145_40b89a4faccbrow1_col11 {\n",
       "            background-color:  #bf151b;\n",
       "        }    #T_03a6202e_1c24_11e9_8145_40b89a4faccbrow1_col12 {\n",
       "            background-color:  #bf151b;\n",
       "        }    #T_03a6202e_1c24_11e9_8145_40b89a4faccbrow2_col1 {\n",
       "            background-color:  #840711;\n",
       "        }    #T_03a6202e_1c24_11e9_8145_40b89a4faccbrow2_col2 {\n",
       "            background-color:  #67000d;\n",
       "        }    #T_03a6202e_1c24_11e9_8145_40b89a4faccbrow2_col3 {\n",
       "            background-color:  #880811;\n",
       "        }    #T_03a6202e_1c24_11e9_8145_40b89a4faccbrow2_col4 {\n",
       "            background-color:  #fc8666;\n",
       "        }    #T_03a6202e_1c24_11e9_8145_40b89a4faccbrow2_col5 {\n",
       "            background-color:  #9c0d14;\n",
       "        }    #T_03a6202e_1c24_11e9_8145_40b89a4faccbrow2_col6 {\n",
       "            background-color:  #6f020e;\n",
       "        }    #T_03a6202e_1c24_11e9_8145_40b89a4faccbrow2_col7 {\n",
       "            background-color:  #f14331;\n",
       "        }    #T_03a6202e_1c24_11e9_8145_40b89a4faccbrow2_col8 {\n",
       "            background-color:  #e32f27;\n",
       "        }    #T_03a6202e_1c24_11e9_8145_40b89a4faccbrow2_col9 {\n",
       "            background-color:  #67000d;\n",
       "        }    #T_03a6202e_1c24_11e9_8145_40b89a4faccbrow2_col10 {\n",
       "            background-color:  #fb694a;\n",
       "        }    #T_03a6202e_1c24_11e9_8145_40b89a4faccbrow2_col11 {\n",
       "            background-color:  #67000d;\n",
       "        }    #T_03a6202e_1c24_11e9_8145_40b89a4faccbrow2_col12 {\n",
       "            background-color:  #900a12;\n",
       "        }    #T_03a6202e_1c24_11e9_8145_40b89a4faccbrow3_col1 {\n",
       "            background-color:  #67000d;\n",
       "        }    #T_03a6202e_1c24_11e9_8145_40b89a4faccbrow3_col2 {\n",
       "            background-color:  #c9181d;\n",
       "        }    #T_03a6202e_1c24_11e9_8145_40b89a4faccbrow3_col3 {\n",
       "            background-color:  #67000d;\n",
       "        }    #T_03a6202e_1c24_11e9_8145_40b89a4faccbrow3_col4 {\n",
       "            background-color:  #67000d;\n",
       "        }    #T_03a6202e_1c24_11e9_8145_40b89a4faccbrow3_col5 {\n",
       "            background-color:  #67000d;\n",
       "        }    #T_03a6202e_1c24_11e9_8145_40b89a4faccbrow3_col6 {\n",
       "            background-color:  #67000d;\n",
       "        }    #T_03a6202e_1c24_11e9_8145_40b89a4faccbrow3_col7 {\n",
       "            background-color:  #67000d;\n",
       "        }    #T_03a6202e_1c24_11e9_8145_40b89a4faccbrow3_col8 {\n",
       "            background-color:  #67000d;\n",
       "        }    #T_03a6202e_1c24_11e9_8145_40b89a4faccbrow3_col9 {\n",
       "            background-color:  #d32020;\n",
       "        }    #T_03a6202e_1c24_11e9_8145_40b89a4faccbrow3_col10 {\n",
       "            background-color:  #67000d;\n",
       "        }    #T_03a6202e_1c24_11e9_8145_40b89a4faccbrow3_col11 {\n",
       "            background-color:  #bc141a;\n",
       "        }    #T_03a6202e_1c24_11e9_8145_40b89a4faccbrow3_col12 {\n",
       "            background-color:  #67000d;\n",
       "        }    #T_03a6202e_1c24_11e9_8145_40b89a4faccbrow4_col1 {\n",
       "            background-color:  #fdd4c2;\n",
       "        }    #T_03a6202e_1c24_11e9_8145_40b89a4faccbrow4_col2 {\n",
       "            background-color:  #fee9df;\n",
       "        }    #T_03a6202e_1c24_11e9_8145_40b89a4faccbrow4_col3 {\n",
       "            background-color:  #feeae0;\n",
       "        }    #T_03a6202e_1c24_11e9_8145_40b89a4faccbrow4_col4 {\n",
       "            background-color:  #fff2eb;\n",
       "        }    #T_03a6202e_1c24_11e9_8145_40b89a4faccbrow4_col5 {\n",
       "            background-color:  #fee1d3;\n",
       "        }    #T_03a6202e_1c24_11e9_8145_40b89a4faccbrow4_col6 {\n",
       "            background-color:  #fdcdb9;\n",
       "        }    #T_03a6202e_1c24_11e9_8145_40b89a4faccbrow4_col7 {\n",
       "            background-color:  #fff5f0;\n",
       "        }    #T_03a6202e_1c24_11e9_8145_40b89a4faccbrow4_col8 {\n",
       "            background-color:  #fee8de;\n",
       "        }    #T_03a6202e_1c24_11e9_8145_40b89a4faccbrow4_col9 {\n",
       "            background-color:  #fee5d8;\n",
       "        }    #T_03a6202e_1c24_11e9_8145_40b89a4faccbrow4_col10 {\n",
       "            background-color:  #fff5f0;\n",
       "        }    #T_03a6202e_1c24_11e9_8145_40b89a4faccbrow4_col11 {\n",
       "            background-color:  #fff5f0;\n",
       "        }    #T_03a6202e_1c24_11e9_8145_40b89a4faccbrow4_col12 {\n",
       "            background-color:  #fff0e9;\n",
       "        }    #T_03a6202e_1c24_11e9_8145_40b89a4faccbrow5_col1 {\n",
       "            background-color:  #fff5f0;\n",
       "        }    #T_03a6202e_1c24_11e9_8145_40b89a4faccbrow5_col2 {\n",
       "            background-color:  #fff5f0;\n",
       "        }    #T_03a6202e_1c24_11e9_8145_40b89a4faccbrow5_col3 {\n",
       "            background-color:  #fff5f0;\n",
       "        }    #T_03a6202e_1c24_11e9_8145_40b89a4faccbrow5_col4 {\n",
       "            background-color:  #fff5f0;\n",
       "        }    #T_03a6202e_1c24_11e9_8145_40b89a4faccbrow5_col5 {\n",
       "            background-color:  #fff5f0;\n",
       "        }    #T_03a6202e_1c24_11e9_8145_40b89a4faccbrow5_col6 {\n",
       "            background-color:  #fcbfa7;\n",
       "        }    #T_03a6202e_1c24_11e9_8145_40b89a4faccbrow5_col7 {\n",
       "            background-color:  #ffece3;\n",
       "        }    #T_03a6202e_1c24_11e9_8145_40b89a4faccbrow5_col8 {\n",
       "            background-color:  #ffeee6;\n",
       "        }    #T_03a6202e_1c24_11e9_8145_40b89a4faccbrow5_col9 {\n",
       "            background-color:  #fdccb8;\n",
       "        }    #T_03a6202e_1c24_11e9_8145_40b89a4faccbrow5_col10 {\n",
       "            background-color:  #fff0e9;\n",
       "        }    #T_03a6202e_1c24_11e9_8145_40b89a4faccbrow5_col11 {\n",
       "            background-color:  #fee6da;\n",
       "        }    #T_03a6202e_1c24_11e9_8145_40b89a4faccbrow5_col12 {\n",
       "            background-color:  #fcc1a8;\n",
       "        }    #T_03a6202e_1c24_11e9_8145_40b89a4faccbrow6_col1 {\n",
       "            background-color:  #fdcdb9;\n",
       "        }    #T_03a6202e_1c24_11e9_8145_40b89a4faccbrow6_col2 {\n",
       "            background-color:  #feeae1;\n",
       "        }    #T_03a6202e_1c24_11e9_8145_40b89a4faccbrow6_col3 {\n",
       "            background-color:  #fdcab5;\n",
       "        }    #T_03a6202e_1c24_11e9_8145_40b89a4faccbrow6_col4 {\n",
       "            background-color:  #fdcbb6;\n",
       "        }    #T_03a6202e_1c24_11e9_8145_40b89a4faccbrow6_col5 {\n",
       "            background-color:  #ffeee6;\n",
       "        }    #T_03a6202e_1c24_11e9_8145_40b89a4faccbrow6_col6 {\n",
       "            background-color:  #fff5f0;\n",
       "        }    #T_03a6202e_1c24_11e9_8145_40b89a4faccbrow6_col7 {\n",
       "            background-color:  #fed8c7;\n",
       "        }    #T_03a6202e_1c24_11e9_8145_40b89a4faccbrow6_col8 {\n",
       "            background-color:  #fff5f0;\n",
       "        }    #T_03a6202e_1c24_11e9_8145_40b89a4faccbrow6_col9 {\n",
       "            background-color:  #fff5f0;\n",
       "        }    #T_03a6202e_1c24_11e9_8145_40b89a4faccbrow6_col10 {\n",
       "            background-color:  #fedbcc;\n",
       "        }    #T_03a6202e_1c24_11e9_8145_40b89a4faccbrow6_col11 {\n",
       "            background-color:  #fff1ea;\n",
       "        }    #T_03a6202e_1c24_11e9_8145_40b89a4faccbrow6_col12 {\n",
       "            background-color:  #fcc4ad;\n",
       "        }    #T_03a6202e_1c24_11e9_8145_40b89a4faccbrow7_col1 {\n",
       "            background-color:  #fc8060;\n",
       "        }    #T_03a6202e_1c24_11e9_8145_40b89a4faccbrow7_col2 {\n",
       "            background-color:  #fee1d3;\n",
       "        }    #T_03a6202e_1c24_11e9_8145_40b89a4faccbrow7_col3 {\n",
       "            background-color:  #fca588;\n",
       "        }    #T_03a6202e_1c24_11e9_8145_40b89a4faccbrow7_col4 {\n",
       "            background-color:  #fdd2bf;\n",
       "        }    #T_03a6202e_1c24_11e9_8145_40b89a4faccbrow7_col5 {\n",
       "            background-color:  #fee0d2;\n",
       "        }    #T_03a6202e_1c24_11e9_8145_40b89a4faccbrow7_col6 {\n",
       "            background-color:  #fdd3c1;\n",
       "        }    #T_03a6202e_1c24_11e9_8145_40b89a4faccbrow7_col7 {\n",
       "            background-color:  #fedecf;\n",
       "        }    #T_03a6202e_1c24_11e9_8145_40b89a4faccbrow7_col8 {\n",
       "            background-color:  #fdd7c6;\n",
       "        }    #T_03a6202e_1c24_11e9_8145_40b89a4faccbrow7_col9 {\n",
       "            background-color:  #fed8c7;\n",
       "        }    #T_03a6202e_1c24_11e9_8145_40b89a4faccbrow7_col10 {\n",
       "            background-color:  #fee3d6;\n",
       "        }    #T_03a6202e_1c24_11e9_8145_40b89a4faccbrow7_col11 {\n",
       "            background-color:  #fed9c9;\n",
       "        }    #T_03a6202e_1c24_11e9_8145_40b89a4faccbrow7_col12 {\n",
       "            background-color:  #fff5f0;\n",
       "        }    #T_03a6202e_1c24_11e9_8145_40b89a4faccbrow8_col1 {\n",
       "            background-color:  #fdc9b3;\n",
       "        }    #T_03a6202e_1c24_11e9_8145_40b89a4faccbrow8_col2 {\n",
       "            background-color:  #fdd7c6;\n",
       "        }    #T_03a6202e_1c24_11e9_8145_40b89a4faccbrow8_col3 {\n",
       "            background-color:  #ffede5;\n",
       "        }    #T_03a6202e_1c24_11e9_8145_40b89a4faccbrow8_col4 {\n",
       "            background-color:  #fed9c9;\n",
       "        }    #T_03a6202e_1c24_11e9_8145_40b89a4faccbrow8_col5 {\n",
       "            background-color:  #fdc7b2;\n",
       "        }    #T_03a6202e_1c24_11e9_8145_40b89a4faccbrow8_col6 {\n",
       "            background-color:  #fdd3c1;\n",
       "        }    #T_03a6202e_1c24_11e9_8145_40b89a4faccbrow8_col7 {\n",
       "            background-color:  #fedaca;\n",
       "        }    #T_03a6202e_1c24_11e9_8145_40b89a4faccbrow8_col8 {\n",
       "            background-color:  #fcad90;\n",
       "        }    #T_03a6202e_1c24_11e9_8145_40b89a4faccbrow8_col9 {\n",
       "            background-color:  #fee4d8;\n",
       "        }    #T_03a6202e_1c24_11e9_8145_40b89a4faccbrow8_col10 {\n",
       "            background-color:  #fcc4ad;\n",
       "        }    #T_03a6202e_1c24_11e9_8145_40b89a4faccbrow8_col11 {\n",
       "            background-color:  #fdd3c1;\n",
       "        }    #T_03a6202e_1c24_11e9_8145_40b89a4faccbrow8_col12 {\n",
       "            background-color:  #fff4ee;\n",
       "        }</style>  \n",
       "<table id=\"T_03a6202e_1c24_11e9_8145_40b89a4faccb\" > \n",
       "<thead>    <tr> \n",
       "        <th class=\"blank level0\" ></th> \n",
       "        <th class=\"col_heading level0 col0\" >Country</th> \n",
       "        <th class=\"col_heading level0 col1\" >January</th> \n",
       "        <th class=\"col_heading level0 col2\" >February</th> \n",
       "        <th class=\"col_heading level0 col3\" >March</th> \n",
       "        <th class=\"col_heading level0 col4\" >April</th> \n",
       "        <th class=\"col_heading level0 col5\" >May</th> \n",
       "        <th class=\"col_heading level0 col6\" >June</th> \n",
       "        <th class=\"col_heading level0 col7\" >July</th> \n",
       "        <th class=\"col_heading level0 col8\" >August</th> \n",
       "        <th class=\"col_heading level0 col9\" >September</th> \n",
       "        <th class=\"col_heading level0 col10\" >October</th> \n",
       "        <th class=\"col_heading level0 col11\" >November</th> \n",
       "        <th class=\"col_heading level0 col12\" >December</th> \n",
       "    </tr></thead> \n",
       "<tbody>    <tr> \n",
       "        <th id=\"T_03a6202e_1c24_11e9_8145_40b89a4faccblevel0_row0\" class=\"row_heading level0 row0\" >0</th> \n",
       "        <td id=\"T_03a6202e_1c24_11e9_8145_40b89a4faccbrow0_col0\" class=\"data row0 col0\" >Belgium</td> \n",
       "        <td id=\"T_03a6202e_1c24_11e9_8145_40b89a4faccbrow0_col1\" class=\"data row0 col1\" >768</td> \n",
       "        <td id=\"T_03a6202e_1c24_11e9_8145_40b89a4faccbrow0_col2\" class=\"data row0 col2\" >1511</td> \n",
       "        <td id=\"T_03a6202e_1c24_11e9_8145_40b89a4faccbrow0_col3\" class=\"data row0 col3\" >2248</td> \n",
       "        <td id=\"T_03a6202e_1c24_11e9_8145_40b89a4faccbrow0_col4\" class=\"data row0 col4\" >1580</td> \n",
       "        <td id=\"T_03a6202e_1c24_11e9_8145_40b89a4faccbrow0_col5\" class=\"data row0 col5\" >1766</td> \n",
       "        <td id=\"T_03a6202e_1c24_11e9_8145_40b89a4faccbrow0_col6\" class=\"data row0 col6\" >3283</td> \n",
       "        <td id=\"T_03a6202e_1c24_11e9_8145_40b89a4faccbrow0_col7\" class=\"data row0 col7\" >1697</td> \n",
       "        <td id=\"T_03a6202e_1c24_11e9_8145_40b89a4faccbrow0_col8\" class=\"data row0 col8\" >2449</td> \n",
       "        <td id=\"T_03a6202e_1c24_11e9_8145_40b89a4faccbrow0_col9\" class=\"data row0 col9\" >2711</td> \n",
       "        <td id=\"T_03a6202e_1c24_11e9_8145_40b89a4faccbrow0_col10\" class=\"data row0 col10\" >3746</td> \n",
       "        <td id=\"T_03a6202e_1c24_11e9_8145_40b89a4faccbrow0_col11\" class=\"data row0 col11\" >3811</td> \n",
       "        <td id=\"T_03a6202e_1c24_11e9_8145_40b89a4faccbrow0_col12\" class=\"data row0 col12\" >2264</td> \n",
       "    </tr>    <tr> \n",
       "        <th id=\"T_03a6202e_1c24_11e9_8145_40b89a4faccblevel0_row1\" class=\"row_heading level0 row1\" >1</th> \n",
       "        <td id=\"T_03a6202e_1c24_11e9_8145_40b89a4faccbrow1_col0\" class=\"data row1 col0\" >EIRE</td> \n",
       "        <td id=\"T_03a6202e_1c24_11e9_8145_40b89a4faccbrow1_col1\" class=\"data row1 col1\" >1887</td> \n",
       "        <td id=\"T_03a6202e_1c24_11e9_8145_40b89a4faccbrow1_col2\" class=\"data row1 col2\" >4546</td> \n",
       "        <td id=\"T_03a6202e_1c24_11e9_8145_40b89a4faccbrow1_col3\" class=\"data row1 col3\" >7782</td> \n",
       "        <td id=\"T_03a6202e_1c24_11e9_8145_40b89a4faccbrow1_col4\" class=\"data row1 col4\" >3839</td> \n",
       "        <td id=\"T_03a6202e_1c24_11e9_8145_40b89a4faccbrow1_col5\" class=\"data row1 col5\" >8131</td> \n",
       "        <td id=\"T_03a6202e_1c24_11e9_8145_40b89a4faccbrow1_col6\" class=\"data row1 col6\" >7821</td> \n",
       "        <td id=\"T_03a6202e_1c24_11e9_8145_40b89a4faccbrow1_col7\" class=\"data row1 col7\" >7894</td> \n",
       "        <td id=\"T_03a6202e_1c24_11e9_8145_40b89a4faccbrow1_col8\" class=\"data row1 col8\" >8377</td> \n",
       "        <td id=\"T_03a6202e_1c24_11e9_8145_40b89a4faccbrow1_col9\" class=\"data row1 col9\" >16349</td> \n",
       "        <td id=\"T_03a6202e_1c24_11e9_8145_40b89a4faccbrow1_col10\" class=\"data row1 col10\" >12207</td> \n",
       "        <td id=\"T_03a6202e_1c24_11e9_8145_40b89a4faccbrow1_col11\" class=\"data row1 col11\" >16603</td> \n",
       "        <td id=\"T_03a6202e_1c24_11e9_8145_40b89a4faccbrow1_col12\" class=\"data row1 col12\" >10521</td> \n",
       "    </tr>    <tr> \n",
       "        <th id=\"T_03a6202e_1c24_11e9_8145_40b89a4faccblevel0_row2\" class=\"row_heading level0 row2\" >2</th> \n",
       "        <td id=\"T_03a6202e_1c24_11e9_8145_40b89a4faccbrow2_col0\" class=\"data row2 col0\" >France</td> \n",
       "        <td id=\"T_03a6202e_1c24_11e9_8145_40b89a4faccbrow2_col1\" class=\"data row2 col1\" >10528</td> \n",
       "        <td id=\"T_03a6202e_1c24_11e9_8145_40b89a4faccbrow2_col2\" class=\"data row2 col2\" >6318</td> \n",
       "        <td id=\"T_03a6202e_1c24_11e9_8145_40b89a4faccbrow2_col3\" class=\"data row2 col3\" >7440</td> \n",
       "        <td id=\"T_03a6202e_1c24_11e9_8145_40b89a4faccbrow2_col4\" class=\"data row2 col4\" >2887</td> \n",
       "        <td id=\"T_03a6202e_1c24_11e9_8145_40b89a4faccbrow2_col5\" class=\"data row2 col5\" >10588</td> \n",
       "        <td id=\"T_03a6202e_1c24_11e9_8145_40b89a4faccbrow2_col6\" class=\"data row2 col6\" >8888</td> \n",
       "        <td id=\"T_03a6202e_1c24_11e9_8145_40b89a4faccbrow2_col7\" class=\"data row2 col7\" >6765</td> \n",
       "        <td id=\"T_03a6202e_1c24_11e9_8145_40b89a4faccbrow2_col8\" class=\"data row2 col8\" >8328</td> \n",
       "        <td id=\"T_03a6202e_1c24_11e9_8145_40b89a4faccbrow2_col9\" class=\"data row2 col9\" >16358</td> \n",
       "        <td id=\"T_03a6202e_1c24_11e9_8145_40b89a4faccbrow2_col10\" class=\"data row2 col10\" >11079</td> \n",
       "        <td id=\"T_03a6202e_1c24_11e9_8145_40b89a4faccbrow2_col11\" class=\"data row2 col11\" >20761</td> \n",
       "        <td id=\"T_03a6202e_1c24_11e9_8145_40b89a4faccbrow2_col12\" class=\"data row2 col12\" >12091</td> \n",
       "    </tr>    <tr> \n",
       "        <th id=\"T_03a6202e_1c24_11e9_8145_40b89a4faccblevel0_row3\" class=\"row_heading level0 row3\" >3</th> \n",
       "        <td id=\"T_03a6202e_1c24_11e9_8145_40b89a4faccbrow3_col0\" class=\"data row3 col0\" >Germany</td> \n",
       "        <td id=\"T_03a6202e_1c24_11e9_8145_40b89a4faccbrow3_col1\" class=\"data row3 col1\" >11221</td> \n",
       "        <td id=\"T_03a6202e_1c24_11e9_8145_40b89a4faccbrow3_col2\" class=\"data row3 col2\" >4892</td> \n",
       "        <td id=\"T_03a6202e_1c24_11e9_8145_40b89a4faccbrow3_col3\" class=\"data row3 col3\" >7955</td> \n",
       "        <td id=\"T_03a6202e_1c24_11e9_8145_40b89a4faccbrow3_col4\" class=\"data row3 col4\" >7021</td> \n",
       "        <td id=\"T_03a6202e_1c24_11e9_8145_40b89a4faccbrow3_col5\" class=\"data row3 col5\" >11870</td> \n",
       "        <td id=\"T_03a6202e_1c24_11e9_8145_40b89a4faccbrow3_col6\" class=\"data row3 col6\" >9027</td> \n",
       "        <td id=\"T_03a6202e_1c24_11e9_8145_40b89a4faccbrow3_col7\" class=\"data row3 col7\" >11223</td> \n",
       "        <td id=\"T_03a6202e_1c24_11e9_8145_40b89a4faccbrow3_col8\" class=\"data row3 col8\" >12235</td> \n",
       "        <td id=\"T_03a6202e_1c24_11e9_8145_40b89a4faccbrow3_col9\" class=\"data row3 col9\" >12081</td> \n",
       "        <td id=\"T_03a6202e_1c24_11e9_8145_40b89a4faccbrow3_col10\" class=\"data row3 col10\" >20639</td> \n",
       "        <td id=\"T_03a6202e_1c24_11e9_8145_40b89a4faccbrow3_col11\" class=\"data row3 col11\" >16852</td> \n",
       "        <td id=\"T_03a6202e_1c24_11e9_8145_40b89a4faccbrow3_col12\" class=\"data row3 col12\" >13113</td> \n",
       "    </tr>    <tr> \n",
       "        <th id=\"T_03a6202e_1c24_11e9_8145_40b89a4faccblevel0_row4\" class=\"row_heading level0 row4\" >4</th> \n",
       "        <td id=\"T_03a6202e_1c24_11e9_8145_40b89a4faccbrow4_col0\" class=\"data row4 col0\" >Netherlands</td> \n",
       "        <td id=\"T_03a6202e_1c24_11e9_8145_40b89a4faccbrow4_col1\" class=\"data row4 col1\" >1851</td> \n",
       "        <td id=\"T_03a6202e_1c24_11e9_8145_40b89a4faccbrow4_col2\" class=\"data row4 col2\" >930</td> \n",
       "        <td id=\"T_03a6202e_1c24_11e9_8145_40b89a4faccbrow4_col3\" class=\"data row4 col3\" >847</td> \n",
       "        <td id=\"T_03a6202e_1c24_11e9_8145_40b89a4faccbrow4_col4\" class=\"data row4 col4\" >140</td> \n",
       "        <td id=\"T_03a6202e_1c24_11e9_8145_40b89a4faccbrow4_col5\" class=\"data row4 col5\" >1441</td> \n",
       "        <td id=\"T_03a6202e_1c24_11e9_8145_40b89a4faccbrow4_col6\" class=\"data row4 col6\" >2299</td> \n",
       "        <td id=\"T_03a6202e_1c24_11e9_8145_40b89a4faccbrow4_col7\" class=\"data row4 col7\" >11</td> \n",
       "        <td id=\"T_03a6202e_1c24_11e9_8145_40b89a4faccbrow4_col8\" class=\"data row4 col8\" >1386</td> \n",
       "        <td id=\"T_03a6202e_1c24_11e9_8145_40b89a4faccbrow4_col9\" class=\"data row4 col9\" >2662</td> \n",
       "        <td id=\"T_03a6202e_1c24_11e9_8145_40b89a4faccbrow4_col10\" class=\"data row4 col10\" >1459</td> \n",
       "        <td id=\"T_03a6202e_1c24_11e9_8145_40b89a4faccbrow4_col11\" class=\"data row4 col11\" >1255</td> \n",
       "        <td id=\"T_03a6202e_1c24_11e9_8145_40b89a4faccbrow4_col12\" class=\"data row4 col12\" >1291</td> \n",
       "    </tr>    <tr> \n",
       "        <th id=\"T_03a6202e_1c24_11e9_8145_40b89a4faccblevel0_row5\" class=\"row_heading level0 row5\" >5</th> \n",
       "        <td id=\"T_03a6202e_1c24_11e9_8145_40b89a4faccbrow5_col0\" class=\"data row5 col0\" >Norway</td> \n",
       "        <td id=\"T_03a6202e_1c24_11e9_8145_40b89a4faccbrow5_col1\" class=\"data row5 col1\" >0</td> \n",
       "        <td id=\"T_03a6202e_1c24_11e9_8145_40b89a4faccbrow5_col2\" class=\"data row5 col2\" >522</td> \n",
       "        <td id=\"T_03a6202e_1c24_11e9_8145_40b89a4faccbrow5_col3\" class=\"data row5 col3\" >311</td> \n",
       "        <td id=\"T_03a6202e_1c24_11e9_8145_40b89a4faccbrow5_col4\" class=\"data row5 col4\" >0</td> \n",
       "        <td id=\"T_03a6202e_1c24_11e9_8145_40b89a4faccbrow5_col5\" class=\"data row5 col5\" >0</td> \n",
       "        <td id=\"T_03a6202e_1c24_11e9_8145_40b89a4faccbrow5_col6\" class=\"data row5 col6\" >2682</td> \n",
       "        <td id=\"T_03a6202e_1c24_11e9_8145_40b89a4faccbrow5_col7\" class=\"data row5 col7\" >643</td> \n",
       "        <td id=\"T_03a6202e_1c24_11e9_8145_40b89a4faccbrow5_col8\" class=\"data row5 col8\" >1010</td> \n",
       "        <td id=\"T_03a6202e_1c24_11e9_8145_40b89a4faccbrow5_col9\" class=\"data row5 col9\" >4091</td> \n",
       "        <td id=\"T_03a6202e_1c24_11e9_8145_40b89a4faccbrow5_col10\" class=\"data row5 col10\" >2056</td> \n",
       "        <td id=\"T_03a6202e_1c24_11e9_8145_40b89a4faccbrow5_col11\" class=\"data row5 col11\" >3046</td> \n",
       "        <td id=\"T_03a6202e_1c24_11e9_8145_40b89a4faccbrow5_col12\" class=\"data row5 col12\" >3756</td> \n",
       "    </tr>    <tr> \n",
       "        <th id=\"T_03a6202e_1c24_11e9_8145_40b89a4faccblevel0_row6\" class=\"row_heading level0 row6\" >6</th> \n",
       "        <td id=\"T_03a6202e_1c24_11e9_8145_40b89a4faccbrow6_col0\" class=\"data row6 col0\" >Portugal</td> \n",
       "        <td id=\"T_03a6202e_1c24_11e9_8145_40b89a4faccbrow6_col1\" class=\"data row6 col1\" >2129</td> \n",
       "        <td id=\"T_03a6202e_1c24_11e9_8145_40b89a4faccbrow6_col2\" class=\"data row6 col2\" >890</td> \n",
       "        <td id=\"T_03a6202e_1c24_11e9_8145_40b89a4faccbrow6_col3\" class=\"data row6 col3\" >1862</td> \n",
       "        <td id=\"T_03a6202e_1c24_11e9_8145_40b89a4faccbrow6_col4\" class=\"data row6 col4\" >1378</td> \n",
       "        <td id=\"T_03a6202e_1c24_11e9_8145_40b89a4faccbrow6_col5\" class=\"data row6 col5\" >544</td> \n",
       "        <td id=\"T_03a6202e_1c24_11e9_8145_40b89a4faccbrow6_col6\" class=\"data row6 col6\" >738</td> \n",
       "        <td id=\"T_03a6202e_1c24_11e9_8145_40b89a4faccbrow6_col7\" class=\"data row6 col7\" >1739</td> \n",
       "        <td id=\"T_03a6202e_1c24_11e9_8145_40b89a4faccbrow6_col8\" class=\"data row6 col8\" >499</td> \n",
       "        <td id=\"T_03a6202e_1c24_11e9_8145_40b89a4faccbrow6_col9\" class=\"data row6 col9\" >1138</td> \n",
       "        <td id=\"T_03a6202e_1c24_11e9_8145_40b89a4faccbrow6_col10\" class=\"data row6 col10\" >4204</td> \n",
       "        <td id=\"T_03a6202e_1c24_11e9_8145_40b89a4faccbrow6_col11\" class=\"data row6 col11\" >1734</td> \n",
       "        <td id=\"T_03a6202e_1c24_11e9_8145_40b89a4faccbrow6_col12\" class=\"data row6 col12\" >3603</td> \n",
       "    </tr>    <tr> \n",
       "        <th id=\"T_03a6202e_1c24_11e9_8145_40b89a4faccblevel0_row7\" class=\"row_heading level0 row7\" >7</th> \n",
       "        <td id=\"T_03a6202e_1c24_11e9_8145_40b89a4faccbrow7_col0\" class=\"data row7 col0\" >Spain</td> \n",
       "        <td id=\"T_03a6202e_1c24_11e9_8145_40b89a4faccbrow7_col1\" class=\"data row7 col1\" >4864</td> \n",
       "        <td id=\"T_03a6202e_1c24_11e9_8145_40b89a4faccbrow7_col2\" class=\"data row7 col2\" >1236</td> \n",
       "        <td id=\"T_03a6202e_1c24_11e9_8145_40b89a4faccbrow7_col3\" class=\"data row7 col3\" >2746</td> \n",
       "        <td id=\"T_03a6202e_1c24_11e9_8145_40b89a4faccbrow7_col4\" class=\"data row7 col4\" >1229</td> \n",
       "        <td id=\"T_03a6202e_1c24_11e9_8145_40b89a4faccbrow7_col5\" class=\"data row7 col5\" >1511</td> \n",
       "        <td id=\"T_03a6202e_1c24_11e9_8145_40b89a4faccbrow7_col6\" class=\"data row7 col6\" >2161</td> \n",
       "        <td id=\"T_03a6202e_1c24_11e9_8145_40b89a4faccbrow7_col7\" class=\"data row7 col7\" >1535</td> \n",
       "        <td id=\"T_03a6202e_1c24_11e9_8145_40b89a4faccbrow7_col8\" class=\"data row7 col8\" >2341</td> \n",
       "        <td id=\"T_03a6202e_1c24_11e9_8145_40b89a4faccbrow7_col9\" class=\"data row7 col9\" >3503</td> \n",
       "        <td id=\"T_03a6202e_1c24_11e9_8145_40b89a4faccbrow7_col10\" class=\"data row7 col10\" >3574</td> \n",
       "        <td id=\"T_03a6202e_1c24_11e9_8145_40b89a4faccbrow7_col11\" class=\"data row7 col11\" >4199</td> \n",
       "        <td id=\"T_03a6202e_1c24_11e9_8145_40b89a4faccbrow7_col12\" class=\"data row7 col12\" >939</td> \n",
       "    </tr>    <tr> \n",
       "        <th id=\"T_03a6202e_1c24_11e9_8145_40b89a4faccblevel0_row8\" class=\"row_heading level0 row8\" >8</th> \n",
       "        <td id=\"T_03a6202e_1c24_11e9_8145_40b89a4faccbrow8_col0\" class=\"data row8 col0\" >Switzerland</td> \n",
       "        <td id=\"T_03a6202e_1c24_11e9_8145_40b89a4faccbrow8_col1\" class=\"data row8 col1\" >2305</td> \n",
       "        <td id=\"T_03a6202e_1c24_11e9_8145_40b89a4faccbrow8_col2\" class=\"data row8 col2\" >1431</td> \n",
       "        <td id=\"T_03a6202e_1c24_11e9_8145_40b89a4faccbrow8_col3\" class=\"data row8 col3\" >685</td> \n",
       "        <td id=\"T_03a6202e_1c24_11e9_8145_40b89a4faccbrow8_col4\" class=\"data row8 col4\" >1052</td> \n",
       "        <td id=\"T_03a6202e_1c24_11e9_8145_40b89a4faccbrow8_col5\" class=\"data row8 col5\" >2484</td> \n",
       "        <td id=\"T_03a6202e_1c24_11e9_8145_40b89a4faccbrow8_col6\" class=\"data row8 col6\" >2143</td> \n",
       "        <td id=\"T_03a6202e_1c24_11e9_8145_40b89a4faccbrow8_col7\" class=\"data row8 col7\" >1642</td> \n",
       "        <td id=\"T_03a6202e_1c24_11e9_8145_40b89a4faccbrow8_col8\" class=\"data row8 col8\" >3961</td> \n",
       "        <td id=\"T_03a6202e_1c24_11e9_8145_40b89a4faccbrow8_col9\" class=\"data row8 col9\" >2739</td> \n",
       "        <td id=\"T_03a6202e_1c24_11e9_8145_40b89a4faccbrow8_col10\" class=\"data row8 col10\" >5729</td> \n",
       "        <td id=\"T_03a6202e_1c24_11e9_8145_40b89a4faccbrow8_col11\" class=\"data row8 col11\" >4554</td> \n",
       "        <td id=\"T_03a6202e_1c24_11e9_8145_40b89a4faccbrow8_col12\" class=\"data row8 col12\" >1061</td> \n",
       "    </tr></tbody> \n",
       "</table> "
      ],
      "text/plain": [
       "<pandas.io.formats.style.Styler at 0x7fa30b5b5da0>"
      ]
     },
     "execution_count": 14,
     "metadata": {},
     "output_type": "execute_result"
    }
   ],
   "source": [
    "#your code\n",
    "import seaborn as sns\n",
    "\n",
    "# flights = sns.load_dataset(\"flights\")\n",
    "# flights = flights.pivot(\"month\", \"year\", \"passengers\")\n",
    "# ax = sns.heatmap(flights)\n",
    "\n",
    "# convert dictionary into list\n",
    "c_sterling_list = []\n",
    "for country in c_sterling_dict:\n",
    "    newList = [country]\n",
    "    for month in c_sterling_dict[country]:\n",
    "        newList.append(c_sterling_dict[country][month])\n",
    "    c_sterling_list.append(newList)\n",
    "    \n",
    "# print(c_sterling_list)\n",
    "\n",
    "# convert list into Pandas dataframe\n",
    "# cmdf => country - month data frame\n",
    "cmdf = pd.DataFrame(c_sterling_list, columns=(\"Country\", 'January', 'February', 'March', 'April',\n",
    "    'May','June', 'July', 'August', \n",
    "    'September', 'October', 'November', 'December'))\n",
    "\n",
    "heatmap = cmdf.style.background_gradient(cmap='Reds')\n",
    "\n",
    "heatmap"
   ]
  },
  {
   "cell_type": "markdown",
   "metadata": {
    "colab_type": "text",
    "id": "K_DdfvB7NuH1"
   },
   "source": [
    "5. (d) Compare the amount of the purchases over time and between each country. "
   ]
  },
  {
   "cell_type": "markdown",
   "metadata": {
    "colab_type": "text",
    "id": "nYBMrbELNz9e"
   },
   "source": [
    "Your answer:\n",
    "\n",
    "Here are the volumes(€) of purchases made by countries each  month.\n",
    "\n",
    "\n",
    "{ <br>\n",
    "\n",
    "    'Belgium': [768, 1511, 2248, 1580, 1766, 3283, 1697, 2449, 2711, 3746, 3811, 2264], \n",
    "    'EIRE': [1887, 4546, 7782, 3839, 8131, 7821, 7894, 8377, 16349, 12207, 16603, 10521], \n",
    "    'France': [10528, 6318, 7440, 2887, 10588, 8888, 6765, 8328, 16358, 11079, 20761, 12091], \n",
    "    'Germany': [11221, 4892, 7955, 7021, 11870, 9027, 11223, 12235, 12081, 20639, 16852, 13113], \n",
    "    'Netherlands': [1851, 930, 847, 140, 1441, 2299, 11, 1386, 2662, 1459, 1255, 1291], \n",
    "    'Norway': [0, 522, 311, 0, 0, 2682, 643, 1010, 4091, 2056, 3046, 3756], \n",
    "    'Portugal': [2129, 890, 1862, 1378, 544, 738, 1739, 499, 1138, 4204, 1734, 3603], \n",
    "    'Spain': [4864, 1236, 2746, 1229, 1511, 2161, 1535, 2341, 3503, 3574, 4199, 939], \n",
    "    'Switzerland': [2305, 1431, 685, 1052, 2484, 2143, 1642, 3961, 2739, 5729, 4554, 1061]\n",
    "}\n",
    "\n",
    "(note: used \"from scipy.stats.stats import pearsonr\" between year list of each countries) <br>\n",
    "(\n",
    "    e.g. \n",
    "\n",
    "    'Belgium': [3, 8, 9, 6, 8, 11, 5, 8, 6, 11, 9, 9] (referred as list1)\n",
    "    'EIRE':    [7, 9, 18, 11, 18, 23, 19, 16, 31, 26, 37, 23] (referred as list2)\n",
    "    pearsonr(list1, list2)\n",
    ")\n",
    "\n",
    "Here is the correlation values between monthly purchase volumes of countries (sorted on their correlation values) : <br>\n",
    "\n",
    "(('EIRE', 'France'), 0.8132355597621302) <br>\n",
    "(('France', 'Germany'), 0.7921684095339651) <br>\n",
    "(('EIRE', 'Norway'), 0.7814413910562332) <br>\n",
    "(('EIRE', 'Germany'), 0.7773860840594811) <br>\n",
    "(('Belgium', 'Netherlands'), 0.7057629010635502) <br>\n",
    "(('EIRE', 'Spain'), 0.6675838787160093) <br>\n",
    "(('EIRE', 'Netherlands'), 0.661062279375457) <br>\n",
    "(('Germany', 'Norway'), 0.6588395915233756) <br>\n",
    "(('Norway', 'Portugal'), 0.625451624371097) <br>\n",
    "(('Germany', 'Spain'), 0.6028262784688166) <br>\n",
    "(('France', 'Spain'), 0.6006224226424565) <br>\n",
    "(('Germany', 'Portugal'), 0.5954520851851484) <br>\n",
    "(('Spain', 'Switzerland'), 0.5942704755706019) <br>\n",
    "(('France', 'Netherlands'), 0.5843106894664486) <br>\n",
    "(('Belgium', 'Norway'), 0.5708877194411107) <br>\n",
    "(('Netherlands', 'Norway'), 0.5678809561380993) <br>\n",
    "(('EIRE', 'Switzerland'), 0.5569694262958885) <br>\n",
    "(('France', 'Norway'), 0.5405287195474267) <br>\n",
    "(('France', 'Portugal'), 0.4916853290468624) <br>\n",
    "(('EIRE', 'Portugal'), 0.4863374559264712) <br>\n",
    "(('Norway', 'Spain'), 0.481136531482639) <br>\n",
    "(('Belgium', 'EIRE'), 0.46902394645562984) <br>\n",
    "(('Norway', 'Switzerland'), 0.45505119613951045) <br>\n",
    "(('Germany', 'Netherlands'), 0.4414448281383902) <br>\n",
    "(('France', 'Switzerland'), 0.42198380754511094) <br>\n",
    "(('Netherlands', 'Spain'), 0.40730311407458475) <br>\n",
    "(('Germany', 'Switzerland'), 0.3966294552214587) <br>\n",
    "(('Netherlands', 'Switzerland'), 0.3265049512041742) <br>\n",
    "(('Belgium', 'Germany'), 0.32243450193226797) <br>\n",
    "(('Belgium', 'Portugal'), 0.29482672621405565) <br>\n",
    "(('Portugal', 'Spain'), 0.25376732569470456) <br>\n",
    "(('Belgium', 'France'), 0.21302818659600153) <br>\n",
    "(('Netherlands', 'Portugal'), 0.20770356708196527) <br>\n",
    "(('Belgium', 'Spain'), 0.17684550751099598) <br>\n",
    "(('Belgium', 'Switzerland'), 0.084743348411577) <br>\n",
    "(('Portugal', 'Switzerland'), 0.004598053504190709) <br>\n",
    "\n",
    "As can be seen above, some countries have similar trends in their purchases on specific months. EIRE and France are the most similar countries among others. One can observe the similarities between the other matchings.\n",
    "\n",
    "\n",
    "One thing that I noticed that in nearly all countries that the increase in volume from August to September.\n",
    "Other than that, there is pattern that can be observed in all countries. (but in country doubles, the ones stated above)."
   ]
  },
  {
   "cell_type": "markdown",
   "metadata": {
    "colab_type": "text",
    "id": "y3OJYgdqN38Y"
   },
   "source": [
    "###Question 6 (Interpretation)\n",
    "Compare the results obtained from the stream graph and the heat map. Is there a relation between the number of purchases and the amount purchased in sterling?\n"
   ]
  },
  {
   "cell_type": "markdown",
   "metadata": {
    "colab_type": "text",
    "id": "WSReYGIFN_c9"
   },
   "source": [
    "Your answer:\n",
    "\n",
    "Comparing correlation between the number of invoices created and money spend on that month, we find the following correlation for each country:<br>\n",
    "(again, pearsonr is used for this calculation)\n",
    "\n",
    "d1 = <br>\n",
    "{'Belgium': [3, 8, 9, 6, 8, 11, 5, 8, 6, 11, 9, 9], 'EIRE': [7, 9, 18, 11, 18, 23, 19, 16, 31, 26, 37, 23], 'France': [27, 21, 24, 11, 36, 28, 22, 24, 43, 28, 61, 37], 'Germany': [30, 18, 30, 19, 40, 23, 31, 36, 40, 54, 61, 44], 'Netherlands': [3, 4, 7, 2, 7, 10, 1, 3, 7, 8, 9, 4], 'Norway': [0, 2, 3, 0, 0, 3, 1, 2, 6, 7, 5, 5], 'Portugal': [4, 2, 4, 2, 1, 3, 3, 1, 3, 6, 7, 10], 'Spain': [7, 4, 7, 3, 4, 8, 8, 9, 8, 8, 12, 5], 'Switzerland': [3, 4, 2, 2, 3, 4, 5, 3, 5, 5, 5, 2]}\n",
    "\n",
    "d2 = <br>\n",
    "{'Belgium': [768, 1511, 2248, 1580, 1766, 3283, 1697, 2449, 2711, 3746, 3811, 2264], 'EIRE': [1887, 4546, 7782, 3839, 8131, 7821, 7894, 8377, 16349, 12207, 16603, 10521], 'France': [10528, 6318, 7440, 2887, 10588, 8888, 6765, 8328, 16358, 11079, 20761, 12091], 'Germany': [11221, 4892, 7955, 7021, 11870, 9027, 11223, 12235, 12081, 20639, 16852, 13113], 'Netherlands': [1851, 930, 847, 140, 1441, 2299, 11, 1386, 2662, 1459, 1255, 1291], 'Norway': [0, 522, 311, 0, 0, 2682, 643, 1010, 4091, 2056, 3046, 3756], 'Portugal': [2129, 890, 1862, 1378, 544, 738, 1739, 499, 1138, 4204, 1734, 3603], 'Spain': [4864, 1236, 2746, 1229, 1511, 2161, 1535, 2341, 3503, 3574, 4199, 939], 'Switzerland': [2305, 1431, 685, 1052, 2484, 2143, 1642, 3961, 2739, 5729, 4554, 1061]}\n",
    "\n",
    "cNames = [\"Belgium\", \"EIRE\", \"France\", \"Germany\", \"Netherlands\", \"Norway\", \"Portugal\", \"Spain\", \"Switzerland\"]\n",
    "\n",
    "from scipy.stats.stats import pearsonr <br>\n",
    "for c in cNames: <br>\n",
    "&nbsp;&nbsp;    m = d1[c] <br>\n",
    "&nbsp;&nbsp;    p = d2[c] <br>\n",
    "&nbsp;&nbsp;    s = pearsonr(m,p)[0] <br>\n",
    "&nbsp;&nbsp;    print(c, s) <br>\n",
    "    \n",
    "    Belgium 0.7686155228850475\n",
    "    EIRE 0.9650016106306999\n",
    "    France 0.9748987553465568\n",
    "    Germany 0.917979195472146\n",
    "    Netherlands 0.6069051860146505\n",
    "    Norway 0.8302840641798522\n",
    "    Portugal 0.8046427827410733\n",
    "    Spain 0.6618091666835741\n",
    "    Switzerland 0.6030142046116839\n",
    "    \n",
    "There is a relation between the number of purchases and the amount purchased in sterling.<br>\n",
    "Even the worst correlation is 0.606 (Netherlands), yet it still shows that they have a relation. <br>\n",
    "(it is greater than 0.5, and correlation range in this context is (0,1))\n",
    "\n",
    "For some countries, the relation is more stronger. <br>\n",
    "For France and EIRE, the correlation is greater than 0.95, meaning we can say there is a great deal of correlation between the number of purchases and the amount purchased in sterling."
   ]
  },
  {
   "cell_type": "markdown",
   "metadata": {
    "colab_type": "text",
    "id": "Zfz0fzTpA-3j"
   },
   "source": [
    "# Clustering\n",
    "Presume that the business analyst would like to cluster transactions with similar types of products into the same group (here don’t consider the quantity of the products). For each product, only use its ‘StockCode’ to represent it. All the results here should be based on the preprocessed data set obtained from question 1 to 3 of this assignment. Presume that this obtained data set from question 1 to 3 has a variable name ‘cluster_dataset’ and is expressed by Pandas DataFrame in your code.\n",
    "\n",
    "###Question 7 (Data transformation and clustering)\n",
    "7. (a) Calculate and show the number of occurrences of each product in data set   ‘cluster_dataset’. For example, if a product appears in a transaction, then its occurrence number will be increased by 1 (do not consider the quantity of this product here). Preserve the 100 most frequent products and remove all the other products in ‘cluster_dataset’. For example, if a row in ‘cluster_dataset’ contains unqualified product, then remove this row from ‘cluster_dataset’. Show the new ‘cluster_dataset’ in your result.\n"
   ]
  },
  {
   "cell_type": "code",
   "execution_count": 15,
   "metadata": {
    "colab": {},
    "colab_type": "code",
    "id": "tV-Zzxo-BJwS"
   },
   "outputs": [
    {
     "name": "stdout",
     "output_type": "stream",
     "text": [
      "[(23307, 496), (21915, 500), (22090, 500), (22114, 502), (82483, 507), (22556, 509), (22835, 510), (84378, 511), (23322, 517), (20972, 520), (22113, 522), (22355, 530), (21975, 532), (21485, 533), (21232, 536), (23344, 539), (22907, 542), (85152, 543), (22966, 545), (21166, 548), (21929, 551), (22865, 554), (22551, 561), (22326, 562), (84946, 564), (22698, 565), ('85099F', 569), (22554, 576), (21755, 579), ('85099C', 580), (22630, 586), (23208, 587), (22558, 588), (22662, 589), (23321, 591), (22728, 603), (21977, 610), (23300, 617), (22910, 618), (21733, 624), (21181, 625), (84991, 635), (23199, 642), (23207, 643), (22629, 650), (21175, 656), (22111, 658), (22722, 663), (22178, 667), (20724, 676), (21790, 677), (21080, 677), (23245, 689), (22112, 692), (23201, 692), (23084, 696), (22697, 697), (21754, 707), (21931, 713), (23301, 720), (22077, 723), (23202, 727), (23355, 731), (20914, 732), (22411, 743), (22699, 766), (22386, 778), (22470, 779), (22726, 790), ('82494L', 800), (20726, 807), (22139, 813), (22961, 814), (22666, 820), (22197, 821), (82482, 823), (22960, 830), (22993, 833), (23206, 836), (22138, 838), (22727, 872), (22086, 882), (22469, 892), (22384, 911), (20728, 938), (22457, 944), (21034, 951), (23209, 958), (21212, 962), (22382, 971), (23298, 981), (23203, 996), (22383, 1023), (20727, 1048), (22720, 1120), (84879, 1156), (20725, 1207), (47566, 1275), ('85099B', 1329), ('85123A', 1686)]\n",
      "        InvoiceNo StockCode                          Description  Quantity  \\\n",
      "0          536365    85123A   WHITE HANGING HEART T-LIGHT HOLDER         6   \n",
      "17         536367     21754             HOME BUILDING BLOCK WORD         3   \n",
      "18         536367     21755             LOVE BUILDING BLOCK WORD         3   \n",
      "21         536368     22960             JAM MAKING SET WITH JARS         6   \n",
      "26         536370     22728            ALARM CLOCK BAKELIKE PINK        24   \n",
      "27         536370     22727            ALARM CLOCK BAKELIKE RED         24   \n",
      "28         536370     22726           ALARM CLOCK BAKELIKE GREEN        12   \n",
      "34         536370     22326  ROUND SNACK BOXES SET OF4 WOODLAND         24   \n",
      "35         536370     22629                  SPACEBOY LUNCH BOX         24   \n",
      "49         536373    85123A   WHITE HANGING HEART T-LIGHT HOLDER         6   \n",
      "57         536373     82483   WOOD 2 DRAWER CABINET WHITE FINISH         2   \n",
      "59         536373     82482    WOODEN PICTURE FRAME WHITE FINISH         6   \n",
      "60         536373    82494L          WOODEN FRAME ANTIQUE WHITE          6   \n",
      "66         536375    85123A   WHITE HANGING HEART T-LIGHT HOLDER         6   \n",
      "74         536375     82483   WOOD 2 DRAWER CABINET WHITE FINISH         2   \n",
      "76         536375     82482    WOODEN PICTURE FRAME WHITE FINISH         6   \n",
      "77         536375    82494L          WOODEN FRAME ANTIQUE WHITE          6   \n",
      "86         536378     22386              JUMBO BAG PINK POLKADOT        10   \n",
      "87         536378    85099C       JUMBO  BAG BAROQUE BLACK WHITE        10   \n",
      "93         536378     20725              LUNCH BAG RED RETROSPOT        10   \n",
      "97         536378     21975       PACK OF 60 DINOSAUR CAKE CASES        24   \n",
      "98         536378     21977   PACK OF 60 PINK PAISLEY CAKE CASES        24   \n",
      "99         536378     84991          60 TEATIME FAIRY CAKE CASES        24   \n",
      "103        536378     21931               JUMBO STORAGE BAG SUKI        10   \n",
      "104        536378     21929       JUMBO BAG PINK VINTAGE PAISLEY        10   \n",
      "105        536380     22961               JAM MAKING SET PRINTED        24   \n",
      "106        536381     22139     RETROSPOT TEA SET CERAMIC 11 PC         23   \n",
      "108        536381     22411    JUMBO SHOPPER VINTAGE RED PAISLEY        10   \n",
      "118        536381     21166           COOK WITH WINE METAL SIGN          1   \n",
      "119        536381     21175          GIN + TONIC DIET METAL SIGN         2   \n",
      "...           ...       ...                                  ...       ...   \n",
      "541800     581578     23298                       SPOTTY BUNTING         9   \n",
      "541801     581578     22993         SET OF 4 PANTRY JELLY MOULDS        12   \n",
      "541802     581578     22907     PACK OF 20 NAPKINS PANTRY DESIGN        12   \n",
      "541806     581579     22386              JUMBO BAG PINK POLKADOT        10   \n",
      "541807     581579     22411    JUMBO SHOPPER VINTAGE RED PAISLEY        10   \n",
      "541808     581579     21929       JUMBO BAG PINK VINTAGE PAISLEY        10   \n",
      "541809     581579    85099C       JUMBO  BAG BAROQUE BLACK WHITE        10   \n",
      "541811     581579     21931               JUMBO STORAGE BAG SUKI        10   \n",
      "541817     581579     22910    PAPER CHAIN KIT VINTAGE CHRISTMAS        12   \n",
      "541818     581579     22086      PAPER CHAIN KIT 50'S CHRISTMAS         12   \n",
      "541822     581579     22993         SET OF 4 PANTRY JELLY MOULDS        12   \n",
      "541824     581579     23084                   RABBIT NIGHT LIGHT        24   \n",
      "541825     581579     22197                       POPCORN HOLDER        24   \n",
      "541832     581579     23201                   JUMBO BAG ALPHABET        20   \n",
      "541834     581579     23344            JUMBO BAG 50'S CHRISTMAS         20   \n",
      "541837     581580     21790                   VINTAGE SNAP CARDS         1   \n",
      "541856     581580     22698       PINK REGENCY TEACUP AND SAUCER         1   \n",
      "541871     581585     22178      VICTORIAN GLASS HANGING T-LIGHT        12   \n",
      "541874     581585     23084                   RABBIT NIGHT LIGHT        12   \n",
      "541875     581585     84879        ASSORTED COLOUR BIRD ORNAMENT        16   \n",
      "541877     581585     22113          GREY HEART HOT WATER BOTTLE         4   \n",
      "541879     581585     22726           ALARM CLOCK BAKELIKE GREEN         8   \n",
      "541880     581585     22727            ALARM CLOCK BAKELIKE RED          4   \n",
      "541884     581585     84946         ANTIQUE SILVER T-LIGHT GLASS        12   \n",
      "541895     581587     22556       PLASTERS IN TIN CIRCUS PARADE         12   \n",
      "541897     581587     22728            ALARM CLOCK BAKELIKE PINK         4   \n",
      "541898     581587     22727            ALARM CLOCK BAKELIKE RED          4   \n",
      "541899     581587     22726           ALARM CLOCK BAKELIKE GREEN         4   \n",
      "541902     581587     22629                  SPACEBOY LUNCH BOX         12   \n",
      "541908     581587     22138        BAKING SET 9 PIECE RETROSPOT          3   \n",
      "\n",
      "               InvoiceDate  UnitPrice  CustomerID         Country  \n",
      "0      2010-12-01 08:26:00       2.55     17850.0  United Kingdom  \n",
      "17     2010-12-01 08:34:00       5.95     13047.0  United Kingdom  \n",
      "18     2010-12-01 08:34:00       5.95     13047.0  United Kingdom  \n",
      "21     2010-12-01 08:34:00       4.25     13047.0  United Kingdom  \n",
      "26     2010-12-01 08:45:00       3.75     12583.0          France  \n",
      "27     2010-12-01 08:45:00       3.75     12583.0          France  \n",
      "28     2010-12-01 08:45:00       3.75     12583.0          France  \n",
      "34     2010-12-01 08:45:00       2.95     12583.0          France  \n",
      "35     2010-12-01 08:45:00       1.95     12583.0          France  \n",
      "49     2010-12-01 09:02:00       2.55     17850.0  United Kingdom  \n",
      "57     2010-12-01 09:02:00       4.95     17850.0  United Kingdom  \n",
      "59     2010-12-01 09:02:00       2.10     17850.0  United Kingdom  \n",
      "60     2010-12-01 09:02:00       2.55     17850.0  United Kingdom  \n",
      "66     2010-12-01 09:32:00       2.55     17850.0  United Kingdom  \n",
      "74     2010-12-01 09:32:00       4.95     17850.0  United Kingdom  \n",
      "76     2010-12-01 09:32:00       2.10     17850.0  United Kingdom  \n",
      "77     2010-12-01 09:32:00       2.55     17850.0  United Kingdom  \n",
      "86     2010-12-01 09:37:00       1.95     14688.0  United Kingdom  \n",
      "87     2010-12-01 09:37:00       1.95     14688.0  United Kingdom  \n",
      "93     2010-12-01 09:37:00       1.65     14688.0  United Kingdom  \n",
      "97     2010-12-01 09:37:00       0.55     14688.0  United Kingdom  \n",
      "98     2010-12-01 09:37:00       0.55     14688.0  United Kingdom  \n",
      "99     2010-12-01 09:37:00       0.55     14688.0  United Kingdom  \n",
      "103    2010-12-01 09:37:00       1.95     14688.0  United Kingdom  \n",
      "104    2010-12-01 09:37:00       1.95     14688.0  United Kingdom  \n",
      "105    2010-12-01 09:41:00       1.45     17809.0  United Kingdom  \n",
      "106    2010-12-01 09:41:00       4.25     15311.0  United Kingdom  \n",
      "108    2010-12-01 09:41:00       1.95     15311.0  United Kingdom  \n",
      "118    2010-12-01 09:41:00       1.95     15311.0  United Kingdom  \n",
      "119    2010-12-01 09:41:00       2.10     15311.0  United Kingdom  \n",
      "...                    ...        ...         ...             ...  \n",
      "541800 2011-12-09 12:16:00       4.95     12713.0         Germany  \n",
      "541801 2011-12-09 12:16:00       1.25     12713.0         Germany  \n",
      "541802 2011-12-09 12:16:00       0.85     12713.0         Germany  \n",
      "541806 2011-12-09 12:19:00       1.79     17581.0  United Kingdom  \n",
      "541807 2011-12-09 12:19:00       1.79     17581.0  United Kingdom  \n",
      "541808 2011-12-09 12:19:00       1.79     17581.0  United Kingdom  \n",
      "541809 2011-12-09 12:19:00       1.79     17581.0  United Kingdom  \n",
      "541811 2011-12-09 12:19:00       1.79     17581.0  United Kingdom  \n",
      "541817 2011-12-09 12:19:00       2.95     17581.0  United Kingdom  \n",
      "541818 2011-12-09 12:19:00       2.95     17581.0  United Kingdom  \n",
      "541822 2011-12-09 12:19:00       1.25     17581.0  United Kingdom  \n",
      "541824 2011-12-09 12:19:00       1.79     17581.0  United Kingdom  \n",
      "541825 2011-12-09 12:19:00       0.85     17581.0  United Kingdom  \n",
      "541832 2011-12-09 12:19:00       1.79     17581.0  United Kingdom  \n",
      "541834 2011-12-09 12:19:00       1.79     17581.0  United Kingdom  \n",
      "541837 2011-12-09 12:20:00       0.85     12748.0  United Kingdom  \n",
      "541856 2011-12-09 12:20:00       2.95     12748.0  United Kingdom  \n",
      "541871 2011-12-09 12:31:00       1.95     15804.0  United Kingdom  \n",
      "541874 2011-12-09 12:31:00       2.08     15804.0  United Kingdom  \n",
      "541875 2011-12-09 12:31:00       1.69     15804.0  United Kingdom  \n",
      "541877 2011-12-09 12:31:00       4.25     15804.0  United Kingdom  \n",
      "541879 2011-12-09 12:31:00       3.75     15804.0  United Kingdom  \n",
      "541880 2011-12-09 12:31:00       3.75     15804.0  United Kingdom  \n",
      "541884 2011-12-09 12:31:00       1.25     15804.0  United Kingdom  \n",
      "541895 2011-12-09 12:50:00       1.65     12680.0          France  \n",
      "541897 2011-12-09 12:50:00       3.75     12680.0          France  \n",
      "541898 2011-12-09 12:50:00       3.75     12680.0          France  \n",
      "541899 2011-12-09 12:50:00       3.75     12680.0          France  \n",
      "541902 2011-12-09 12:50:00       1.95     12680.0          France  \n",
      "541908 2011-12-09 12:50:00       4.95     12680.0          France  \n",
      "\n",
      "[72497 rows x 8 columns]\n"
     ]
    }
   ],
   "source": [
    "# your code\n",
    "from copy import deepcopy\n",
    "cluster_dataset = deepcopy(clearedDataset)\n",
    "\n",
    "def generateOccurrences(pandaObject):\n",
    "    occurrenceDict = {}\n",
    "    for index, row in pandaObject.iterrows():\n",
    "        item = row[\"StockCode\"]\n",
    "        if item not in occurrenceDict:\n",
    "            occurrenceDict[item] = 1\n",
    "        else:\n",
    "            occurrenceDict[item] += 1\n",
    "    return occurrenceDict\n",
    "\n",
    "itemOccurrence = generateOccurrences(cluster_dataset)\n",
    "# print(itemOccurrence)\n",
    "\n",
    "sortedItemOccurrence = sorted(itemOccurrence.items(), key=lambda x: x[1])\n",
    "top100_stockCode_count = sortedItemOccurrence[-100:]\n",
    "# print(top100_stockCode_count)\n",
    "\n",
    "# top100_stockCode_count contains tuples of the form (StockCode, totalCount)\n",
    "# fetch the stock codes\n",
    "print(top100_stockCode_count)\n",
    "wantedStockCodes = []\n",
    "for (stockCode, totalCount) in top100_stockCode_count:\n",
    "    wantedStockCodes.append(stockCode)\n",
    "\n",
    "# clear dataset from the unwanted rows (which does not have wanted stock code)\n",
    "def getWantedRows(pandaObject, fieldName, fieldValues):\n",
    "    newRows = []\n",
    "    for index, row in pandaObject.iterrows():\n",
    "        if row[fieldName] in fieldValues:\n",
    "            newRows.append(row)\n",
    "    \n",
    "    newDataFrame = pd.DataFrame(newRows, columns = pandaObject.columns)\n",
    "    return newDataFrame\n",
    "\n",
    "cluster_dataset_cleared = getWantedRows(cluster_dataset, \"StockCode\", wantedStockCodes)\n",
    "print(cluster_dataset_cleared)"
   ]
  },
  {
   "cell_type": "markdown",
   "metadata": {
    "colab_type": "text",
    "id": "zvM5UjQclH0j"
   },
   "source": [
    "7. (b) Based on question a, please reorganize the data from ‘cluster_dataset’ and generate a new data set ‘cluster_dataset_new’ which has a suitable format (for k-means) for solving the transaction clustering problem mentioned above. Show the data from ‘cluster_dataset_new’ by using Pandas DataFrame in your result, where the index should be consistent with the values of 'InvoiceNo', the column name should be consistent with the values of 'StockCode' and each element in this DataFrame should have a value 0 or 1."
   ]
  },
  {
   "cell_type": "code",
   "execution_count": 16,
   "metadata": {
    "colab": {},
    "colab_type": "code",
    "id": "VMLEa0gslXcD"
   },
   "outputs": [
    {
     "name": "stdout",
     "output_type": "stream",
     "text": [
      "13519\n",
      "       InvoiceNo  23307  21915  22090  22114  82483  22556  22835  84378  \\\n",
      "0         536365      0      0      0      0      0      0      0      0   \n",
      "1         536367      0      0      0      0      0      0      0      0   \n",
      "2         536368      0      0      0      0      0      0      0      0   \n",
      "3         536370      0      0      0      0      0      0      0      0   \n",
      "4         536373      0      0      0      0      1      0      0      0   \n",
      "5         536375      0      0      0      0      1      0      0      0   \n",
      "6         536378      0      0      0      0      0      0      0      0   \n",
      "7         536380      0      0      0      0      0      0      0      0   \n",
      "8         536381      0      0      0      0      0      0      0      0   \n",
      "9         536382      0      0      0      0      0      0      0      0   \n",
      "10        536384      0      0      0      0      0      0      0      0   \n",
      "11        536385      0      0      0      0      0      0      0      0   \n",
      "12        536388      0      0      0      0      0      0      0      0   \n",
      "13        536389      0      0      0      0      0      0      0      0   \n",
      "14        536390      0      0      0      0      0      0      0      0   \n",
      "15        536392      0      0      0      0      0      0      0      0   \n",
      "16        536394      0      0      0      0      0      0      0      0   \n",
      "17        536395      0      0      0      1      0      0      0      0   \n",
      "18        536396      0      0      0      0      1      0      0      0   \n",
      "19        536398      0      0      0      1      0      0      1      0   \n",
      "20        536401      0      0      0      0      1      0      0      0   \n",
      "21        536404      0      0      0      0      0      0      0      1   \n",
      "22        536406      0      0      0      0      1      0      0      0   \n",
      "23        536408      0      1      0      1      0      0      0      0   \n",
      "24        536409      0      0      0      0      0      0      0      0   \n",
      "25        536412      0      0      0      0      0      0      0      0   \n",
      "26        536415      0      0      0      0      0      0      0      0   \n",
      "27        536416      0      0      0      0      0      0      0      0   \n",
      "28        536420      0      0      0      0      0      0      0      0   \n",
      "29        536423      0      0      0      0      0      0      0      0   \n",
      "...          ...    ...    ...    ...    ...    ...    ...    ...    ...   \n",
      "13489     581456      0      0      0      0      0      0      0      0   \n",
      "13490     581467      0      0      0      0      0      0      0      0   \n",
      "13491     581469      0      0      0      0      0      0      0      0   \n",
      "13492     581471      0      0      0      0      0      0      0      0   \n",
      "13493     581472      0      0      0      0      0      0      0      0   \n",
      "13494     581473      0      0      0      0      0      0      0      0   \n",
      "13495     581474      0      0      0      0      0      0      0      0   \n",
      "13496     581476      0      0      0      1      0      0      1      0   \n",
      "13497     581477      0      0      0      0      0      0      0      0   \n",
      "13498     581478      0      0      0      0      0      0      0      0   \n",
      "13499     581480      0      0      0      0      0      0      0      0   \n",
      "13500     581482      0      0      0      0      0      0      0      0   \n",
      "13501     581486      0      0      0      0      0      0      0      0   \n",
      "13502     581493      0      0      0      0      0      0      0      0   \n",
      "13503     581494      0      0      0      0      0      1      0      0   \n",
      "13504     581495      0      0      0      0      0      0      0      0   \n",
      "13505     581496      0      0      0      0      0      0      1      0   \n",
      "13506     581502      0      0      0      0      0      0      0      0   \n",
      "13507     581516      0      0      0      0      0      0      0      0   \n",
      "13508     581538      0      0      0      0      0      0      0      0   \n",
      "13509     581567      0      0      0      0      0      0      0      0   \n",
      "13510     581570      0      0      0      0      0      0      0      0   \n",
      "13511     581571      0      0      0      0      0      0      0      0   \n",
      "13512     581572      0      0      0      0      0      0      0      0   \n",
      "13513     581574      0      0      0      0      0      0      0      0   \n",
      "13514     581578      0      0      0      0      0      1      0      0   \n",
      "13515     581579      0      0      0      0      0      0      0      0   \n",
      "13516     581580      0      0      0      0      0      0      0      0   \n",
      "13517     581585      0      0      0      0      0      0      0      0   \n",
      "13518     581587      0      0      0      0      0      1      0      0   \n",
      "\n",
      "       23322   ...    23298  23203  22383  20727  22720  84879  20725  47566  \\\n",
      "0          0   ...        0      0      0      0      0      0      0      0   \n",
      "1          0   ...        0      0      0      0      0      0      0      0   \n",
      "2          0   ...        0      0      0      0      0      0      0      0   \n",
      "3          0   ...        0      0      0      0      0      0      0      0   \n",
      "4          0   ...        0      0      0      0      0      0      0      0   \n",
      "5          0   ...        0      0      0      0      0      0      0      0   \n",
      "6          0   ...        0      0      0      0      0      0      1      0   \n",
      "7          0   ...        0      0      0      0      0      0      0      0   \n",
      "8          0   ...        0      0      0      0      0      0      0      0   \n",
      "9          0   ...        0      0      0      0      0      0      0      0   \n",
      "10         0   ...        0      0      0      0      0      0      0      0   \n",
      "11         0   ...        0      0      0      0      0      0      0      0   \n",
      "12         0   ...        0      0      0      0      0      0      0      0   \n",
      "13         0   ...        0      0      0      0      0      0      0      0   \n",
      "14         0   ...        0      0      0      0      0      0      0      0   \n",
      "15         0   ...        0      0      0      0      0      1      0      0   \n",
      "16         0   ...        0      0      0      0      0      0      0      0   \n",
      "17         0   ...        0      0      0      0      0      0      0      0   \n",
      "18         0   ...        0      0      0      0      0      0      0      0   \n",
      "19         0   ...        0      0      0      0      0      0      0      0   \n",
      "20         0   ...        0      0      0      0      0      0      1      0   \n",
      "21         0   ...        0      0      1      1      0      0      0      0   \n",
      "22         0   ...        0      0      0      0      0      0      0      0   \n",
      "23         0   ...        0      0      0      0      0      1      0      0   \n",
      "24         0   ...        0      0      0      0      0      0      0      0   \n",
      "25         0   ...        0      0      1      1      0      0      1      0   \n",
      "26         0   ...        0      0      0      0      0      0      0      0   \n",
      "27         0   ...        0      0      0      0      0      0      0      0   \n",
      "28         0   ...        0      0      0      0      0      0      0      0   \n",
      "29         0   ...        0      0      0      0      0      0      0      0   \n",
      "...      ...   ...      ...    ...    ...    ...    ...    ...    ...    ...   \n",
      "13489      0   ...        0      0      0      0      0      0      0      0   \n",
      "13490      0   ...        0      0      0      0      0      0      0      0   \n",
      "13491      0   ...        0      0      0      0      0      0      0      0   \n",
      "13492      0   ...        0      0      0      0      0      0      0      0   \n",
      "13493      0   ...        1      0      0      0      0      0      0      0   \n",
      "13494      0   ...        0      0      0      0      0      0      0      0   \n",
      "13495      0   ...        0      0      0      0      0      0      0      0   \n",
      "13496      0   ...        0      0      0      0      1      0      0      0   \n",
      "13497      0   ...        0      0      0      0      0      0      0      0   \n",
      "13498      0   ...        0      0      0      0      0      0      0      0   \n",
      "13499      0   ...        0      0      0      0      0      0      0      0   \n",
      "13500      0   ...        0      0      0      0      0      0      0      0   \n",
      "13501      0   ...        0      1      0      0      0      0      0      0   \n",
      "13502      0   ...        0      0      0      0      0      0      0      0   \n",
      "13503      0   ...        0      0      0      0      0      0      0      0   \n",
      "13504      0   ...        0      0      0      0      0      0      0      0   \n",
      "13505      0   ...        1      0      0      0      0      0      0      0   \n",
      "13506      0   ...        0      0      0      0      0      0      0      0   \n",
      "13507      0   ...        0      0      0      0      0      0      0      0   \n",
      "13508      0   ...        0      0      0      1      0      0      1      0   \n",
      "13509      0   ...        0      0      0      0      0      0      0      0   \n",
      "13510      0   ...        0      0      0      0      0      0      0      0   \n",
      "13511      0   ...        0      0      0      0      0      0      0      0   \n",
      "13512      0   ...        0      0      0      0      0      0      0      0   \n",
      "13513      0   ...        0      0      0      0      0      0      0      0   \n",
      "13514      0   ...        1      0      0      0      0      0      0      0   \n",
      "13515      0   ...        0      0      0      0      0      0      0      0   \n",
      "13516      0   ...        0      0      0      0      0      0      0      0   \n",
      "13517      0   ...        0      0      0      0      0      1      0      0   \n",
      "13518      0   ...        0      0      0      0      0      0      0      0   \n",
      "\n",
      "       85099B  85123A  \n",
      "0           0       1  \n",
      "1           0       0  \n",
      "2           0       0  \n",
      "3           0       0  \n",
      "4           0       1  \n",
      "5           0       1  \n",
      "6           0       0  \n",
      "7           0       0  \n",
      "8           0       0  \n",
      "9           0       0  \n",
      "10          0       0  \n",
      "11          0       0  \n",
      "12          0       0  \n",
      "13          0       0  \n",
      "14          0       0  \n",
      "15          0       0  \n",
      "16          0       0  \n",
      "17          0       0  \n",
      "18          0       1  \n",
      "19          0       0  \n",
      "20          0       1  \n",
      "21          0       0  \n",
      "22          0       1  \n",
      "23          0       0  \n",
      "24          1       0  \n",
      "25          0       0  \n",
      "26          0       0  \n",
      "27          0       0  \n",
      "28          0       0  \n",
      "29          0       0  \n",
      "...       ...     ...  \n",
      "13489       0       0  \n",
      "13490       0       0  \n",
      "13491       0       0  \n",
      "13492       0       0  \n",
      "13493       0       1  \n",
      "13494       0       0  \n",
      "13495       0       0  \n",
      "13496       0       0  \n",
      "13497       0       0  \n",
      "13498       0       0  \n",
      "13499       0       0  \n",
      "13500       0       0  \n",
      "13501       1       0  \n",
      "13502       0       0  \n",
      "13503       0       0  \n",
      "13504       0       0  \n",
      "13505       0       0  \n",
      "13506       0       0  \n",
      "13507       0       0  \n",
      "13508       0       1  \n",
      "13509       0       0  \n",
      "13510       0       0  \n",
      "13511       0       0  \n",
      "13512       0       0  \n",
      "13513       0       0  \n",
      "13514       0       0  \n",
      "13515       0       0  \n",
      "13516       0       0  \n",
      "13517       0       0  \n",
      "13518       0       0  \n",
      "\n",
      "[13519 rows x 101 columns]\n"
     ]
    }
   ],
   "source": [
    "# your code\n",
    "\n",
    "def newDatasetSpitter(pandaObject, fieldsToInclude, stockCodesToInclude):\n",
    "    # list to dictionary for indexing\n",
    "    stockCodeDict = {}\n",
    "    for i in range(0, len(stockCodesToInclude)):\n",
    "        stockCodeDict[stockCodesToInclude[i]] = i\n",
    "    \n",
    "    # invoiceNo - stockCode dictionary (empty filling)\n",
    "    invoice_stock_dict = {}\n",
    "    for index, row in pandaObject.iterrows():\n",
    "        invoiceNo = row[\"InvoiceNo\"]\n",
    "        invoice_stock_dict[invoiceNo] = []\n",
    "    \n",
    "    # invoiceNo - stockCode dictionary (populate)\n",
    "    for index, row in pandaObject.iterrows():\n",
    "        stockCode = row[\"StockCode\"]\n",
    "        invoiceNo = row[\"InvoiceNo\"]\n",
    "        invoice_stock_dict[invoiceNo].append(stockCode)\n",
    "    # print(invoice_stock_dict)\n",
    "    \n",
    "    # invoiceNos - sorted\n",
    "    sortedInvoiceNos = sorted(invoice_stock_dict.keys())\n",
    "    \n",
    "    # create empty row (deepcopy it later)\n",
    "    emptyRow = [0] * len(stockCodesToInclude)\n",
    "    \n",
    "    newRows = []\n",
    "    for invoiceNo in sortedInvoiceNos:\n",
    "        #build empty one hot row\n",
    "        emptyDuplicate = deepcopy(emptyRow)\n",
    "        \n",
    "        # populate one-hot row with 1's based on stockCode\n",
    "        for stockCode in invoice_stock_dict[invoiceNo]:\n",
    "            indexStockCode = stockCodeDict[stockCode]\n",
    "            emptyDuplicate[indexStockCode] = 1\n",
    "            \n",
    "        newRow = [invoiceNo] + emptyDuplicate\n",
    "        newRows.append(newRow)\n",
    "        \n",
    "    print(len(newRows))\n",
    "    \n",
    "    newColumns = [\"InvoiceNo\"] + stockCodesToInclude\n",
    "    newDF = pd.DataFrame(newRows, columns=newColumns)\n",
    "    \n",
    "    return newDF\n",
    "\n",
    "cluster_dataset_new = newDatasetSpitter(cluster_dataset_cleared, [\"InvoiceNo\"], wantedStockCodes)\n",
    "print(cluster_dataset_new)\n"
   ]
  },
  {
   "cell_type": "code",
   "execution_count": 17,
   "metadata": {},
   "outputs": [
    {
     "name": "stdout",
     "output_type": "stream",
     "text": [
      "101\n",
      "[536365, 0, 0, 0, 0, 0, 0, 0, 0, 0, 0, 0, 0, 0, 0, 0, 0, 0, 0, 0, 0, 0, 0, 0, 0, 0, 0, 0, 0, 0, 0, 0, 0, 0, 0, 0, 0, 0, 0, 0, 0, 0, 0, 0, 0, 0, 0, 0, 0, 0, 0, 0, 0, 0, 0, 0, 0, 0, 0, 0, 0, 0, 0, 0, 0, 0, 0, 0, 0, 0, 0, 0, 0, 0, 0, 0, 0, 0, 0, 0, 0, 0, 0, 0, 0, 0, 0, 0, 0, 0, 0, 0, 0, 0, 0, 0, 0, 0, 0, 0, 1]\n"
     ]
    }
   ],
   "source": [
    "print(len(cluster_dataset_new.loc[0]))\n",
    "print(list(cluster_dataset_new.iloc[0]))"
   ]
  },
  {
   "cell_type": "markdown",
   "metadata": {
    "colab_type": "text",
    "id": "ox2r6Nvxlcm4"
   },
   "source": [
    "7. (c) Try values 2, 3, 4, 5 for parameter 'n_clusters' for the k-means function from Scikit-Learn over the data set ‘cluster_dataset_new’ generated in question b. Show the ‘within cluster variation’ (also called ‘sum of squared distances’) of the generated clusters for each different setting for ‘n_clusters’ in your result. Also write down the value that you have tried for setting 'n_clusters' which can help generate the best clustering results and explain how you make this decision."
   ]
  },
  {
   "cell_type": "code",
   "execution_count": 18,
   "metadata": {
    "colab": {},
    "colab_type": "code",
    "id": "Q68MWZDIlrOn"
   },
   "outputs": [
    {
     "name": "stdout",
     "output_type": "stream",
     "text": [
      "100\n",
      "[0, 0, 0, 0, 0, 0, 0, 0, 0, 0, 0, 0, 0, 0, 0, 0, 0, 0, 0, 0, 0, 0, 0, 0, 0, 0, 0, 0, 0, 0, 0, 0, 0, 0, 0, 0, 0, 0, 0, 0, 0, 0, 0, 0, 0, 0, 0, 0, 0, 0, 0, 0, 0, 0, 0, 0, 0, 0, 0, 0, 0, 0, 0, 0, 0, 0, 0, 0, 0, 0, 0, 0, 0, 0, 0, 0, 0, 0, 0, 0, 0, 0, 0, 0, 0, 0, 0, 0, 0, 0, 0, 0, 0, 0, 0, 0, 0, 0, 0, 1]\n"
     ]
    }
   ],
   "source": [
    "# your code\n",
    "from sklearn.cluster import KMeans\n",
    "\n",
    "# requiredColumns = list(cluster_dataset_new.columns)\n",
    "# requiredColumns.remove(\"InvoiceNo\")\n",
    "# print(requiredColumns)\n",
    "\n",
    "cluster_dataset_new_withoutIDs = cluster_dataset_new.drop(columns=[\"InvoiceNo\"])\n",
    "# cluster_dataset_new_withoutIDs = cluster_dataset_new\n",
    "#print(cluster_dataset_new_withoutIDs)\n",
    "\n",
    "print(len(cluster_dataset_new_withoutIDs.loc[0]))\n",
    "print(list(cluster_dataset_new_withoutIDs.iloc[0]))"
   ]
  },
  {
   "cell_type": "code",
   "execution_count": 19,
   "metadata": {},
   "outputs": [],
   "source": [
    "n_cluster_list = [2,3,4,5,6,7,8,9,10,14,18,24]\n",
    "kMeansDict = {}\n",
    "for n in n_cluster_list:\n",
    "    # random_state=0\n",
    "    kMeansResult = KMeans(n_clusters=n).fit(cluster_dataset_new_withoutIDs)\n",
    "    kMeansDict[n] = kMeansResult"
   ]
  },
  {
   "cell_type": "code",
   "execution_count": 20,
   "metadata": {},
   "outputs": [],
   "source": [
    "def _createDictWithZeroes(listVar):\n",
    "    newDict = {}\n",
    "    for i in listVar:\n",
    "        newDict[i] = 0.0\n",
    "    return newDict\n",
    "\n",
    "def _findClusterMean(rowList, wantedStockCodes):\n",
    "    stockDict = _createDictWithZeroes(wantedStockCodes)\n",
    "    \n",
    "    for row in rowList:\n",
    "        for key in stockDict.keys():\n",
    "            if row[key] != 0:\n",
    "                stockDict[key] += 1\n",
    "        \n",
    "    nOfRows = len(rowList)\n",
    "    \n",
    "    for key in stockDict.keys():\n",
    "        stockDict[key] = stockDict[key]/nOfRows\n",
    "        \n",
    "    return stockDict\n",
    "\n",
    "def _instanceSquaredDistanceCalculator(rowObj, clusterMeanDict):\n",
    "    sumOfDiffs = 0.0\n",
    "    keyList = list(clusterMeanDict.keys())\n",
    "    for key in keyList:\n",
    "        \n",
    "        instanceValue = rowObj[key]\n",
    "        meanValue = clusterMeanDict[key]        \n",
    "        squaredDiff = (instanceValue - meanValue)**2\n",
    "        sumOfDiffs += squaredDiff\n",
    "    return sumOfDiffs\n",
    "\n",
    "def _clusterSquaredDistanceCalculator(rowList, clusterMeanDict):\n",
    "    \n",
    "    sumOfDiffs = float(0.0)\n",
    "    index = 0\n",
    "    for row in rowList:\n",
    "        d = _instanceSquaredDistanceCalculator(row, clusterMeanDict)\n",
    "        sumOfDiffs += d\n",
    "        \n",
    "#         if index % 1000 == 0:\n",
    "#             print(index)\n",
    "        index += 1\n",
    "    \n",
    "    # nOfRows = len(rowList)\n",
    "    return sumOfDiffs\n",
    "    \n",
    "def withinClusterVariation(kMeansObj, nOfClusters, dataset, wantedStockCodes):\n",
    "    print(\"Running\")\n",
    "    \n",
    "    rowClusterDistribution = {}\n",
    "    for nthCluster in range(0, nOfClusters):\n",
    "        rowClusterDistribution[nthCluster] = []\n",
    "    \n",
    "    # append rows to their respective cluster\n",
    "    labels = kMeansObj.labels_\n",
    "    for i in range(0, len(labels)):\n",
    "        label = labels[i]\n",
    "        rowClusterDistribution[label].append(dataset.iloc[i])\n",
    "    \n",
    "    clusterVariationDict = {}\n",
    "    for nthCluster in range(0, nOfClusters):\n",
    "        # each stockCode and its column average as a dictionary\n",
    "        clusterMeanDict = _findClusterMean(rowClusterDistribution[nthCluster], wantedStockCodes)\n",
    "        print(\"    Cluster:\", nthCluster, \"|\", \"Length :\", len(rowClusterDistribution[nthCluster]))\n",
    "        # print(clusterMeanDict)\n",
    "\n",
    "        # find each cluster's \"withinClusterVariation\"\n",
    "        clusterVar = _clusterSquaredDistanceCalculator(rowClusterDistribution[nthCluster], clusterMeanDict)\n",
    "        clusterVariationDict[nthCluster] = clusterVar\n",
    "    \n",
    "    return clusterVariationDict"
   ]
  },
  {
   "cell_type": "code",
   "execution_count": 5,
   "metadata": {},
   "outputs": [
    {
     "name": "stdout",
     "output_type": "stream",
     "text": [
      "2 63241 6759\n",
      "3 61851 4506\n",
      "4 60697 3379\n",
      "5 59695 2703\n",
      "6 58781 2253\n",
      "7 58053 1931\n",
      "8 57272 1689\n",
      "9 56583 1502\n",
      "10 55946 1351\n",
      "14 54420 965\n",
      "18 52883 751\n",
      "24 50912 563\n",
      "best_n = 5\n"
     ]
    }
   ],
   "source": [
    "# def kMeansBenchmark(kMeansDict, nClusterList, dataset, wantedStockCodes):\n",
    "#     all_KMeansVariationDict = {}\n",
    "#     for n in nClusterList:\n",
    "#         print(\"Calculating for #clusters =\", n)\n",
    "#         clusterVariationDict = withinClusterVariation(kMeansDict[n], n, dataset, wantedStockCodes)\n",
    "#         all_KMeansVariationDict[n] = clusterVariationDict\n",
    "#     return all_KMeansVariationDict\n",
    "    \n",
    "# variationsDict  = kMeansBenchmark(kMeansDict, n_cluster_list, cluster_dataset_new_withoutIDs, wantedStockCodes)\n",
    "    \n",
    "# x = withinClusterVariation(kMeansDict[2], 2, cluster_dataset_new, wantedStockCodes)\n",
    "\n",
    "totalInvoiceNumber = len(cluster_dataset_new_withoutIDs)\n",
    "for n in n_cluster_list:\n",
    "    # random_state=0\n",
    "    KMeans = kMeansDict[n]\n",
    "    vari = KMeans.inertia_\n",
    "    print(n, int(vari), int(totalInvoiceNumber/n))\n",
    "\n",
    "best_n = 5\n",
    "print(\"best_n\", \"=\", best_n)"
   ]
  },
  {
   "cell_type": "markdown",
   "metadata": {
    "colab_type": "text",
    "id": "q_X_6ev3Ojqu"
   },
   "source": [
    "Your explanation:\n",
    "\n",
    "best_n = 5\n",
    "\n",
    "# citation: <br>\n",
    "http://www.scikit-yb.org/en/latest/api/cluster/elbow.html\n",
    "\n",
    "Although I did not draw a graph here, the elbow method states that: <br>\n",
    "when a graph of sum of squared errors per k-values are drawn, at some specific k-value, it will give you an \"elbow\" shape, where this elbow is two lines with one intersection. <br>\n",
    "That intersection is our specific k-value, also considered as \"best k-value\".\n",
    "\n",
    "After drawing the graph, I decided that k = 5 is a good choice. <br>\n",
    "Although I also tried much bigger k values in the cell above, increasing it beyond some value is meaningless, k can go up to the number of invoices, but that would mean nothing.\n",
    "\n",
    "That is why I preferred \"elbow method\", and k = 5 is the preferred k value."
   ]
  },
  {
   "cell_type": "markdown",
   "metadata": {
    "colab_type": "text",
    "id": "ekfbWzxdBKU8"
   },
   "source": [
    "# Frequent Itemsets and Association Rules\n",
    " For the clusters output by k-means function with the best 'n_clusters' from question 7, the business analyst now would like to research on the frequent purchase behaviours and specific purchase rules for each cluster.\n",
    "###Question 8 (Data transformation and mining frequent itemsets and association rules)\n",
    "8. (a) Set the minimum support for finding the frequent purchase behaviours to 0.2. Please provide the business analyst with the qualified purchase behaviours. For each product, only use its ‘StockCode’ to represent it. Also show the data set prepared for each cluster for mining the frequent behaviours by using Pandas DataFrame in your result, the data set for the cluster k should have the variable name 'fpb_data_k' in your code."
   ]
  },
  {
   "cell_type": "code",
   "execution_count": 24,
   "metadata": {},
   "outputs": [],
   "source": [
    "# necessary functions\n",
    "def clusterDictFromKMeans(kMeansObj, n, dataset):\n",
    "    clusterRowDict = {}\n",
    "    for i in range(n):\n",
    "        clusterRowDict[i] = []\n",
    "    \n",
    "    labelList = kMeansObj.labels_\n",
    "    nOfLabels = len(labelList)\n",
    "    for index in range(nOfLabels):\n",
    "        label = labelList[index]\n",
    "        row = dataset.iloc[index]\n",
    "        clusterRowDict[label].append(row)\n",
    "        \n",
    "    return clusterRowDict\n",
    "\n",
    "def convertToPandas(clusterRowDictVar, previousDataset):\n",
    "    pdLabels = previousDataset.columns\n",
    "    returnDict ={}\n",
    "    for key in clusterRowDictVar.keys():\n",
    "        rows = clusterRowDictVar[key]\n",
    "        pandaObj = pd.DataFrame(rows, columns=pdLabels)\n",
    "        returnDict[key] = pandaObj\n",
    "    return returnDict"
   ]
  },
  {
   "cell_type": "code",
   "execution_count": 25,
   "metadata": {
    "colab": {},
    "colab_type": "code",
    "id": "kZPTJqxmBOr3"
   },
   "outputs": [],
   "source": [
    "# your code\n",
    "selectedKMeans = kMeansDict[best_n]\n",
    "\n",
    "clusterRowDict = clusterDictFromKMeans(selectedKMeans, best_n, cluster_dataset_new)\n",
    "clusterRowDict = convertToPandas(clusterRowDict, cluster_dataset_new)\n",
    "\n",
    "fpb_data_0 = clusterRowDict[0]\n",
    "fpb_data_1 = clusterRowDict[1]\n",
    "fpb_data_2 = clusterRowDict[2]\n",
    "fpb_data_3 = clusterRowDict[3]\n",
    "fpb_data_4 = clusterRowDict[4]"
   ]
  },
  {
   "cell_type": "code",
   "execution_count": 26,
   "metadata": {},
   "outputs": [],
   "source": [
    "# apriori algorithm\n",
    "\n",
    "def calculateSupport(clusterObj, requestedList):\n",
    "    # requested list contains StockCodes of items that we want to find support for\n",
    "    # clusterObj = pandas DataFrame\n",
    "    support_count = 0.0\n",
    "    for index, row in clusterObj.iterrows():\n",
    "        flag = True\n",
    "        for stockCode in requestedList:                \n",
    "            if row[stockCode] != 1:\n",
    "                flag = False\n",
    "                break\n",
    "        if flag == True:\n",
    "            support_count += 1\n",
    "            \n",
    "    support = support_count / len(clusterObj)\n",
    "    return support\n",
    "\n",
    "def findSingleSupports(clusterObj, minSupportValue, allStockCodes):\n",
    "    # clusterObj = pandas DataFrame    \n",
    "    minSupDict = {}\n",
    "    singleFrequentItemList = []\n",
    "    for stockCode in allStockCodes:\n",
    "        support = calculateSupport(clusterObj, [stockCode])\n",
    "        if support >= minSupportValue:\n",
    "            minSupDict[tuple([stockCode])] = support\n",
    "            singleFrequentItemList.append(stockCode)\n",
    "    return minSupDict, singleFrequentItemList\n",
    "    \n",
    "minSupport = 0.2"
   ]
  },
  {
   "cell_type": "code",
   "execution_count": 27,
   "metadata": {},
   "outputs": [
    {
     "name": "stdout",
     "output_type": "stream",
     "text": [
      "Finding for cluster #0\n",
      "On Level:  1\n",
      "{(21929,): 0.24911660777385158, ('85099F',): 0.2791519434628975, ('85099C',): 0.2826855123674912, (23199,): 0.27385159010600707, (23201,): 0.28533568904593637, (21931,): 0.2924028268551237, (23202,): 0.3401060070671378, (22411,): 0.3136042402826855, (22386,): 0.36925795053003535, (23203,): 0.4540636042402827, ('85099B',): 0.7084805653710248}\n",
      "On Level:  2\n",
      "{('85099F', '85099B'): 0.20759717314487633, ('85099B', '85099C'): 0.20936395759717313, (21931, '85099B'): 0.21643109540636044, (23202, 23203): 0.22791519434628976, (23202, '85099B'): 0.20141342756183744, (22411, '85099B'): 0.22879858657243815, (22386, '85099B'): 0.28533568904593637, (23203, '85099B'): 0.2676678445229682}\n",
      "On Level:  3\n",
      "Last Level:  2\n",
      "\n",
      "{1: {(21929,): 0.24911660777385158, ('85099F',): 0.2791519434628975, ('85099C',): 0.2826855123674912, (23199,): 0.27385159010600707, (23201,): 0.28533568904593637, (21931,): 0.2924028268551237, (23202,): 0.3401060070671378, (22411,): 0.3136042402826855, (22386,): 0.36925795053003535, (23203,): 0.4540636042402827, ('85099B',): 0.7084805653710248}, 2: {('85099F', '85099B'): 0.20759717314487633, ('85099B', '85099C'): 0.20936395759717313, (21931, '85099B'): 0.21643109540636044, (23202, 23203): 0.22791519434628976, (23202, '85099B'): 0.20141342756183744, (22411, '85099B'): 0.22879858657243815, (22386, '85099B'): 0.28533568904593637, (23203, '85099B'): 0.2676678445229682}}\n",
      "\n",
      "\n",
      "Finding for cluster #1\n",
      "On Level:  1\n",
      "{(22728,): 0.5486968449931413, (22726,): 0.7613168724279835, (22727,): 0.877914951989026}\n",
      "On Level:  2\n",
      "{(22728, 22726): 0.401920438957476, (22728, 22727): 0.46364883401920437, (22726, 22727): 0.6419753086419753}\n",
      "On Level:  3\n",
      "{(22728, 22726, 22727): 0.3196159122085048}\n",
      "On Level:  4\n",
      "Last Level:  3\n",
      "\n",
      "{1: {(22728,): 0.5486968449931413, (22726,): 0.7613168724279835, (22727,): 0.877914951989026}, 2: {(22728, 22726): 0.401920438957476, (22728, 22727): 0.46364883401920437, (22726, 22727): 0.6419753086419753}, 3: {(22728, 22726, 22727): 0.3196159122085048}}\n",
      "\n",
      "\n",
      "Finding for cluster #2\n",
      "On Level:  1\n",
      "{(21733,): 0.24778106508875739, ('85123A',): 0.9681952662721893}\n",
      "On Level:  2\n",
      "{(21733, '85123A'): 0.23002958579881658}\n",
      "On Level:  3\n",
      "Last Level:  2\n",
      "\n",
      "{1: {(21733,): 0.24778106508875739, ('85123A',): 0.9681952662721893}, 2: {(21733, '85123A'): 0.23002958579881658}}\n",
      "\n",
      "\n",
      "Finding for cluster #3\n",
      "On Level:  1\n",
      "{}\n",
      "On Level:  2\n",
      "Last Level:  1\n",
      "\n",
      "{1: {}}\n",
      "\n",
      "\n",
      "Finding for cluster #4\n",
      "On Level:  1\n",
      "{(23208,): 0.28291316526610644, (22662,): 0.3520074696545285, (23207,): 0.31092436974789917, (20724,): 0.20915032679738563, (20726,): 0.49486461251167135, (23206,): 0.4295051353874883, (22384,): 0.5247432306255836, (20728,): 0.5471521942110178, (23209,): 0.38935574229691877, (22382,): 0.5947712418300654, (22383,): 0.5891690009337068, (20727,): 0.5704948646125116, (20725,): 0.6405228758169934, ('85099B',): 0.21288515406162464}\n",
      "On Level:  2\n",
      "{(22662, 20726): 0.20074696545284781, (22662, 22382): 0.25396825396825395, (22662, 22383): 0.23062558356676005, (22662, 20727): 0.21475256769374415, (20725, 22662): 0.2334267040149393, (20726, 23206): 0.22782446311858076, (22384, 20726): 0.2642390289449113, (20728, 20726): 0.27824463118580767, (20726, 22382): 0.31932773109243695, (20726, 22383): 0.2931839402427638, (20726, 20727): 0.2735760971055089, (20725, 20726): 0.3333333333333333, (22384, 23206): 0.22128851540616246, (20728, 23206): 0.226890756302521, (23209, 23206): 0.24276377217553688, (23206, 22382): 0.24743230625583568, (23206, 22383): 0.2661064425770308, (23206, 20727): 0.2549019607843137, (20725, 23206): 0.2735760971055089, (20728, 22384): 0.31932773109243695, (22384, 23209): 0.21475256769374415, (22384, 22382): 0.2950513538748833, (22384, 22383): 0.30158730158730157, (22384, 20727): 0.3314659197012138, (22384, 20725): 0.3772175536881419, (20728, 22382): 0.3211951447245565, (20728, 22383): 0.3352007469654528, (20728, 20727): 0.3277310924369748, (20728, 20725): 0.34547152194211017, (23209, 22382): 0.22875816993464052, (23209, 22383): 0.2334267040149393, (23209, 20727): 0.23436041083099907, (23209, 20725): 0.25770308123249297, (22382, 22383): 0.3473389355742297, (22382, 20727): 0.33613445378151263, (20725, 22382): 0.3678804855275444, (22383, 20727): 0.34173669467787116, (20725, 22383): 0.38468720821662, (20725, 20727): 0.3697478991596639}\n",
      "On Level:  3\n",
      "{(22384, 20725, 20726): 0.20168067226890757, (20726, 20725, 22382): 0.2166199813258637, (20725, 20726, 22383): 0.2138188608776844, (20728, 22384, 20727): 0.2119514472455649, (20728, 22384, 20725): 0.2315592903828198, (22384, 20725, 22382): 0.21288515406162464, (22384, 20725, 22383): 0.2250233426704015, (22384, 20725, 20727): 0.24089635854341737, (20728, 22382, 22383): 0.20354808590102708, (20728, 20725, 22382): 0.20168067226890757, (20728, 20727, 22383): 0.20915032679738563, (20728, 20725, 22383): 0.2222222222222222, (20728, 20725, 20727): 0.21475256769374415, (20727, 22382, 22383): 0.21288515406162464, (20725, 22382, 22383): 0.22595704948646125, (20725, 22382, 20727): 0.21942110177404295, (22383, 20725, 20727): 0.226890756302521}\n",
      "On Level:  4\n",
      "Last Level:  3\n",
      "\n",
      "{1: {(23208,): 0.28291316526610644, (22662,): 0.3520074696545285, (23207,): 0.31092436974789917, (20724,): 0.20915032679738563, (20726,): 0.49486461251167135, (23206,): 0.4295051353874883, (22384,): 0.5247432306255836, (20728,): 0.5471521942110178, (23209,): 0.38935574229691877, (22382,): 0.5947712418300654, (22383,): 0.5891690009337068, (20727,): 0.5704948646125116, (20725,): 0.6405228758169934, ('85099B',): 0.21288515406162464}, 2: {(22662, 20726): 0.20074696545284781, (22662, 22382): 0.25396825396825395, (22662, 22383): 0.23062558356676005, (22662, 20727): 0.21475256769374415, (20725, 22662): 0.2334267040149393, (20726, 23206): 0.22782446311858076, (22384, 20726): 0.2642390289449113, (20728, 20726): 0.27824463118580767, (20726, 22382): 0.31932773109243695, (20726, 22383): 0.2931839402427638, (20726, 20727): 0.2735760971055089, (20725, 20726): 0.3333333333333333, (22384, 23206): 0.22128851540616246, (20728, 23206): 0.226890756302521, (23209, 23206): 0.24276377217553688, (23206, 22382): 0.24743230625583568, (23206, 22383): 0.2661064425770308, (23206, 20727): 0.2549019607843137, (20725, 23206): 0.2735760971055089, (20728, 22384): 0.31932773109243695, (22384, 23209): 0.21475256769374415, (22384, 22382): 0.2950513538748833, (22384, 22383): 0.30158730158730157, (22384, 20727): 0.3314659197012138, (22384, 20725): 0.3772175536881419, (20728, 22382): 0.3211951447245565, (20728, 22383): 0.3352007469654528, (20728, 20727): 0.3277310924369748, (20728, 20725): 0.34547152194211017, (23209, 22382): 0.22875816993464052, (23209, 22383): 0.2334267040149393, (23209, 20727): 0.23436041083099907, (23209, 20725): 0.25770308123249297, (22382, 22383): 0.3473389355742297, (22382, 20727): 0.33613445378151263, (20725, 22382): 0.3678804855275444, (22383, 20727): 0.34173669467787116, (20725, 22383): 0.38468720821662, (20725, 20727): 0.3697478991596639}, 3: {(22384, 20725, 20726): 0.20168067226890757, (20726, 20725, 22382): 0.2166199813258637, (20725, 20726, 22383): 0.2138188608776844, (20728, 22384, 20727): 0.2119514472455649, (20728, 22384, 20725): 0.2315592903828198, (22384, 20725, 22382): 0.21288515406162464, (22384, 20725, 22383): 0.2250233426704015, (22384, 20725, 20727): 0.24089635854341737, (20728, 22382, 22383): 0.20354808590102708, (20728, 20725, 22382): 0.20168067226890757, (20728, 20727, 22383): 0.20915032679738563, (20728, 20725, 22383): 0.2222222222222222, (20728, 20725, 20727): 0.21475256769374415, (20727, 22382, 22383): 0.21288515406162464, (20725, 22382, 22383): 0.22595704948646125, (20725, 22382, 20727): 0.21942110177404295, (22383, 20725, 20727): 0.226890756302521}}\n",
      "\n",
      "\n"
     ]
    }
   ],
   "source": [
    "def supportVectorExpander(previousLevelVectors, singleItemList):\n",
    "    generatedVectors = []\n",
    "    for singleItem in singleItemList:\n",
    "        for vector in previousLevelVectors:\n",
    "            if singleItem not in vector:\n",
    "                newTuple = vector + tuple([singleItem])\n",
    "                generatedVectors.append(newTuple)\n",
    "    \n",
    "    generatedCleanedSets = []\n",
    "    for vector1 in generatedVectors:\n",
    "        if set(vector1) not in generatedCleanedSets:\n",
    "            generatedCleanedSets.append(set(vector1))\n",
    "            \n",
    "    generatedCleanedVectors = []\n",
    "    for set2 in generatedCleanedSets:\n",
    "        generatedCleanedVectors.append(tuple(set2))\n",
    "        \n",
    "    return generatedCleanedVectors\n",
    "        \n",
    "def generateLevel(clusterObj, minSupportValue, candidateVectors):\n",
    "    currentLevel = {}\n",
    "    for candidate in candidateVectors:\n",
    "        support = calculateSupport(clusterObj, candidate)\n",
    "        if support > minSupportValue:\n",
    "            currentLevel[candidate] = support\n",
    "    return currentLevel\n",
    "    \n",
    "def findAllFrequentItemsets(clusterObj, minSupportValue, allStockCodes):\n",
    "    initialSupportDict, singleFrequentItemList = \\\n",
    "        findSingleSupports(clusterObj, minSupportValue, allStockCodes)\n",
    "    \n",
    "    # store level scores here\n",
    "    levelSupportDict = {}\n",
    "    levelSupportDict[1] = initialSupportDict\n",
    "    print(\"On Level: \", 1)\n",
    "    print(initialSupportDict)\n",
    "    \n",
    "    currentLevelIndex = 2\n",
    "    \n",
    "    while True:\n",
    "        print(\"On Level: \", currentLevelIndex)\n",
    "        # check whether previous level produced any support vector\n",
    "        previousLevel = levelSupportDict[currentLevelIndex-1]\n",
    "        if len(previousLevel.keys()) == 0:\n",
    "            break\n",
    "            \n",
    "        # if not, get previous levels\n",
    "        previousSupportVectors = list(previousLevel.keys())\n",
    "        candidateVectors = \\\n",
    "            supportVectorExpander(previousSupportVectors, singleFrequentItemList)\n",
    "        currentLevel = generateLevel(clusterObj, minSupportValue, candidateVectors)\n",
    "#         print(currentLevel)\n",
    "        \n",
    "        # decide whether to stop or go on\n",
    "        \n",
    "        numberOfCurrentLevelVectors = len( list( currentLevel.keys() ) )\n",
    "        if numberOfCurrentLevelVectors == 0:\n",
    "            break\n",
    "        \n",
    "        levelSupportDict[currentLevelIndex] = currentLevel\n",
    "        currentLevelIndex += 1\n",
    "        # DEBUG\n",
    "        print(currentLevel)\n",
    "    \n",
    "    print(\"Last Level: \", currentLevelIndex - 1)\n",
    "    print()\n",
    "    return levelSupportDict\n",
    "\n",
    "clusterSupportDict = {}\n",
    "for key in clusterRowDict.keys():\n",
    "    print(\"Finding for cluster #\" + str(key))\n",
    "    clusterSupportDict[key] = findAllFrequentItemsets(clusterRowDict[key], minSupport, wantedStockCodes)\n",
    "    print(clusterSupportDict[key])\n",
    "    print()\n",
    "    print()"
   ]
  },
  {
   "cell_type": "code",
   "execution_count": 28,
   "metadata": {},
   "outputs": [
    {
     "name": "stdout",
     "output_type": "stream",
     "text": [
      "{0: [(21929,), ('85099F',), ('85099C',), (23199,), (23201,), (21931,), (23202,), (22411,), (22386,), (23203,), ('85099B',), ('85099F', '85099B'), ('85099B', '85099C'), (21931, '85099B'), (23202, 23203), (23202, '85099B'), (22411, '85099B'), (22386, '85099B'), (23203, '85099B')], 1: [(22728,), (22726,), (22727,), (22728, 22726), (22728, 22727), (22726, 22727), (22728, 22726, 22727)], 2: [(21733,), ('85123A',), (21733, '85123A')], 3: [], 4: [(23208,), (22662,), (23207,), (20724,), (20726,), (23206,), (22384,), (20728,), (23209,), (22382,), (22383,), (20727,), (20725,), ('85099B',), (22662, 20726), (22662, 22382), (22662, 22383), (22662, 20727), (20725, 22662), (20726, 23206), (22384, 20726), (20728, 20726), (20726, 22382), (20726, 22383), (20726, 20727), (20725, 20726), (22384, 23206), (20728, 23206), (23209, 23206), (23206, 22382), (23206, 22383), (23206, 20727), (20725, 23206), (20728, 22384), (22384, 23209), (22384, 22382), (22384, 22383), (22384, 20727), (22384, 20725), (20728, 22382), (20728, 22383), (20728, 20727), (20728, 20725), (23209, 22382), (23209, 22383), (23209, 20727), (23209, 20725), (22382, 22383), (22382, 20727), (20725, 22382), (22383, 20727), (20725, 22383), (20725, 20727), (22384, 20725, 20726), (20726, 20725, 22382), (20725, 20726, 22383), (20728, 22384, 20727), (20728, 22384, 20725), (22384, 20725, 22382), (22384, 20725, 22383), (22384, 20725, 20727), (20728, 22382, 22383), (20728, 20725, 22382), (20728, 20727, 22383), (20728, 20725, 22383), (20728, 20725, 20727), (20727, 22382, 22383), (20725, 22382, 22383), (20725, 22382, 20727), (22383, 20725, 20727)]}\n"
     ]
    }
   ],
   "source": [
    "# for key in clusterSupportDict.keys():\n",
    "#     print(\"Cluster#: \", key)\n",
    "#     for level in clusterSupportDict[key].keys():\n",
    "#         print(\"    Level#: \", level)\n",
    "#         print(\"   \", clusterSupportDict[key][level])\n",
    "#     print()\n",
    "        \n",
    "def clusterSupportDictToSingleLevelDict(clusterSupportDict):\n",
    "    newDict = {}\n",
    "    for key in clusterSupportDict.keys():\n",
    "        emptyList = []\n",
    "        levelsDict = clusterSupportDict[key]\n",
    "        for level in levelsDict.keys():\n",
    "            for element in levelsDict[level]:\n",
    "                emptyList.append(element)\n",
    "        newDict[key] = emptyList\n",
    "    return newDict\n",
    "\n",
    "clusterSupportVectorsDict = clusterSupportDictToSingleLevelDict(clusterSupportDict)\n",
    "print(clusterSupportVectorsDict)"
   ]
  },
  {
   "cell_type": "markdown",
   "metadata": {
    "colab_type": "text",
    "id": "908qPmK3Oyzf"
   },
   "source": [
    "8. (b) Furthermore, the business analyst would like to analyze the purchase behaviour of the citizens from ‘United Kingdom’ for each cluster. Specifically speaking, he wants to discover if there exist some rules which indicate that the citizens from ‘United Kingdom’ tend to buy some specific products for each cluster. Set the minimum support to 0.2, minimum confidence to 0.7. Please discover and show such rules (only show the rules with ‘United Kingdom’ appearing in antecedents in the rules) for each cluster for the business analyst. Also show the data sets prepared for each cluster for mining the relevant rules by using Pandas DataFrame in you result, the data set for cluster k should have the variable name 'r_data_k' in your code."
   ]
  },
  {
   "cell_type": "markdown",
   "metadata": {},
   "source": [
    "# NOTE to whom that will grade this Notebook file\n",
    "\n",
    "I did, with my best interest, generate a new dataset by filtering the \"United Kingdom\", and finding association rules in that. The question seemed to ask for what I did.\n",
    "\n",
    "As of today(January, 20), I read on L2P that that is not the case and we should find association rules where \"United Kingdom\" is in antecedents.\n",
    "\n",
    "Instead of leaving a messy code behind and switch to what is stated in L2P, I prefer to leave it as it is. \n",
    "\n",
    "I sincerely thought about this question a lot before solving it, and just now after reading on L2P that I grasped what it actually wants.\n",
    "\n",
    "Best regards."
   ]
  },
  {
   "cell_type": "code",
   "execution_count": 29,
   "metadata": {
    "colab": {},
    "colab_type": "code",
    "id": "246Z21sPnlRV"
   },
   "outputs": [
    {
     "name": "stdout",
     "output_type": "stream",
     "text": [
      "12143\n"
     ]
    }
   ],
   "source": [
    "def filterByCountry(dataset_cleared_new, handledDataset, countryName):\n",
    "    columnList = dataset_cleared_new.columns\n",
    "    \n",
    "    rowCountryDict = {}\n",
    "    for index, row in handledDataset.iterrows():\n",
    "        invID  = row[\"InvoiceNo\"]\n",
    "        country = row[\"Country\"]\n",
    "        rowCountryDict[invID] = country\n",
    "    \n",
    "    newRows = []\n",
    "    for index, row in dataset_cleared_new.iterrows():\n",
    "        invoiceID = row[\"InvoiceNo\"]\n",
    "        country = rowCountryDict[invoiceID]\n",
    "        if country == countryName:\n",
    "            newRows.append(row)\n",
    "            \n",
    "    newDF = pd.DataFrame(newRows, columns=columnList)\n",
    "    return newDF\n",
    "\n",
    "ukDF = filterByCountry(cluster_dataset_new, handledDataset, \"United Kingdom\")\n",
    "print(len(ukDF))"
   ]
  },
  {
   "cell_type": "code",
   "execution_count": 30,
   "metadata": {},
   "outputs": [],
   "source": [
    "from sklearn.cluster import KMeans\n",
    "\n",
    "ukDF_without_invoice = ukDF.drop(columns=[\"InvoiceNo\"])\n",
    "# print(ukDF_without_invoice.columns)\n",
    "\n",
    "ukKMeans = KMeans(n_clusters=5).fit(ukDF_without_invoice)\n",
    "ukClusterRowDict = clusterDictFromKMeans(ukKMeans, 5, ukDF)\n",
    "ukClusterRowDict = convertToPandas(ukClusterRowDict, ukDF)\n",
    "\n",
    "r_data_0 = ukClusterRowDict[0]\n",
    "r_data_1 = ukClusterRowDict[1]\n",
    "r_data_2 = ukClusterRowDict[2]\n",
    "r_data_3 = ukClusterRowDict[3]\n",
    "r_data_4 = ukClusterRowDict[4]"
   ]
  },
  {
   "cell_type": "code",
   "execution_count": 31,
   "metadata": {},
   "outputs": [
    {
     "name": "stdout",
     "output_type": "stream",
     "text": [
      "Finding for cluster #0\n",
      "On Level:  1\n",
      "{(21975,): 0.2925, (22966,): 0.2025, (21977,): 0.435, (84991,): 0.41625, (22961,): 0.2325, (22666,): 0.23375, (22960,): 0.2275, (22993,): 0.26, (21212,): 0.63625, (22720,): 0.26875}\n",
      "On Level:  2\n",
      "{(21212, 21975): 0.205, (21977, 84991): 0.24, (21977, 21212): 0.2825, (21212, 84991): 0.2675}\n",
      "On Level:  3\n",
      "Last Level:  2\n",
      "\n",
      "Finding for cluster #1\n",
      "On Level:  1\n",
      "{}\n",
      "On Level:  2\n",
      "Last Level:  1\n",
      "\n",
      "Finding for cluster #2\n",
      "On Level:  1\n",
      "{(21733,): 0.23996852871754523, ('85123A',): 0.981904012588513}\n",
      "On Level:  2\n",
      "{(21733, '85123A'): 0.22816679779701024}\n",
      "On Level:  3\n",
      "Last Level:  2\n",
      "\n",
      "Finding for cluster #3\n",
      "On Level:  1\n",
      "{(22698,): 0.7716535433070866, (22697,): 0.9311023622047244, (22699,): 0.8877952755905512}\n",
      "On Level:  2\n",
      "{(22697, 22698): 0.7047244094488189, (22698, 22699): 0.6594488188976378, (22697, 22699): 0.8188976377952756}\n",
      "On Level:  3\n",
      "{(22697, 22698, 22699): 0.59251968503937}\n",
      "On Level:  4\n",
      "Last Level:  3\n",
      "\n",
      "Finding for cluster #4\n",
      "On Level:  1\n",
      "{(23208,): 0.2945797329143755, (22662,): 0.2835820895522388, (23199,): 0.2545168892380204, (23207,): 0.29300864100549884, (20724,): 0.2128829536527887, (23201,): 0.21681068342498036, (21931,): 0.2545168892380204, (23202,): 0.23409269442262373, (22411,): 0.20816967792615867, (22386,): 0.2584446190102121, (20726,): 0.37549096622152395, (23206,): 0.40219952867242736, (22384,): 0.47054202670856243, (20728,): 0.46504320502749413, (23209,): 0.4139827179890024, (22382,): 0.4548311076197958, (23203,): 0.31814611154752553, (22383,): 0.5035349567949725, (20727,): 0.5074626865671642, (20725,): 0.5577376276512176, ('85099B',): 0.36606441476826396}\n",
      "On Level:  2\n",
      "{(22384, 20726): 0.20581304006284368, (20728, 20726): 0.211311861743912, (20726, 22382): 0.23095051060487037, (20726, 22383): 0.22230950510604872, (20726, 20727): 0.21366849960722703, (20725, 20726): 0.24430479183032208, (23209, 23206): 0.22388059701492538, (23206, 22383): 0.22545168892380205, (23206, 20727): 0.2152395915161037, (20725, 23206): 0.22859387274155538, (20728, 22384): 0.26472898664571876, (22384, 22382): 0.2317360565593087, (22384, 22383): 0.2537313432835821, (22384, 20727): 0.2898664571877455, (22384, 20725): 0.31343283582089554, (20728, 22382): 0.24587588373919875, (20728, 22383): 0.27101335428122547, (20728, 20727): 0.27258444619010214, (20728, 20725): 0.2749410840534171, (23209, 23203): 0.208955223880597, (23209, 22383): 0.20816967792615867, (23209, 20727): 0.21602513747054203, (23209, 20725): 0.24194815396700706, (22382, 22383): 0.2670856245090338, (22382, 20727): 0.2655145326001571, (20725, 22382): 0.27258444619010214, (22383, 20727): 0.2835820895522388, (20725, 22383): 0.3102906520031422, (20725, 20727): 0.3102906520031422, (20725, '85099B'): 0.2128829536527887}\n",
      "On Level:  3\n",
      "{(22384, 20725, 20727): 0.20581304006284368}\n",
      "On Level:  4\n",
      "Last Level:  3\n",
      "\n"
     ]
    }
   ],
   "source": [
    "ukClusterSupportDict = {}\n",
    "for key in ukClusterRowDict.keys():\n",
    "    print(\"Finding for cluster #\" + str(key))\n",
    "    ukClusterSupportDict[key] = findAllFrequentItemsets(ukClusterRowDict[key], 0.2, wantedStockCodes)\n",
    "#     print(ukClusterSupportDict[key])\n",
    "#     print()\n",
    "#     print()"
   ]
  },
  {
   "cell_type": "code",
   "execution_count": 32,
   "metadata": {
    "scrolled": true
   },
   "outputs": [
    {
     "name": "stdout",
     "output_type": "stream",
     "text": [
      "FORMAT:\n",
      "ClusterID | A ======================> B | Confidence\n",
      "0 | (21975,) ==> (21212,) | 0.7008547008547008\n",
      "2 | (21733,) ==> ('85123A',) | 0.9508196721311476\n",
      "3 | (22698,) ==> (22697, 22699) | 0.7678571428571428\n",
      "3 | (22697, 22698) ==> (22699,) | 0.8407821229050279\n",
      "3 | (22697, 22699) ==> (22698,) | 0.7235576923076923\n",
      "3 | (22698, 22699) ==> (22697,) | 0.898507462686567\n",
      "3 | (22697,) ==> (22698,) | 0.7568710359408033\n",
      "3 | (22698,) ==> (22697,) | 0.9132653061224489\n",
      "3 | (22698,) ==> (22699,) | 0.854591836734694\n",
      "3 | (22699,) ==> (22698,) | 0.7427937915742795\n",
      "3 | (22697,) ==> (22699,) | 0.879492600422833\n",
      "3 | (22699,) ==> (22697,) | 0.9223946784922394\n",
      "4 | (22384, 20727) ==> (20725,) | 0.7100271002710027\n"
     ]
    }
   ],
   "source": [
    "import itertools as it\n",
    "from copy import deepcopy\n",
    "\n",
    "def calculateConfidence(frequentItemSetDict, smallerSet, biggerSet):\n",
    "    # frequentItemSetDict format:\n",
    "    # {itemset: support, ...}\n",
    "    smallerLevel = len(smallerSet)\n",
    "    biggerLevel = len(biggerSet)\n",
    "    \n",
    "    supportSmall = 0.0\n",
    "    for perm in it.permutations(smallerSet):\n",
    "        if perm in frequentItemSetDict[smallerLevel]:\n",
    "            supportSmall = frequentItemSetDict[smallerLevel][perm]\n",
    "    \n",
    "    supportBig = frequentItemSetDict[biggerLevel][biggerSet]\n",
    "    \n",
    "#     print(\"  \", smallerSet, supportSmall, supportBig/supportSmall)\n",
    "    \n",
    "    confidence = supportBig / supportSmall\n",
    "    return confidence\n",
    "\n",
    "def removeFromTuple(bigTuple, smallTuple):\n",
    "    # uses deepcopy, no side effect!\n",
    "    newList = []\n",
    "    for element in bigTuple:\n",
    "        if element not in smallTuple:\n",
    "            newList.append(element)\n",
    "    return tuple(newList)\n",
    "    \n",
    "\n",
    "def generatePossibleSmallerSets(tupleItem):\n",
    "    lenOfTuple = len(tupleItem)\n",
    "    allPossiblePairs = []\n",
    "    for i in range(1, lenOfTuple):\n",
    "        iElementList = list(it.combinations(tupleItem, i))\n",
    "        for iElement in iElementList:\n",
    "            possiblePair = iElement\n",
    "            allPossiblePairs.append(possiblePair)\n",
    "    return allPossiblePairs\n",
    "    \n",
    "    \n",
    "def findAssociationRules(clusterSupportDict, minConfidence):\n",
    "    associationDict = {}\n",
    "    ruleClusterDict = {}\n",
    "    \n",
    "    nOfClusters = len(list(clusterSupportDict.keys()))\n",
    "    # print(\"Number Of Clusters:\", nOfClusters)\n",
    "    \n",
    "    for clusterID in range(nOfClusters):\n",
    "        clusterLevels = clusterSupportDict[clusterID]        \n",
    "        nOfLevels = len(list(clusterLevels.keys()))\n",
    "        \n",
    "        # print(\"Cluster#\", clusterID, \"#Levels: \",  nOfLevels)\n",
    "        \n",
    "        for level in range(nOfLevels,1,-1):\n",
    "            \n",
    "            clusterLevel = clusterLevels[level]\n",
    "            for bigTuple in clusterLevel:\n",
    "#                 supportBig = clusterLevel[bigTuple]\n",
    "#                 print(\"BigTuple:\", bigTuple, supportBig)\n",
    "                tuplePairs = generatePossibleSmallerSets(bigTuple)\n",
    "                for smallTuple in tuplePairs:                    \n",
    "                    confidence = calculateConfidence(clusterLevels, smallTuple, bigTuple)\n",
    "                    if confidence > minConfidence:\n",
    "                        otherTuple = removeFromTuple(bigTuple, smallTuple)\n",
    "                        associationDict[tuple([smallTuple, otherTuple])] = confidence\n",
    "                        ruleClusterDict[tuple([smallTuple, otherTuple])] = clusterID\n",
    "#                         print(\"      Find One!:\", smallTuple, otherTuple, confidence)\n",
    "    # print(associationDict)\n",
    "    return associationDict, ruleClusterDict \n",
    "\n",
    "ukAssocRules, ruleClusterDict = findAssociationRules(ukClusterSupportDict, 0.7)\n",
    "\n",
    "print(\"FORMAT:\")\n",
    "print(\"ClusterID | A ======================> B | Confidence\")\n",
    "for key in ukAssocRules.keys():\n",
    "    part1, part2 = key\n",
    "    confidence = ukAssocRules[key]\n",
    "    clusterID = ruleClusterDict[key]\n",
    "    print(clusterID, \"|\", part1, \"==>\", part2, \"|\", confidence)"
   ]
  },
  {
   "cell_type": "markdown",
   "metadata": {
    "colab_type": "text",
    "id": "G9-Gqj3qBXjw"
   },
   "source": [
    "#Text Mining\n",
    "###Question 12 (Model based on binary document-term matrix)\n",
    "Perform preprocessing on the corpus (all lowercase, no punctuation, tokenization, stemming, stopword removal) and obtain a binary document-term matrix; train a logistic classifier."
   ]
  },
  {
   "cell_type": "markdown",
   "metadata": {},
   "source": [
    "# some of the codes taken from:\n",
    "https://www1.elearning.rwth-aachen.de/pluginfile.php/200033/mod_folder/content/0/Text-Mining-L2.ipynb?forcedownload=1\n",
    "\n",
    "(official lecture material)"
   ]
  },
  {
   "cell_type": "code",
   "execution_count": 79,
   "metadata": {},
   "outputs": [
    {
     "data": {
      "text/plain": [
       "Index(['author', 'text'], dtype='object')"
      ]
     },
     "execution_count": 79,
     "metadata": {},
     "output_type": "execute_result"
    }
   ],
   "source": [
    "# download stopwords before using them!\n",
    "# running once is enough\n",
    "# import nltk\n",
    "# nltk.download('stopwords')\n",
    "# nltk.download('punkt')\n",
    "\n",
    "# nltk's default stoplist:\n",
    "from nltk.corpus import stopwords\n",
    "stoplist = set(stopwords.words('english'))\n",
    "\n",
    "import pandas as pd\n",
    "import copy\n",
    "# read datasets\n",
    "columnNames = [\"author\", \"text\"]\n",
    "pgTrainRaw = pd.read_csv(\"pg_train.csv\", sep='#', engine='python', header = None, names = columnNames)\n",
    "pgTestRaw = pd.read_csv(\"pg_test.csv\", sep='#', engine='python',  header = None, names = columnNames)\n",
    "\n",
    "pgTrainRaw.columns"
   ]
  },
  {
   "cell_type": "code",
   "execution_count": 80,
   "metadata": {
    "colab": {},
    "colab_type": "code",
    "id": "t1JdbpAJBTHQ"
   },
   "outputs": [
    {
     "name": "stdout",
     "output_type": "stream",
     "text": [
      "Finished Preprocessing\n"
     ]
    }
   ],
   "source": [
    "# your code\n",
    "import string\n",
    "from nltk.tokenize import word_tokenize\n",
    "from nltk.stem.snowball import SnowballStemmer\n",
    "from nltk.stem import porter\n",
    "\n",
    "# two objects used for preprocessing\n",
    "punctRemover = str.maketrans('', '', string.punctuation)\n",
    "stemmerSnowball = SnowballStemmer(\"english\")\n",
    "\n",
    "# preprocessing functions,\n",
    "# all SIDE EFFECTS\n",
    "def lowerCase(rowObj):\n",
    "    # side effect job\n",
    "    rowObj[\"text\"] = rowObj[\"text\"].lower()\n",
    "    \n",
    "def removePunctuation(rowObj, punctRemover):\n",
    "    # side effect job\n",
    "    textWOUTPunct = rowObj[\"text\"].translate(punctRemover)\n",
    "    rowObj[\"text\"] = textWOUTPunct\n",
    "    \n",
    "def tokenize(rowObj):\n",
    "    tokenizedText = word_tokenize(rowObj[\"text\"])\n",
    "    rowObj[\"text\"] = tokenizedText\n",
    "    \n",
    "def removeStopWords(rowObj, stopWordList):\n",
    "    tokenizedClearText = [token for token in rowObj[\"text\"] if not token in stopWordList]\n",
    "    rowObj[\"text\"] = tokenizedClearText\n",
    "\n",
    "def stem(rowObj, stemmerObj):\n",
    "    textTokens = rowObj[\"text\"]\n",
    "    stemmedText = [stemmerObj.stem(token) for token in textTokens]\n",
    "    rowObj[\"text\"] = stemmedText\n",
    "    \n",
    "\n",
    "def preprocessingEngine(pandasObj, stemmerObj):\n",
    "    # deep copy the dataset\n",
    "    newDF = copy.deepcopy(pandasObj)\n",
    "\n",
    "    newRows = []\n",
    "    for index, row in newDF.iterrows():\n",
    "#         print(row[\"text\"])\n",
    "        lowerCase(row)\n",
    "        removePunctuation(row, punctRemover)\n",
    "        tokenize(row)\n",
    "        stem(row, stemmerObj)\n",
    "        removeStopWords(row, stoplist)\n",
    "        row[\"text\"] = \" \".join(token for token in row[\"text\"])\n",
    "#         print(row[\"text\"])\n",
    "#         print()\n",
    "        newRows.append(row)    \n",
    "    newDF = pd.DataFrame(newRows, columns=pandasObj.columns)\n",
    "    return newDF\n",
    "\n",
    "processedTrain = preprocessingEngine(pgTrainRaw, stemmerSnowball)\n",
    "processedTest = preprocessingEngine(pgTestRaw, stemmerSnowball)\n",
    "print(\"Finished Preprocessing\")\n",
    "\n",
    "trainTexts = processedTrain[\"text\"]\n",
    "trainTargets = processedTrain[\"author\"]\n",
    "\n",
    "testTargets = processedTest[\"author\"]\n",
    "testTexts = processedTest[\"text\"]"
   ]
  },
  {
   "cell_type": "code",
   "execution_count": 81,
   "metadata": {},
   "outputs": [
    {
     "name": "stderr",
     "output_type": "stream",
     "text": [
      "/home/ulfet/.local/lib/python3.6/site-packages/sklearn/linear_model/stochastic_gradient.py:166: FutureWarning: max_iter and tol parameters have been added in SGDClassifier in 0.19. If both are left unset, they default to max_iter=5 and tol=None. If tol is not None, max_iter defaults to max_iter=1000. From 0.21, default max_iter will be 1000, and default tol will be 1e-3.\n",
      "  FutureWarning)\n"
     ]
    }
   ],
   "source": [
    "from sklearn.linear_model import SGDClassifier\n",
    "from sklearn.pipeline import Pipeline\n",
    "from sklearn.feature_extraction.text import CountVectorizer\n",
    "import numpy as np\n",
    "\n",
    "text_clf_binary = \\\n",
    "Pipeline([\n",
    "    ('vect', CountVectorizer(binary=True)),\n",
    "    ('clf-svm', SGDClassifier(loss='log'))\n",
    "])\n",
    "\n",
    "text_clf_binary = text_clf_binary.fit(trainTexts, trainTargets)\n",
    "# predicted_binary = text_clf_binary.predict(testTexts)\n",
    "# np.mean(predicted_binary == testTargets)"
   ]
  },
  {
   "cell_type": "markdown",
   "metadata": {
    "colab_type": "text",
    "id": "HFoouarHPWfK"
   },
   "source": [
    "###Question 13 (Model based on document-term matrix of counts)\n",
    "Perform preprocessing on the corpus (all lowercase, no punctuation, tokenization, stemming, stopword removal) and obtain a document-term matrix of counts; train a logistic classifier.\n"
   ]
  },
  {
   "cell_type": "code",
   "execution_count": 82,
   "metadata": {
    "colab": {},
    "colab_type": "code",
    "id": "vDjnCPi2BaNm"
   },
   "outputs": [],
   "source": [
    "from sklearn.linear_model import SGDClassifier\n",
    "from sklearn.pipeline import Pipeline\n",
    "import numpy as np\n",
    "\n",
    "from sklearn.feature_extraction.text import CountVectorizer\n",
    "trainCounts = CountVectorizer().fit_transform(processedTrain[\"text\"])\n",
    "\n",
    "text_clf_nonbinary = \\\n",
    "Pipeline([\n",
    "    ('vect', CountVectorizer()),\n",
    "    ('clf-svm', SGDClassifier(loss='log'))\n",
    "])\n",
    "\n",
    "text_clf_nonbinary = text_clf_nonbinary.fit(trainTexts, trainTargets)\n",
    "# predicted_nonbinary = text_clf_nonbinary.predict(testTexts)\n",
    "# np.mean(predicted_nonbinary == testTargets)"
   ]
  },
  {
   "cell_type": "markdown",
   "metadata": {
    "colab_type": "text",
    "id": "SpcgbGTOPp3A"
   },
   "source": [
    "###Question 14 (Model based on tf-idf document-term matrix)\n",
    "Perform preprocessing on the corpus (all lowercase, no punctuation, tokenization, stemming, stopword removal) and obtain a tf-idf scores document-term matrix; train a logistic classifier.\n"
   ]
  },
  {
   "cell_type": "code",
   "execution_count": 83,
   "metadata": {
    "colab": {},
    "colab_type": "code",
    "id": "1FJgzMKlPus6"
   },
   "outputs": [],
   "source": [
    "# your code\n",
    "# Construction of the tf-idf score matrix\n",
    "from sklearn.feature_extraction.text import TfidfTransformer\n",
    "from sklearn.linear_model import SGDClassifier\n",
    "from sklearn.pipeline import Pipeline\n",
    "\n",
    "text_clf_tfidf = Pipeline([\n",
    "    ('vect', CountVectorizer()), \n",
    "    ('tf-idf', TfidfTransformer()),\n",
    "    ('clf-svm', SGDClassifier(loss='log'))\n",
    "])\n",
    "\n",
    "text_clf_tfidf = text_clf_tfidf.fit(trainTexts, trainTargets)\n",
    "# predicted_tfidf = text_clf_tfidf.predict(testTexts)\n",
    "# np.mean(predicted_tfidf == testTargets)"
   ]
  },
  {
   "cell_type": "markdown",
   "metadata": {
    "colab_type": "text",
    "id": "4IV9XRbKPwGW"
   },
   "source": [
    "###Question 15 (Model based on doc2vec)\n",
    "Perform preprocessing on the corpus (all lowercase, no punctuation, tokenization, stemming, stopword removal) and obtain a doc2vec embedding in order to reduce the dimension of the document vector to 300; use the doc2vec model you just trained to convert the training set to a set of document vectors; train a logistic classifier.\n"
   ]
  },
  {
   "cell_type": "code",
   "execution_count": 84,
   "metadata": {},
   "outputs": [
    {
     "name": "stdout",
     "output_type": "stream",
     "text": [
      "TaggedDocument(words=['emma', 'jane', 'austen', 'volum', 'chapter', 'emma', 'woodhous', 'handsom', 'clever', 'rich', 'comfort', 'home', 'happi', 'disposit', 'seem', 'unit', 'best', 'bless', 'exist', 'live', 'near', 'twenti', 'one', 'year', 'world', 'veri', 'littl', 'distress', 'vex', 'youngest', 'two', 'daughter', 'affection', 'indulg', 'father', 'consequ', 'sister', 'marriag', 'mistress', 'hous', 'veri', 'earli', 'period', 'mother', 'die', 'long', 'ago', 'indistinct', 'remembr', 'caress', 'place', 'suppli', 'excel', 'woman', 'gover', 'fallen', 'littl', 'short', 'mother', 'affect'], tags=['austen'])\n"
     ]
    }
   ],
   "source": [
    "# Tokenizing, normalizing, and creating lists of TaggedDocument objects\n",
    "import gensim\n",
    "\n",
    "trainTagged = []\n",
    "testTagged = []\n",
    "\n",
    "for i in range (0, len(trainTexts)):\n",
    "    trainTagged.append(\n",
    "        gensim.models.doc2vec.TaggedDocument(\n",
    "            words=gensim.utils.simple_preprocess(trainTexts[i]), tags=[trainTargets[i]])\n",
    "    )\n",
    "\n",
    "for i in range (0, len(testTexts)):\n",
    "    testTagged.append(\n",
    "        gensim.models.doc2vec.TaggedDocument(\n",
    "            words=gensim.utils.simple_preprocess(testTexts[i]),tags=[testTargets[i]])\n",
    "    )\n",
    "\n",
    "print(repr(trainTagged[0]))\n"
   ]
  },
  {
   "cell_type": "code",
   "execution_count": 85,
   "metadata": {
    "colab": {},
    "colab_type": "code",
    "id": "cv8oGoxlQCzm"
   },
   "outputs": [
    {
     "name": "stderr",
     "output_type": "stream",
     "text": [
      "100%|██████████| 4499/4499 [00:00<00:00, 1266624.63it/s]\n"
     ]
    }
   ],
   "source": [
    "# your code\n",
    "\n",
    "import multiprocessing\n",
    "cores = multiprocessing.cpu_count()\n",
    "\n",
    "# Building the vocabulary\n",
    "from gensim.models import Doc2Vec\n",
    "from tqdm import tqdm\n",
    "\n",
    "# doc2vec_model = Doc2Vec(dm=0, vector_size=40, negative=5, hs=0, min_count=2, sample = 0, workers=cores)\n",
    "doc2vecModel = Doc2Vec(workers=cores, vector_size=300)\n",
    "doc2vecModel.build_vocab([x for x in tqdm(trainTagged)])"
   ]
  },
  {
   "cell_type": "code",
   "execution_count": 86,
   "metadata": {},
   "outputs": [
    {
     "name": "stderr",
     "output_type": "stream",
     "text": [
      "100%|██████████| 4499/4499 [00:00<00:00, 1364437.72it/s]\n",
      "100%|██████████| 4499/4499 [00:00<00:00, 2506664.94it/s]\n",
      "100%|██████████| 4499/4499 [00:00<00:00, 2757184.94it/s]\n",
      "100%|██████████| 4499/4499 [00:00<00:00, 2954003.40it/s]\n",
      "100%|██████████| 4499/4499 [00:00<00:00, 2043996.28it/s]\n",
      "100%|██████████| 4499/4499 [00:00<00:00, 2861718.79it/s]\n",
      "100%|██████████| 4499/4499 [00:00<00:00, 2174233.63it/s]\n",
      "100%|██████████| 4499/4499 [00:00<00:00, 3026006.04it/s]\n",
      "100%|██████████| 4499/4499 [00:00<00:00, 2628890.18it/s]\n",
      "100%|██████████| 4499/4499 [00:00<00:00, 2193951.13it/s]\n",
      "100%|██████████| 4499/4499 [00:00<00:00, 2469918.02it/s]\n",
      "100%|██████████| 4499/4499 [00:00<00:00, 2615408.69it/s]\n",
      "100%|██████████| 4499/4499 [00:00<00:00, 2541437.53it/s]\n",
      "100%|██████████| 4499/4499 [00:00<00:00, 1799044.11it/s]\n",
      "100%|██████████| 4499/4499 [00:00<00:00, 2567021.32it/s]\n",
      "100%|██████████| 4499/4499 [00:00<00:00, 1703237.99it/s]\n",
      "100%|██████████| 4499/4499 [00:00<00:00, 2556241.36it/s]\n",
      "100%|██████████| 4499/4499 [00:00<00:00, 2552092.74it/s]\n",
      "100%|██████████| 4499/4499 [00:00<00:00, 2862152.84it/s]\n",
      "100%|██████████| 4499/4499 [00:00<00:00, 2357887.50it/s]\n",
      "100%|██████████| 4499/4499 [00:00<00:00, 2449717.47it/s]\n",
      "100%|██████████| 4499/4499 [00:00<00:00, 1583333.92it/s]\n",
      "100%|██████████| 4499/4499 [00:00<00:00, 2500023.01it/s]\n",
      "100%|██████████| 4499/4499 [00:00<00:00, 1970363.76it/s]\n",
      "100%|██████████| 4499/4499 [00:00<00:00, 2214549.20it/s]\n",
      "100%|██████████| 4499/4499 [00:00<00:00, 1749344.00it/s]\n",
      "100%|██████████| 4499/4499 [00:00<00:00, 1466555.82it/s]\n",
      "100%|██████████| 4499/4499 [00:00<00:00, 1442122.56it/s]\n",
      "100%|██████████| 4499/4499 [00:00<00:00, 2352889.49it/s]\n",
      "100%|██████████| 4499/4499 [00:00<00:00, 2431410.09it/s]\n"
     ]
    }
   ],
   "source": [
    "# Training the doc2vec model\n",
    "from sklearn import utils\n",
    "\n",
    "for epoch in range(30):\n",
    "    doc2vecModel.train(\n",
    "        utils.shuffle([x for x in tqdm(trainTagged)]), total_examples=len(trainTagged), epochs=1)\n",
    "    doc2vecModel.alpha -= 0.002\n",
    "    doc2vecModel.min_alpha = doc2vecModel.alpha"
   ]
  },
  {
   "cell_type": "code",
   "execution_count": 87,
   "metadata": {},
   "outputs": [],
   "source": [
    "# Building the feature vector for the classifier\n",
    "def vec_for_learning(model, tagged_docs):\n",
    "    targets, doc2vec_vectors = zip(*[(doc.tags[0], model.infer_vector(doc.words, steps=20)) for doc in tagged_docs])\n",
    "    return targets, doc2vec_vectors\n",
    "\n",
    "# Translating docs into vectors for training and test set\n",
    "trainY, trainX = vec_for_learning(doc2vecModel, trainTagged)\n",
    "testY, testX   = vec_for_learning(doc2vecModel, testTagged)"
   ]
  },
  {
   "cell_type": "code",
   "execution_count": 88,
   "metadata": {},
   "outputs": [],
   "source": [
    "# Training a classification model\n",
    "from sklearn.linear_model import LogisticRegression\n",
    "\n",
    "# logReg = LogisticRegression(n_jobs=1, C=1e5)\n",
    "# logReg.fit(trainX, trainY)\n",
    "# predictionsY = logReg.predict(testX)\n",
    "\n",
    "text_clf_doc2vec = SGDClassifier(loss='log')\n",
    "text_clf_doc2vec = text_clf_doc2vec.fit(trainX, trainY)"
   ]
  },
  {
   "cell_type": "markdown",
   "metadata": {
    "colab_type": "text",
    "id": "nUTK6JL6QKxX"
   },
   "source": [
    "###Question 16 (Evaluation)\n",
    "16. (a) Predict the classification with the four models on the test data.\n"
   ]
  },
  {
   "cell_type": "code",
   "execution_count": 89,
   "metadata": {
    "colab": {},
    "colab_type": "code",
    "id": "HoGSkKTDQSLP"
   },
   "outputs": [
    {
     "name": "stdout",
     "output_type": "stream",
     "text": [
      "0.9820598006644519 : Binary Document-Term Matrix\n",
      "0.9714285714285714 : Document-Term Matrix\n",
      "0.9880398671096345 : TF-IDF\n",
      "0.9727574750830564 : Doc2Vec\n"
     ]
    }
   ],
   "source": [
    "# your code\n",
    "predicted_binary = text_clf_binary.predict(testTexts)\n",
    "result_binary = np.mean(predicted_binary == testTargets)\n",
    "\n",
    "predicted_nonbinary = text_clf_nonbinary.predict(testTexts)\n",
    "result_nonbinary = np.mean(predicted_nonbinary == testTargets)\n",
    "\n",
    "predicted_tfidf = text_clf_tfidf.predict(testTexts)\n",
    "result_tfidf = np.mean(predicted_tfidf == testTargets)\n",
    "\n",
    "# predicted_doc2vec = logReg.predict(testX)\n",
    "predicted_doc2vec = text_clf_doc2vec.predict(testX)\n",
    "result_doc2vec = np.mean(predicted_doc2vec == testTargets)\n",
    "\n",
    "print(result_binary, \": Binary Document-Term Matrix\")\n",
    "print(result_nonbinary, \": Document-Term Matrix\")\n",
    "print(result_tfidf, \": TF-IDF\")\n",
    "print(result_doc2vec, \": Doc2Vec\")"
   ]
  },
  {
   "cell_type": "markdown",
   "metadata": {
    "colab_type": "text",
    "id": "RiB6Dm6KQVY3"
   },
   "source": [
    "16. (b) Obtain confusion matrices for the four different models.\n"
   ]
  },
  {
   "cell_type": "code",
   "execution_count": 90,
   "metadata": {
    "colab": {},
    "colab_type": "code",
    "id": "Vvp_5hEWQZN-"
   },
   "outputs": [
    {
     "name": "stdout",
     "output_type": "stream",
     "text": [
      "Binary - Confusion Matrix\n",
      "[[682   4   3]\n",
      " [ 17 496   2]\n",
      " [  1   0 300]]\n",
      "\n",
      "Nonbinary - Confusion Matrix\n",
      "[[675  10   4]\n",
      " [ 21 491   3]\n",
      " [  3   2 296]]\n",
      "\n",
      "TFIDF - Confusion Matrix\n",
      "[[683   6   0]\n",
      " [  9 506   0]\n",
      " [  0   3 298]]\n",
      "\n",
      "Doc2Vec - Confusion Matrix\n",
      "[[681   2   6]\n",
      " [ 21 490   4]\n",
      " [  6   2 293]]\n",
      "\n"
     ]
    }
   ],
   "source": [
    "# your code\n",
    "from sklearn.metrics import confusion_matrix\n",
    "\n",
    "cm_binary    = confusion_matrix(testTargets, predicted_binary)\n",
    "cm_nonbinary = confusion_matrix(testTargets, predicted_nonbinary)\n",
    "cm_tfidf     = confusion_matrix(testTargets, predicted_tfidf)\n",
    "cm_doc2vec   = confusion_matrix(testTargets, predicted_doc2vec)\n",
    "\n",
    "print(\"Binary - Confusion Matrix\")\n",
    "print(cm_binary)\n",
    "print()\n",
    "\n",
    "print(\"Nonbinary - Confusion Matrix\")\n",
    "print(cm_nonbinary)\n",
    "print()\n",
    "\n",
    "print(\"TFIDF - Confusion Matrix\")\n",
    "print(cm_tfidf)\n",
    "print()\n",
    "\n",
    "print(\"Doc2Vec - Confusion Matrix\")\n",
    "print(cm_doc2vec)\n",
    "print()"
   ]
  },
  {
   "cell_type": "markdown",
   "metadata": {
    "colab_type": "text",
    "id": "gi9Xb-JoQagB"
   },
   "source": [
    "16. (c) Obtain accuracy and f1 score for the four different models.\n"
   ]
  },
  {
   "cell_type": "code",
   "execution_count": 91,
   "metadata": {
    "colab": {},
    "colab_type": "code",
    "id": "sem1ajYSQfI_"
   },
   "outputs": [
    {
     "name": "stdout",
     "output_type": "stream",
     "text": [
      "Accuracy Scores\n",
      "0.9820598006644519 : Binary\n",
      "0.9714285714285714 : Nonbinary\n",
      "0.9880398671096345 : TDIDF\n",
      "0.9727574750830564 : Doc2Vec\n",
      "\n",
      "F1 Scores\n",
      "0.9820258095162228 : Binary\n",
      "0.9713917437948015 : Nonbinary\n",
      "0.9880457010104774 : TDIDF\n",
      "0.9727349019278926 : Doc2Vec\n"
     ]
    }
   ],
   "source": [
    "# your code\n",
    "from sklearn.metrics import accuracy_score, f1_score\n",
    "\n",
    "acc_binary    = accuracy_score(testTargets, predicted_binary)\n",
    "acc_nonbinary = accuracy_score(testTargets, predicted_nonbinary)\n",
    "acc_tfidf     = accuracy_score(testTargets, predicted_tfidf)\n",
    "acc_doc2vec   = accuracy_score(testTargets, predicted_doc2vec)\n",
    "\n",
    "f1_binary    = f1_score(testTargets, predicted_binary, average='weighted')\n",
    "f1_nonbinary = f1_score(testTargets, predicted_nonbinary, average='weighted')\n",
    "f1_tfidf     = f1_score(testTargets, predicted_tfidf, average='weighted')\n",
    "f1_doc2vec   = f1_score(testTargets, predicted_doc2vec, average='weighted')\n",
    "\n",
    "print(\"Accuracy Scores\")\n",
    "print(acc_binary, \": Binary\")\n",
    "print(acc_nonbinary, \": Nonbinary\")\n",
    "print(acc_tfidf, \": TDIDF\")\n",
    "print(acc_doc2vec, \": Doc2Vec\")\n",
    "\n",
    "print()\n",
    "\n",
    "print(\"F1 Scores\")\n",
    "print(f1_binary, \": Binary\")\n",
    "print(f1_nonbinary, \": Nonbinary\")\n",
    "print(f1_tfidf, \": TDIDF\")\n",
    "print(f1_doc2vec, \": Doc2Vec\")"
   ]
  },
  {
   "cell_type": "markdown",
   "metadata": {
    "colab_type": "text",
    "id": "9-sy3DloQg72"
   },
   "source": [
    "16. (d) Briefly comment on the quality of the predictions for the four models."
   ]
  },
  {
   "cell_type": "markdown",
   "metadata": {
    "colab_type": "text",
    "id": "42-LzxBoQn-x"
   },
   "source": [
    "_Your comment:_\n",
    "\n",
    "\n",
    "\n",
    "The model that best predicts the \"Austen\" &nbsp;&nbsp;&nbsp;&nbsp;&nbsp;&nbsp; &nbsp;&nbsp;    : TFIDF  (683 right, 6 wrong)<br>\n",
    "The model that best predicts the \"Chesterton\"  &nbsp;&nbsp;&nbsp;&nbsp; : TFIDF  (506 right, 9 wrong)<br>\n",
    "The model that best predicts the \"Shakespeare\" &nbsp;&nbsp;: Binary (300 right, 1 wrong)  &nbsp;&nbsp;   // however, TFIDF also has (298 right, 3 wrong) score<br>\n",
    "\n",
    "Moreover, best accuracy and best F1 scores are achieved by TDIDF.\n",
    "\n",
    "\n",
    "------------------------------------------\n",
    "Binary has 30 mistakes in total,<br>\n",
    "Nonbinary has 41,<br>\n",
    "TDIDF has 18,<br>\n",
    "Doc2Vec has 45.<br>\n",
    "\n",
    "------------------------------------------\n",
    "\n",
    "All in all, the best model for this case is TDIDF one for two reasons,\n",
    "* It is the one guessing the writers the best (both for Austen and Chesterton, and second in Shakespeare)\n",
    "* It has the the lowest erroneous prediction count & has best accuracy and F1 scores."
   ]
  },
  {
   "cell_type": "markdown",
   "metadata": {
    "colab_type": "text",
    "id": "pGImEFS3BPcJ"
   },
   "source": [
    "# Process Mining\n",
    "For this part, refer to the online docs of pm4py. You will find particularly of interest the documentation on filtering (https://pm4py.github.io/filtering.html, or on the new website http://pm4py.pads.rwth-aachen.de/documentation/filtering-logs/). \n",
    "important: if you did not do it in the instruction, you should make sure to have the latest pm4py version: to get it is sufficient to type `pip install pm4py --upgrade` from any terminal emulator on Windows  (command prompt, PowerShell, etc) or any terminal on *nix systems. For the details, refer to the study guide and the Process Mining instruction.\n",
    "###Question 17 (Trace frequency)\n",
    "17. (a) Use the provided event log and identify the least frequent traces and the most frequent traces.\n"
   ]
  },
  {
   "cell_type": "markdown",
   "metadata": {},
   "source": [
    "# some of the codes taken from:\n",
    "https://www1.elearning.rwth-aachen.de/pluginfile.php/199417/mod_folder/content/0/ProcessMining_sol.ipynb?forcedownload=1\n",
    "\n",
    "(official lecture material)"
   ]
  },
  {
   "cell_type": "code",
   "execution_count": 67,
   "metadata": {
    "colab": {},
    "colab_type": "code",
    "id": "tU_bbK2FBkK0"
   },
   "outputs": [],
   "source": [
    "# your code\n",
    "import os\n",
    "from pm4py.objects.log.importer.xes import factory as xes_importer\n",
    "from pm4py.objects.log.importer.xes import factory as xes_import_factory\n",
    "\n",
    "xesFileName = \"event_log.xes\"\n",
    "parameters = {\"timestamp_sort\": True}\n",
    "eventLog = xes_import_factory.apply(xesFileName, variant=\"nonstandard\", parameters=parameters)\n",
    "# eventLog = xes_importer.import_log(xesFileName)"
   ]
  },
  {
   "cell_type": "code",
   "execution_count": 68,
   "metadata": {},
   "outputs": [
    {
     "name": "stdout",
     "output_type": "stream",
     "text": [
      "{'attributes': {'concept:name': 'CAS-01040-66MQC3'}, 'events': [{'lifecycle:transition': 'start', 'concept:name': 'Assigned Severity', 'time:timestamp': datetime.datetime(2010, 1, 8, 9, 52, 6)}, {'lifecycle:transition': 'start', 'concept:name': 'Waiting', 'time:timestamp': datetime.datetime(2010, 1, 8, 9, 52, 6)}, {'lifecycle:transition': 'start', 'concept:name': 'Under Processing', 'time:timestamp': datetime.datetime(2010, 1, 8, 9, 54, 59)}, {'lifecycle:transition': 'start', 'concept:name': 'Solves', 'time:timestamp': datetime.datetime(2010, 1, 8, 10, 8, 52)}, {'lifecycle:transition': 'start', 'concept:name': 'Closed', 'time:timestamp': datetime.datetime(2010, 1, 8, 13, 7, 18)}]}\n",
      "<class 'pm4py.objects.log.log.Trace'>\n",
      "\n",
      "<class 'pm4py.objects.log.log.TraceLog'>\n"
     ]
    }
   ],
   "source": [
    "print(eventLog[0])\n",
    "print(type(eventLog[0]))\n",
    "print()\n",
    "print(type(eventLog))"
   ]
  },
  {
   "cell_type": "code",
   "execution_count": 69,
   "metadata": {},
   "outputs": [
    {
     "name": "stdout",
     "output_type": "stream",
     "text": [
      "case index: 0  case id: CAS-01040-66MQC3\n",
      "   transition | index | timestamp | activity\n",
      "   start | 0 | 2010-01-08 09:52:06 | Assigned Severity\n",
      "   start | 1 | 2010-01-08 09:52:06 | Waiting\n",
      "   start | 2 | 2010-01-08 09:54:59 | Under Processing\n",
      "   start | 3 | 2010-01-08 10:08:52 | Solves\n",
      "   start | 4 | 2010-01-08 13:07:18 | Closed\n"
     ]
    }
   ],
   "source": [
    "# eventLog contains trace(s)\n",
    "# traces have logs for\n",
    "i = 3\n",
    "for case_index, case in enumerate(eventLog):\n",
    "    print(\"case index: %d  case id: %s\" % (case_index, case.attributes[\"concept:name\"]))\n",
    "    print(\"  \", \"transition\", \"|\", \"index\", \"|\", \"timestamp\", \"|\", \"activity\")\n",
    "    for event_index, event in enumerate(case):\n",
    "        print(\"  \", event['lifecycle:transition'], \"|\",\n",
    "              event_index, \"|\", event['time:timestamp'], \"|\", event[\"concept:name\"])\n",
    "    break"
   ]
  },
  {
   "cell_type": "code",
   "execution_count": 70,
   "metadata": {},
   "outputs": [
    {
     "name": "stdout",
     "output_type": "stream",
     "text": [
      "[{'variant': 'Assigned Severity,Waiting,Under Processing,Solves,Closed', 'count': 12188}, {'variant': 'Assigned Severity,Waiting,Under Processing,Under Processing,Solves,Closed', 'count': 10614}, {'variant': 'Assigned Severity,Under Processing,Under Processing,Waiting,Solves,Closed', 'count': 2568}, {'variant': 'Assigned Severity,Under Processing,Waiting,Solves,Closed', 'count': 2251}]\n",
      "\n",
      "MinVariant: Assigned Severity,Under Processing,Waiting,Solves,Closed | Count: 2251\n",
      "MaxVariant: Assigned Severity,Waiting,Under Processing,Solves,Closed | Count: 12188\n"
     ]
    }
   ],
   "source": [
    "from pm4py.statistics.traces.tracelog import case_statistics\n",
    "variants_count = case_statistics.get_variant_statistics(eventLog)\n",
    "variants_count = sorted(variants_count, key=lambda x: x['count'], reverse=True)\n",
    "\n",
    "minIndex = -1\n",
    "minValue = float('inf')\n",
    "maxIndex = -1\n",
    "maxValue = -float('inf')\n",
    "currentIndex = 0\n",
    "for variantObj in variants_count:\n",
    "    variant = variantObj[\"variant\"]\n",
    "    count = variantObj[\"count\"]\n",
    "    if count < minValue:\n",
    "        minValue = count\n",
    "        minIndex = currentIndex\n",
    "    if count > maxValue:\n",
    "        maxValue = count\n",
    "        maxIndex = currentIndex\n",
    "    currentIndex += 1\n",
    "    \n",
    "print(variants_count)\n",
    "print()\n",
    "print(\"MinVariant:\", variants_count[minIndex][\"variant\"], \"|\", \"Count:\", variants_count[minIndex][\"count\"])\n",
    "print(\"MaxVariant:\", variants_count[maxIndex][\"variant\"], \"|\", \"Count:\", variants_count[maxIndex][\"count\"])"
   ]
  },
  {
   "cell_type": "markdown",
   "metadata": {
    "colab_type": "text",
    "id": "_5_JFMrER2rf"
   },
   "source": [
    "###Question 18 (Process Discovery and Conformance Checking using first filtered event log)\n",
    "18. (a) Remove the two least frequent traces and create a new event log out of the original event log without the two least frequent traces."
   ]
  },
  {
   "cell_type": "code",
   "execution_count": 71,
   "metadata": {
    "colab": {},
    "colab_type": "code",
    "id": "UJmxAmghRodA"
   },
   "outputs": [
    {
     "name": "stdout",
     "output_type": "stream",
     "text": [
      "[{'variant': 'Assigned Severity,Waiting,Under Processing,Solves,Closed', 'count': 12188}, {'variant': 'Assigned Severity,Waiting,Under Processing,Under Processing,Solves,Closed', 'count': 10614}]\n"
     ]
    }
   ],
   "source": [
    "# your code\n",
    "from pm4py.algo.filtering.tracelog.variants import variants_filter\n",
    "def removeLeastFrequentXTimes(eventLogObj, variantCountObj, xTimes):\n",
    "    # variantCountObj is just an ordered list containing dicts of {\"variant\": x, \"count\": y}\n",
    "    # sorted on \"count\", decreasing order\n",
    "    \n",
    "    variantsToRemove = []\n",
    "    lastIndex = -1\n",
    "    for i in range(xTimes):\n",
    "        variantName = variantCountObj[lastIndex][\"variant\"]\n",
    "        variantsToRemove.append(variantName)\n",
    "        lastIndex -= 1\n",
    "    \n",
    "    filteredEventLog = variants_filter.apply(\n",
    "        eventLogObj,\n",
    "        variantsToRemove,\n",
    "        parameters={\"positive\": False}\n",
    "    )\n",
    "    \n",
    "    return filteredEventLog\n",
    "\n",
    "lastTwoRemovedEventLog = removeLeastFrequentXTimes(eventLog, variants_count, 2)\n",
    "variants_count_lastTwoRemoved = \\\n",
    "    case_statistics.get_variant_statistics(lastTwoRemovedEventLog)\n",
    "variants_count_lastTwoRemoved = \\\n",
    "    sorted(variants_count_lastTwoRemoved, key=lambda x: x['count'], reverse=True)\n",
    "print(variants_count_lastTwoRemoved)"
   ]
  },
  {
   "cell_type": "markdown",
   "metadata": {
    "colab_type": "text",
    "id": "_vjF6dm0RpQX"
   },
   "source": [
    "18. (b) Use Inductive miner algorithm to discover the process model based on you new event log (the filtered log without two least frequent traces).\n"
   ]
  },
  {
   "cell_type": "code",
   "execution_count": 72,
   "metadata": {
    "colab": {},
    "colab_type": "code",
    "id": "NqlBAJYkQrWK"
   },
   "outputs": [],
   "source": [
    "# your code\n",
    "from pm4py.algo.discovery.inductive import factory as inductive_miner\n",
    "tree_lastTwoRemoved = inductive_miner.apply_tree(lastTwoRemovedEventLog)\n",
    "\n",
    "from pm4py.objects.conversion.tree_to_petri import factory as tree_petri_converter\n",
    "net_lastTwoRemoved, initial_marking_lastTwoRemoved, final_marking_lastTwoRemoved = \\\n",
    "    tree_petri_converter.apply(tree_lastTwoRemoved)\n",
    "\n",
    "# Mining for a Petri net\n",
    "#net, initial_marking, final_marking = inductive_miner.apply(log)"
   ]
  },
  {
   "cell_type": "code",
   "execution_count": 73,
   "metadata": {},
   "outputs": [],
   "source": [
    "# Process tree visualization\n",
    "# from pm4py.visualization.process_tree import factory as pt_vis_factory\n",
    "\n",
    "# gviz_tree_lastTwoRemoved = pt_vis_factory.apply(tree_lastTwoRemoved)\n",
    "# pt_vis_factory.view(gviz_tree_lastTwoRemoved)"
   ]
  },
  {
   "cell_type": "code",
   "execution_count": 74,
   "metadata": {},
   "outputs": [],
   "source": [
    "# Petri net visualization\n",
    "from pm4py.visualization.petrinet import factory as pn_vis_factory\n",
    "\n",
    "# gviz_pn_lastTwoRemoved = \\\n",
    "#     pn_vis_factory.apply(net_lastTwoRemoved, initial_marking_lastTwoRemoved, final_marking_lastTwoRemoved)\n",
    "# pn_vis_factory.view(gviz_pn_lastTwoRemoved)"
   ]
  },
  {
   "cell_type": "markdown",
   "metadata": {
    "colab_type": "text",
    "id": "Bo5l2xWQXYQ_"
   },
   "source": [
    "18. (c) Do the token replay conformance checking using your discovered model and the original event log. Does your process model fit?\n"
   ]
  },
  {
   "cell_type": "code",
   "execution_count": 75,
   "metadata": {
    "colab": {},
    "colab_type": "code",
    "id": "NDuHJDRiXxYQ"
   },
   "outputs": [
    {
     "name": "stdout",
     "output_type": "stream",
     "text": [
      "\n",
      "{'trace_is_fit': True, 'trace_fitness': 1.0, 'activated_transitions': [Assigned Severity, Waiting, Under Processing, Solves, Closed], 'reached_marking': ['sink:1'], 'enabled_transitions_in_marking': set(), 'transitions_with_problems': [], 'missing_tokens': 0, 'consumed_tokens': 5, 'remaining_tokens': 0, 'produced_tokens': 5}\n",
      "\n",
      "{'perc_fit_traces': 82.55312986495782, 'average_trace_fitness': 0.9422531165900576, 'log_fitness': 0.9681466352032891}\n"
     ]
    }
   ],
   "source": [
    "# your code\n",
    "# Computing trace fitness\n",
    "from pm4py.algo.conformance.tokenreplay import factory as token_based_replay_factory\n",
    "print()\n",
    "token_replay_result_lastTwoRemoved = \\\n",
    "    token_based_replay_factory.apply(eventLog, net_lastTwoRemoved, initial_marking_lastTwoRemoved, final_marking_lastTwoRemoved)\n",
    "print(token_replay_result_lastTwoRemoved[0])\n",
    "\n",
    "print()\n",
    "\n",
    "fitness_tokenbasedreplay_lastTwoRemoved = \\\n",
    "    replay_fitness_factory.apply(eventLog, net_lastTwoRemoved, initial_marking_lastTwoRemoved, final_marking_lastTwoRemoved)\n",
    "print(fitness_tokenbasedreplay_lastTwoRemoved)"
   ]
  },
  {
   "cell_type": "markdown",
   "metadata": {
    "colab_type": "text",
    "id": "hf9VsGMEbKAN"
   },
   "source": [
    "Your explanation:\n",
    "\n",
    "Model fits very well, but does not overfit with 82% score, which is good."
   ]
  },
  {
   "cell_type": "markdown",
   "metadata": {
    "colab_type": "text",
    "id": "YzGYxMzGX0rL"
   },
   "source": [
    "18. (ci) Calculate the fitness of your model."
   ]
  },
  {
   "cell_type": "code",
   "execution_count": 76,
   "metadata": {
    "colab": {},
    "colab_type": "code",
    "id": "-Yjjz-IyX6PR"
   },
   "outputs": [
    {
     "name": "stdout",
     "output_type": "stream",
     "text": [
      "{'perc_fit_traces': 82.55312986495782, 'average_trace_fitness': 0.9422531165900576, 'log_fitness': 0.9681466352032891}\n"
     ]
    }
   ],
   "source": [
    "# your code\n",
    "from pm4py.evaluation.replay_fitness import factory as replay_fitness_factory\n",
    "\n",
    "fitness_tokenbasedreplay_lastTwoRemoved = \\\n",
    "    replay_fitness_factory.apply(eventLog, net_lastTwoRemoved, initial_marking_lastTwoRemoved, final_marking_lastTwoRemoved)\n",
    "print(fitness_tokenbasedreplay_lastTwoRemoved)"
   ]
  },
  {
   "cell_type": "markdown",
   "metadata": {
    "colab_type": "text",
    "id": "wmWIrp8GX_A_"
   },
   "source": [
    "18. (cii) Are there any deviations between the process model and the event log?"
   ]
  },
  {
   "cell_type": "markdown",
   "metadata": {
    "colab_type": "text",
    "id": "Ty8WFiocbFi3"
   },
   "source": [
    "Your explanation:\n",
    "\n",
    "There are some deviations, yes, and I believe there should be. Because: <br>\n",
    "-> I used modified event log(the two least frequent ones are removed) to train the process model,<br>\n",
    "-> then tested it on the whole event log (unmodified)\n",
    "\n",
    "It is plausible that it does not perfectly fit on some(82% perfect fit), it averagely fits very well (94% average fit)"
   ]
  },
  {
   "cell_type": "markdown",
   "metadata": {
    "colab_type": "text",
    "id": "0PwxekClSCm4"
   },
   "source": [
    "###Question 19 (Process Discovery and Conformance Checking using second filtered event log)\n",
    "19. (a) Now use the original event log and remove the two most frequent traces, and discover the model based on your new event log(the filtered log without two most frequent traces).\n"
   ]
  },
  {
   "cell_type": "code",
   "execution_count": 60,
   "metadata": {
    "colab": {},
    "colab_type": "code",
    "id": "vPi8IokfSKPS"
   },
   "outputs": [
    {
     "name": "stdout",
     "output_type": "stream",
     "text": [
      "[{'variant': 'Assigned Severity,Under Processing,Under Processing,Waiting,Solves,Closed', 'count': 2568}, {'variant': 'Assigned Severity,Under Processing,Waiting,Solves,Closed', 'count': 2251}]\n"
     ]
    }
   ],
   "source": [
    "# your code\n",
    "def removeMostFrequentXTimes(eventLogObj, variantCountObj, xTimes):\n",
    "    # variantCountObj is just an ordered list containing dicts of {\"variant\": x, \"count\": y}\n",
    "    # sorted on \"count\", decreasing order\n",
    "    \n",
    "    variantsToRemove = []\n",
    "    lastIndex = 0\n",
    "    for i in range(xTimes):\n",
    "        variantName = variantCountObj[lastIndex][\"variant\"]\n",
    "        variantsToRemove.append(variantName)\n",
    "        lastIndex += 1\n",
    "    \n",
    "    filteredEventLog = variants_filter.apply(\n",
    "        eventLogObj,\n",
    "        variantsToRemove,\n",
    "        parameters={\"positive\": False}\n",
    "    )\n",
    "    \n",
    "    return filteredEventLog\n",
    "\n",
    "firstTwoRemovedEventLog = removeMostFrequentXTimes(eventLog, variants_count, 2)\n",
    "variants_count_firstTwoRemoved = \\\n",
    "    case_statistics.get_variant_statistics(firstTwoRemovedEventLog)\n",
    "variants_count_firstTwoRemoved = \\\n",
    "    sorted(variants_count_firstTwoRemoved, key=lambda x: x['count'], reverse=True)\n",
    "print(variants_count_firstTwoRemoved)\n",
    "\n",
    "\n",
    "from pm4py.algo.discovery.inductive import factory as inductive_miner\n",
    "tree_firstTwoRemoved = inductive_miner.apply_tree(firstTwoRemovedEventLog)\n",
    "\n",
    "from pm4py.objects.conversion.tree_to_petri import factory as tree_petri_converter\n",
    "net_firstTwoRemoved, initial_marking_firstTwoRemoved, final_marking_firstTwoRemoved = \\\n",
    "    tree_petri_converter.apply(tree_firstTwoRemoved)"
   ]
  },
  {
   "cell_type": "code",
   "execution_count": 61,
   "metadata": {},
   "outputs": [],
   "source": [
    "# Process tree visualization\n",
    "# from pm4py.visualization.process_tree import factory as pt_vis_factory\n",
    "\n",
    "# gviz_tree_firstTwoRemoved = pt_vis_factory.apply(tree_firstTwoRemoved)\n",
    "# pt_vis_factory.view(gviz_tree_firstTwoRemoved)"
   ]
  },
  {
   "cell_type": "code",
   "execution_count": 62,
   "metadata": {},
   "outputs": [],
   "source": [
    "# Petri net visualization\n",
    "# from pm4py.visualization.petrinet import factory as pn_vis_factory\n",
    "\n",
    "# gviz_pn_firstTwoRemoved = \\\n",
    "#     pn_vis_factory.apply(net_firstTwoRemoved, initial_marking_firstTwoRemoved, final_marking_firstTwoRemoved)\n",
    "# pn_vis_factory.view(gviz_pn_firstTwoRemoved)"
   ]
  },
  {
   "cell_type": "markdown",
   "metadata": {
    "colab_type": "text",
    "id": "_YKO3A-8SM7A"
   },
   "source": [
    "19. (b) Do the token replay conformance checking using your newly discovered model and the original event log. Does your process model fit?"
   ]
  },
  {
   "cell_type": "code",
   "execution_count": 63,
   "metadata": {
    "colab": {},
    "colab_type": "code",
    "id": "IyWVfchYSRUh"
   },
   "outputs": [
    {
     "name": "stdout",
     "output_type": "stream",
     "text": [
      "\n",
      "{'trace_is_fit': False, 'trace_fitness': 0.6400000000000001, 'activated_transitions': [Assigned Severity, skip_2, Waiting, Under Processing, Solves, Closed], 'reached_marking': ['p_5:1', 'sink:1'], 'enabled_transitions_in_marking': {Waiting, Under Processing}, 'transitions_with_problems': [Under Processing], 'missing_tokens': 1, 'consumed_tokens': 5, 'remaining_tokens': 1, 'produced_tokens': 5}\n",
      "\n",
      "{'perc_fit_traces': 17.44687013504218, 'average_trace_fitness': 0.7237302535510584, 'log_fitness': 0.8492798455914916}\n"
     ]
    }
   ],
   "source": [
    "# your code\n",
    "# Computing trace fitness\n",
    "from pm4py.algo.conformance.tokenreplay import factory as token_based_replay_factory\n",
    "print()\n",
    "token_replay_result_firstTwoRemoved = \\\n",
    "    token_based_replay_factory.apply(eventLog, net_firstTwoRemoved, initial_marking_firstTwoRemoved, final_marking_firstTwoRemoved)\n",
    "print(token_replay_result_firstTwoRemoved[0])\n",
    "\n",
    "print()\n",
    "\n",
    "fitness_tokenbasedreplay_firstTwoRemoved = \\\n",
    "    replay_fitness_factory.apply(eventLog, net_firstTwoRemoved, initial_marking_firstTwoRemoved, final_marking_firstTwoRemoved)\n",
    "\n",
    "print(fitness_tokenbasedreplay_firstTwoRemoved)"
   ]
  },
  {
   "cell_type": "markdown",
   "metadata": {
    "colab_type": "text",
    "id": "u7y8iFRaa9uJ"
   },
   "source": [
    "Your explanation:\n",
    "Model does not fit very well because I trained it with only the least frequent two.<br>\n",
    "However, it does not terribly bad on average trace fitness."
   ]
  },
  {
   "cell_type": "markdown",
   "metadata": {
    "colab_type": "text",
    "id": "05uznBXGSVu5"
   },
   "source": [
    "19. (bi) Calculate the fitness of your model?"
   ]
  },
  {
   "cell_type": "code",
   "execution_count": 64,
   "metadata": {
    "colab": {},
    "colab_type": "code",
    "id": "vmSpVfhoSan3"
   },
   "outputs": [
    {
     "name": "stdout",
     "output_type": "stream",
     "text": [
      "{'perc_fit_traces': 17.44687013504218, 'average_trace_fitness': 0.7237302535510584, 'log_fitness': 0.8492798455914916}\n"
     ]
    }
   ],
   "source": [
    "# your code\n",
    "from pm4py.evaluation.replay_fitness import factory as replay_fitness_factory\n",
    "\n",
    "fitness_tokenbasedreplay_firstTwoRemoved = \\\n",
    "    replay_fitness_factory.apply(eventLog, net_firstTwoRemoved, initial_marking_firstTwoRemoved, final_marking_firstTwoRemoved)\n",
    "\n",
    "print(fitness_tokenbasedreplay_firstTwoRemoved)"
   ]
  },
  {
   "cell_type": "markdown",
   "metadata": {
    "colab_type": "text",
    "id": "40v9719GYP8S"
   },
   "source": [
    "19. (bii)  Is there any deviation inside the process model?\n",
    "\n",
    "Your explanation:\n",
    "\n",
    "There is a very bad deviations, and I believe this is normal. Because:<br>\n",
    "-> I used modified event log(this time, the two most frequent ones are removed) to train the process model,<br>\n",
    "-> then tested it on the whole event log (unmodified)\n",
    "\n",
    "Because I trained my model on very few data(only the least frequent two were present in the modified event log), it does a very bad job on perfectly fitting on logs(17% perfect), but not terribly bad on average(72% on average)."
   ]
  },
  {
   "cell_type": "markdown",
   "metadata": {
    "colab_type": "text",
    "id": "qXDGvC3RSpZu"
   },
   "source": [
    "###Question 20 (Process Discovery using complete log)\n",
    "20. (a) Use the complete event log (original event log) and discover your process model using inductive miner.\n"
   ]
  },
  {
   "cell_type": "code",
   "execution_count": 65,
   "metadata": {
    "colab": {},
    "colab_type": "code",
    "id": "eYrEUlz_SmE3"
   },
   "outputs": [],
   "source": [
    "# your code\n",
    "from pm4py.algo.discovery.inductive import factory as inductive_miner\n",
    "tree_all = inductive_miner.apply_tree(eventLog)\n",
    "\n",
    "from pm4py.objects.conversion.tree_to_petri import factory as tree_petri_converter\n",
    "net_all, initial_all, final_all = \\\n",
    "    tree_petri_converter.apply(tree_all)"
   ]
  },
  {
   "cell_type": "markdown",
   "metadata": {
    "colab_type": "text",
    "id": "XahMrZNvY0kn"
   },
   "source": [
    "20. (b) Do the token replay conformance checking using your newly discovered model and the original event log. Does your process model fit?"
   ]
  },
  {
   "cell_type": "code",
   "execution_count": 66,
   "metadata": {
    "colab": {},
    "colab_type": "code",
    "id": "eN-EiMr6Y059"
   },
   "outputs": [
    {
     "name": "stdout",
     "output_type": "stream",
     "text": [
      "{'perc_fit_traces': 100.0, 'average_trace_fitness': 1.0, 'log_fitness': 1.0}\n"
     ]
    }
   ],
   "source": [
    "# your code\n",
    "from pm4py.evaluation.replay_fitness import factory as replay_fitness_factory\n",
    "\n",
    "fitness_tokenbasedreplay_all = \\\n",
    "    replay_fitness_factory.apply(eventLog, net_all, initial_all, final_all)\n",
    "\n",
    "print(fitness_tokenbasedreplay_all)"
   ]
  },
  {
   "cell_type": "markdown",
   "metadata": {
    "colab_type": "text",
    "id": "b-g6ywFDatOY"
   },
   "source": [
    "Your explanation:\n",
    "\n",
    "Using the original event log, trace_fitness is 1.0, meaning perfect prediction.\n",
    "BUT, the PROBLEM here is that this model overfits to the original event log,\n",
    "meaning it is not a good way to do so.\n",
    "(when encountered with new novel event logs, because it overfits, it won't result in good predictions)"
   ]
  },
  {
   "cell_type": "markdown",
   "metadata": {
    "colab_type": "text",
    "id": "mqguSN3XY1Px"
   },
   "source": [
    "20. (c) How are these three discovered process models different from each other? Which model is the best fitting to the original log? Why?"
   ]
  },
  {
   "cell_type": "markdown",
   "metadata": {
    "colab_type": "text",
    "id": "oTdiAchtY_vg"
   },
   "source": [
    "Your explanation:\n",
    "\n",
    "Let's define the models as follows:<br>\n",
    "mostFrequentEventLogsModel (short as mostFreq)   : the two least frequent logs are removed, then model is trained with it<br>\n",
    "leastFrequentEventLogsModel (short as leastFreq) : the two most frequent logs are removed, then model is trained with it<br>\n",
    "allEventLogsModel  (short as allFreq)       : all event log is used, and model is trained with it\n",
    "\n",
    "\n",
    "allFreq is clearly overfitting (all data is used, that is why). Its perfect prediction ratio is 100%, and it might fail in novel event logs that will arise.\n",
    "\n",
    "leastFreq is underfitting (only two least frequents are used, and they only made a small percent of all the logs, that is why). Its perfect prediction ratio is 17%, which is very low. Although, as said before, it does not do terribly bad on average prediction ratio.\n",
    "\n",
    "mostFreq is fitting very well (most of the logs are used, but not all, both avoiding overfitting and underfitting), that is why. Its perfect prediction ratio is 82%, its average prediction ratio is 94%, and hopefully it does not overfit.\n",
    "\n",
    "\n",
    "\n"
   ]
  }
 ],
 "metadata": {
  "colab": {
   "collapsed_sections": [
    "q491HYdbIq8T",
    "jkdo7SE6Mw3N",
    "y3OJYgdqN38Y",
    "Zfz0fzTpA-3j"
   ],
   "name": "Assignment2.ipynb",
   "provenance": [],
   "version": "0.3.2"
  },
  "kernelspec": {
   "display_name": "Python 3",
   "language": "python",
   "name": "python3"
  },
  "language_info": {
   "codemirror_mode": {
    "name": "ipython",
    "version": 3
   },
   "file_extension": ".py",
   "mimetype": "text/x-python",
   "name": "python",
   "nbconvert_exporter": "python",
   "pygments_lexer": "ipython3",
   "version": "3.6.7"
  }
 },
 "nbformat": 4,
 "nbformat_minor": 1
}
