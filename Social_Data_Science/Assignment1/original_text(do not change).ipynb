{
 "cells": [
  {
   "cell_type": "markdown",
   "metadata": {},
   "source": [
    "# First home assignment Social Data Science"
   ]
  },
  {
   "cell_type": "raw",
   "metadata": {},
   "source": [
    "Submit your solution by email to submission@cssh.rwth-aachen.de until 23.59pm on Wednesday, November 28th!\n",
    "Use \"[SDS] Submission Home Assignment 1\" as the email subject.\n",
    "\n",
    "You can (and should!) submit solutions in teams of up to three members.\n",
    "Please denote all members of the team with their student id and full name in the notebook as well as in the email body. Put all team members in email CC when submitting. Please submit only one email per team.\n",
    "\n",
    "Cite ALL your sources for coding this home assignment. In case of plagiarism (copying solutions from other teams or from the internet) ALL team members will be expelled from the course without warning.\n"
   ]
  },
  {
   "cell_type": "markdown",
   "metadata": {},
   "source": [
    "### Implement multiple linear regression by gradient descent\n",
    "Your implementation should be based on numpy arrays. Your implementation can use functions from the numpy library.\n",
    "\n",
    "Your function should have the signature\n",
    "linear_regression_gd (X,y,learning_rate) and should return a tuple (mean_squared_error_of_solution, [list_of_optimum_parameters])\n",
    "Here, X is a numpy array with the values of the explanatory variables, and y is an array with the dependent variable\n",
    "\n"
   ]
  },
  {
   "cell_type": "code",
   "execution_count": null,
   "metadata": {},
   "outputs": [],
   "source": []
  },
  {
   "cell_type": "markdown",
   "metadata": {},
   "source": [
    "### Extend your previous code to implement Stochastic Gradient Descent\n",
    "Your function should have the signature\n",
    "linear_regression_sgd (X,y,learning_rate, batch_size)"
   ]
  },
  {
   "cell_type": "code",
   "execution_count": null,
   "metadata": {},
   "outputs": [],
   "source": []
  },
  {
   "cell_type": "markdown",
   "metadata": {},
   "source": [
    "### Load the quality of Government Dataset \n",
    "from here: https://www.qogdata.pol.gu.se/data/qog_bas_cs_jan18.csv.\n",
    "The data is described here\n",
    "load it into a pandas dataframe and select the following columns:\n",
    "\"cname\",\"wdi_lifexp\",\"wdi_popden\",\"gle_cgdpc\",\"bti_acp\", \"bti_pdi\", \"fh_pair\", \"al_ethnic\",\"al_language\",\"al_religion\",\"bti_aar\",\"vdem_gender\",\"bti_ci\",\"bti_foe\",\"wdi_araland\", \"wdi_forest\"\n"
   ]
  },
  {
   "cell_type": "code",
   "execution_count": null,
   "metadata": {},
   "outputs": [],
   "source": []
  },
  {
   "cell_type": "markdown",
   "metadata": {},
   "source": [
    "### Compute the correlation of all other variables with the life expectancy (wdi_lifexp)"
   ]
  },
  {
   "cell_type": "code",
   "execution_count": null,
   "metadata": {},
   "outputs": [],
   "source": []
  },
  {
   "cell_type": "markdown",
   "metadata": {},
   "source": [
    "### Apply your own implementations  (GD and SGD)\n",
    "To model the life expectancy from the population density and GDP per capita.\n",
    "Compare the results with what you get from scikit learn OR statsmodel libraries.\n",
    "\n",
    "For this subtask, just remove all countries with missing values in any of these three variables."
   ]
  },
  {
   "cell_type": "code",
   "execution_count": null,
   "metadata": {},
   "outputs": [],
   "source": []
  },
  {
   "cell_type": "markdown",
   "metadata": {},
   "source": [
    "### Build regression models to model the life expectancy (wdi_lifexp) in this dataset\n",
    "from all other mentioned variables.\n",
    "You can use scikit learn and/or statsmodels libraries for this task.\n",
    "Standardize variables and fill in missing values appropriately.\n",
    "Compare linear regression, Ridge regression and Lasso using k-fold-cross validation\n",
    "Test several parameters for the regularized regressions.\n"
   ]
  },
  {
   "cell_type": "code",
   "execution_count": null,
   "metadata": {},
   "outputs": [],
   "source": []
  },
  {
   "cell_type": "markdown",
   "metadata": {},
   "source": [
    "### Implement Forward and Backward Selection algorithms\n",
    "And apply it to the (given subset of variables of the) Quality of Government dataset.\n",
    "Compare the results of Forward and Backward selection with each other.\n"
   ]
  },
  {
   "cell_type": "code",
   "execution_count": null,
   "metadata": {},
   "outputs": [],
   "source": []
  }
 ],
 "metadata": {
  "kernelspec": {
   "display_name": "Python 3",
   "language": "python",
   "name": "python3"
  },
  "language_info": {
   "codemirror_mode": {
    "name": "ipython",
    "version": 3
   },
   "file_extension": ".py",
   "mimetype": "text/x-python",
   "name": "python",
   "nbconvert_exporter": "python",
   "pygments_lexer": "ipython3",
   "version": "3.6.4"
  }
 },
 "nbformat": 4,
 "nbformat_minor": 2
}
