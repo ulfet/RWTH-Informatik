{
 "cells": [
  {
   "cell_type": "markdown",
   "metadata": {},
   "source": [
    "# Second home assignment Social Data Science"
   ]
  },
  {
   "cell_type": "raw",
   "metadata": {},
   "source": [
    "Submit your solution to L2P until Wednesday, January 16th.\n",
    "\n",
    "You can (and should!) submit solutions in teams of up to four members.\n",
    "Please denote all members of the team with their student id and full name in the notebook. Please submit only one solution per team!\n",
    "\n",
    "Cite ALL your sources for coding this home assignment. In case of plagiarism (copying solutions from other teams or from the internet) ALL team members will be expelled from the course without warning.\n"
   ]
  },
  {
   "cell_type": "markdown",
   "metadata": {},
   "source": [
    "Team Members\n",
    "1.Anna Wegmann - 330509\n",
    "2.Ulfet Cetin- 391819\n",
    "3.Shreya Kar- 392325"
   ]
  },
  {
   "cell_type": "markdown",
   "metadata": {},
   "source": [
    "## Mahalanobis matching\n",
    "Another popular alternative to propensity score matching is \"Mahalanobis matching\". This is a greedy matching method, where each point of one group is matched to its nearest neighbor according to the Mahalanobis distance, see https://docs.scipy.org/doc/scipy-0.14.0/reference/generated/scipy.spatial.distance.mahalanobis.html for a formal definition. \n",
    "\n"
   ]
  },
  {
   "cell_type": "markdown",
   "metadata": {},
   "source": [
    "### Data preparation:\n",
    "We apply Mahalanobis matching to the quality of government (QoG) data from the last home assignment. For this task, first load the QoG data into a pandas dataframe and select the columns \"cname\",\"wdi_lifexp\" (life expectancy),\"wdi_popden\"(population density),\"gle_cgdpc\" (GDP per capita), \"bti_ds\" (Democracy Status).\n",
    "\n",
    "Remove all countries with missing values. Then put all remaining countries into two groups:\n",
    "* Full democratic (bti_ds > 8.0)\n",
    "* Not full democratic (else)"
   ]
  },
  {
   "cell_type": "code",
   "execution_count": 6,
   "metadata": {},
   "outputs": [],
   "source": [
    "# import libraries\n",
    "import pandas as pd\n",
    "import scipy\n",
    "import numpy as np\n",
    "from scipy import spatial"
   ]
  },
  {
   "cell_type": "code",
   "execution_count": 7,
   "metadata": {},
   "outputs": [],
   "source": [
    "dataSet = pd.read_csv('qog_bas_cs_jan18.csv')\n",
    "columnNames = [\"cname\", \"wdi_lifexp\", \"wdi_popden\", \"gle_cgdpc\", \"bti_ds\"]\n",
    "\n",
    "# remove missing values\n",
    "filteredData = dataSet[columnNames].dropna()"
   ]
  },
  {
   "cell_type": "code",
   "execution_count": 8,
   "metadata": {},
   "outputs": [],
   "source": [
    "democratic = filteredData[filteredData[\"bti_ds\"]>8.0]\n",
    "notDemocratic = filteredData[filteredData[\"bti_ds\"]<=8.0]\n",
    "\n",
    "# print(democratic[\"cname\"])\n",
    "# print()\n",
    "# print(notDemocratic[\"cname\"])\n",
    "# print()\n",
    "# print(filteredData)"
   ]
  },
  {
   "cell_type": "markdown",
   "metadata": {},
   "source": [
    "### a) Compute the Mahalanobis distance matrix with respect to the attribute population density and gdp per capita.\n",
    "You can use all functions from numpy/scipy/scikit-learn for this!"
   ]
  },
  {
   "cell_type": "code",
   "execution_count": 9,
   "metadata": {},
   "outputs": [],
   "source": [
    "# choose the fields required\n",
    "composition1 = filteredData[\"wdi_popden\"]\n",
    "composition2 = filteredData[\"gle_cgdpc\"]\n",
    "\n",
    "# calculated covariance and inverse matrix of covariance\n",
    "covariance = np.cov(composition1, composition2)\n",
    "inverseOfCovariance = np.linalg.inv(covariance)"
   ]
  },
  {
   "cell_type": "code",
   "execution_count": 10,
   "metadata": {},
   "outputs": [],
   "source": [
    "# create an empty matrix to be populated later\n",
    "numberOfCountries = len(filteredData[\"cname\"])\n",
    "result = np.zeros( (numberOfCountries, numberOfCountries) )\n",
    "\n",
    "# iterate over to calculate mahalanobis distances\n",
    "# populate the result matrix accordingly\n",
    "for ind_1 in range(numberOfCountries):\n",
    "    for ind_2 in range(numberOfCountries):\n",
    "        x = filteredData[[\"wdi_popden\", \"gle_cgdpc\"]].iloc[[ind_1]]\n",
    "        y = filteredData[[\"wdi_popden\", \"gle_cgdpc\"]].iloc[[ind_2]]\n",
    "        result[ind_1,ind_2] = scipy.spatial.distance.mahalanobis(x, y, inverseOfCovariance)"
   ]
  },
  {
   "cell_type": "code",
   "execution_count": 11,
   "metadata": {},
   "outputs": [
    {
     "data": {
      "text/plain": [
       "array([[0.        , 0.57724045, 0.36103969, ..., 0.77255722, 0.0738152 ,\n",
       "        0.07849645],\n",
       "       [0.57724045, 0.        , 0.24802164, ..., 0.22355037, 0.50430004,\n",
       "        0.51884035],\n",
       "       [0.36103969, 0.24802164, 0.        , ..., 0.41516357, 0.28792537,\n",
       "        0.29105487],\n",
       "       ...,\n",
       "       [0.77255722, 0.22355037, 0.41516357, ..., 0.        , 0.69875686,\n",
       "        0.70560509],\n",
       "       [0.0738152 , 0.50430004, 0.28792537, ..., 0.69875686, 0.        ,\n",
       "        0.0409606 ],\n",
       "       [0.07849645, 0.51884035, 0.29105487, ..., 0.70560509, 0.0409606 ,\n",
       "        0.        ]])"
      ]
     },
     "execution_count": 11,
     "metadata": {},
     "output_type": "execute_result"
    }
   ],
   "source": [
    "result"
   ]
  },
  {
   "cell_type": "markdown",
   "metadata": {},
   "source": [
    "### b) Matching:\n",
    "Investigate if there is a statistical association between \"Full Democratic\" and \"Not Full Democratic\" on one hand and life expectancy on the other hand.\n",
    "For that purpose, compute a full greedy matching according to the Mahalanobis distance w.r.t population density and gdp per capita. Determine for yourself a reasonable threshold when no a match should be discarded (i.e., there is no suitable match for a country in the other group). Compare the life expectancy in the two groups.\n",
    "\n",
    "Interpret and critically discuss the trustworthiness of the results."
   ]
  },
  {
   "cell_type": "code",
   "execution_count": 12,
   "metadata": {},
   "outputs": [
    {
     "name": "stdout",
     "output_type": "stream",
     "text": [
      "19 : 178\n",
      "Botswana : Turkmenistan\n",
      "Score: 0.0349204771205808\n",
      "\n",
      "20 : 135\n",
      "Brazil : Peru\n",
      "Score: 0.04860075395292411\n",
      "\n",
      "24 : 110\n",
      "Bulgaria : Mexico\n",
      "Score: 0.028597279721248446\n",
      "\n",
      "35 : 7\n",
      "Chile : Argentina\n",
      "Score: 0.03255889832254219\n",
      "\n",
      "42 : 182\n",
      "Costa Rica : Macedonia\n",
      "Score: 0.021831798694790707\n",
      "\n",
      "43 : 27\n",
      "Croatia : Belarus\n",
      "Score: 0.04123842086779771\n",
      "\n",
      "46 : 150\n",
      "Czech Republic : Saudi Arabia\n",
      "Score: 0.2532411997239862\n",
      "\n",
      "56 : 143\n",
      "Estonia : Russia\n",
      "Score: 0.05676984216433448\n",
      "\n",
      "84 : 157\n",
      "Jamaica : Vietnam\n",
      "Score: 0.06968269472677867\n",
      "\n",
      "90 : 117\n",
      "Korea, South : Oman\n",
      "Score: 0.7874692128834171\n",
      "\n",
      "96 : 161\n",
      "Latvia : Zimbabwe\n",
      "Score: 0.05350793121349837\n",
      "\n",
      "100 : 74\n",
      "Lithuania : Hungary\n",
      "Score: 0.09299289792788276\n",
      "\n",
      "109 : 94\n",
      "Mauritius : Lebanon\n",
      "Score: 0.36330059449138247\n",
      "\n",
      "137 : 175\n",
      "Poland : United Arab Emirates\n",
      "Score: 0.04063116754601177\n",
      "\n",
      "142 : 114\n",
      "Romania : Montenegro\n",
      "Score: 0.05943947644791214\n",
      "\n",
      "156 : 177\n",
      "Slovakia : Turkey\n",
      "Score: 0.39806074631676136\n",
      "\n",
      "158 : 132\n",
      "Slovenia : Panama\n",
      "Score: 0.7506821306959449\n",
      "\n",
      "188 : 78\n",
      "Uruguay : Iran\n",
      "Score: 0.04086739937450757\n",
      "\n"
     ]
    }
   ],
   "source": [
    "# the following commented out code is taken from the lecture notes:\n",
    "# https://www3.elearning.rwth-aachen.de/ws18/18ws-191315/Lists/\n",
    "# StructuredMaterials/exercises/05e_matching_solution.ipynb\n",
    "\n",
    "# our solution will be based on it (as it is given as a lecture material)\n",
    "\n",
    "# def greedy_matching (group_1,group_2):\n",
    "#     group_1 = group_1.copy()\n",
    "#     #for each element in the smaller group pick one greedily from the first group\n",
    "#     matching = {}\n",
    "#     for i,o2 in enumerate(group_2):\n",
    "#         #compute distances:\n",
    "#         distances = [euclidean_distance (o2, o1) for o1 in group_1]\n",
    "#         #find the index of the best match for element o2\n",
    "#         best_match = np.argmin(distances)\n",
    "#         #store the matching\n",
    "#         matching [best_match] = i\n",
    "#         #prevent matching the same best_match again\n",
    "#         group_1[best_match].fill (np.inf)     \n",
    "#     return matching\n",
    "\n",
    "countryIndexDict = {}\n",
    "indexForDict = 0\n",
    "for index, row in filteredData.iterrows():\n",
    "    countryName = row[\"cname\"]\n",
    "    countryIndex = indexForDict\n",
    "    countryIndexDict[countryName] = countryIndex\n",
    "    indexForDict += 1\n",
    "\n",
    "\n",
    "def greedyMatching(democraticVar, nonDemocraticVar, distanceMatrix):\n",
    "    # dictionary of return ^^\n",
    "    matchingDict = {}\n",
    "    scoresDict = {}\n",
    "\n",
    "    # both groups are of same length, so pick one (we pick group2)\n",
    "    previouslySelectedList = []\n",
    "    \n",
    "    # iterate over countries\n",
    "    # democraticVar is smaller group, so pick one it\n",
    "    for i, row1 in democraticVar.iterrows():\n",
    "        index1 = countryIndexDict[row1[\"cname\"]]\n",
    "        # find the best match\n",
    "        bestScore = np.inf\n",
    "        bestMatch = None\n",
    "        for j, row2 in nonDemocraticVar.iterrows():\n",
    "            index2 = countryIndexDict[row2[\"cname\"]]\n",
    "            # if for i value -> we selected a match,\n",
    "            #    then, \"continue\" it as we are greedy\n",
    "            if index2 in previouslySelectedList:\n",
    "                continue\n",
    "            \n",
    "            # if we found a better score, update our current best variables\n",
    "            # ANNA: should it be < or > for Mahalanobis distance ?? < since it is a distance\n",
    "            if distanceMatrix[index1][index2] < bestScore:\n",
    "                bestScore = distanceMatrix[index1][index2]\n",
    "                bestMatch = index2\n",
    "            \n",
    "        # set the best match,\n",
    "        # do not forget to add i to previouslySelectedList\n",
    "        # so we do not overwrite it in next iterations\n",
    "        previouslySelectedList.append(bestMatch)\n",
    "        matchingDict[index1] = bestMatch\n",
    "        scoresDict[index1] = bestScore\n",
    "    \n",
    "    # sorry, ad-hoc solution\n",
    "    # hate to do ad-hoc :(\n",
    "    # switch to filteredData index form (instead of the form above)\n",
    "    newDict = {}\n",
    "    newScoreDict = {}\n",
    "    for key in matchingDict.keys():\n",
    "        val = matchingDict[key]\n",
    "        score_in_filtered = scoresDict[key]\n",
    "        key_in_filtered = filteredData.iloc[key].name\n",
    "        val_in_filtered = filteredData.iloc[val].name\n",
    "        newDict[key_in_filtered] = val_in_filtered\n",
    "        newScoreDict[key_in_filtered] = score_in_filtered\n",
    "        \n",
    "    # matchingDict uses relative indexing\n",
    "    # use whatever return use want to use, i prefer the latter\n",
    "    \n",
    "    # note that newDict uses index given by Pandas \n",
    "    # (the one that appear on the mostleft field when printing Pandas dataframe)\n",
    "    return newDict, newScoreDict\n",
    "\n",
    "matchDict, scoresDict = greedyMatching(democratic, notDemocratic, result)\n",
    "\n",
    "for key in matchDict.keys():\n",
    "    val = matchDict[key]\n",
    "    score = scoresDict[key]\n",
    "    print(key, \":\",  val)\n",
    "    \n",
    "    demCountry = filteredData.loc[key][\"cname\"]\n",
    "    nonDemCountry = filteredData.loc[val][\"cname\"]\n",
    "    print(demCountry, \":\", nonDemCountry)\n",
    "    \n",
    "    print(\"Score:\", score)\n",
    "    \n",
    "    print()"
   ]
  },
  {
   "cell_type": "code",
   "execution_count": 13,
   "metadata": {},
   "outputs": [
    {
     "name": "stdout",
     "output_type": "stream",
     "text": [
      "19 : 178\n",
      "Botswana : Turkmenistan\n",
      "Score: 0.0349204771205808\n",
      "\n",
      "20 : 135\n",
      "Brazil : Peru\n",
      "Score: 0.04860075395292411\n",
      "\n",
      "24 : 110\n",
      "Bulgaria : Mexico\n",
      "Score: 0.028597279721248446\n",
      "\n",
      "35 : 7\n",
      "Chile : Argentina\n",
      "Score: 0.03255889832254219\n",
      "\n",
      "42 : 182\n",
      "Costa Rica : Macedonia\n",
      "Score: 0.021831798694790707\n",
      "\n",
      "43 : 27\n",
      "Croatia : Belarus\n",
      "Score: 0.04123842086779771\n",
      "\n",
      "56 : 143\n",
      "Estonia : Russia\n",
      "Score: 0.05676984216433448\n",
      "\n",
      "84 : 157\n",
      "Jamaica : Vietnam\n",
      "Score: 0.06968269472677867\n",
      "\n",
      "96 : 161\n",
      "Latvia : Zimbabwe\n",
      "Score: 0.05350793121349837\n",
      "\n",
      "100 : 74\n",
      "Lithuania : Hungary\n",
      "Score: 0.09299289792788276\n",
      "\n",
      "137 : 175\n",
      "Poland : United Arab Emirates\n",
      "Score: 0.04063116754601177\n",
      "\n",
      "142 : 114\n",
      "Romania : Montenegro\n",
      "Score: 0.05943947644791214\n",
      "\n",
      "188 : 78\n",
      "Uruguay : Iran\n",
      "Score: 0.04086739937450757\n",
      "\n"
     ]
    }
   ],
   "source": [
    "# threshold (maybe 0.1)\n",
    "def filter_threshold(matchDict, scoresDict, threshold):\n",
    "    filteredMatchDict = {}\n",
    "    filteredScoreDict = {}\n",
    "    for key in matchDict.keys():\n",
    "        val = matchDict[key]\n",
    "        score = scoresDict[key]\n",
    "        if score < threshold:\n",
    "            filteredMatchDict[key] = val\n",
    "            filteredScoreDict[key] = score\n",
    "            print(key, \":\",  val)\n",
    "\n",
    "            demCountry = filteredData.loc[key][\"cname\"]\n",
    "            nonDemCountry = filteredData.loc[val][\"cname\"]\n",
    "            print(demCountry, \":\", nonDemCountry)\n",
    "\n",
    "            print(\"Score:\", score)\n",
    "\n",
    "            print()\n",
    "    return filteredMatchDict, filteredScoreDict\n",
    "filteredMatchDict, filteredScoreDict = filter_threshold(matchDict, scoresDict, 0.1)"
   ]
  },
  {
   "cell_type": "code",
   "execution_count": 14,
   "metadata": {},
   "outputs": [],
   "source": [
    "# we chose a threshold of 0.1 because:\n",
    "# it only filters out 5 matchings and the remaining matchings have comparable scores [low range of values]\n",
    "# > the remaining matchings have a score between 0 and 0.1 (13 matchings)\n",
    "# > the filtered matchings have a score between 0.25 and 0.8 (5 matchings)"
   ]
  },
  {
   "cell_type": "code",
   "execution_count": 15,
   "metadata": {},
   "outputs": [
    {
     "name": "stdout",
     "output_type": "stream",
     "text": [
      "18\n",
      "13\n"
     ]
    }
   ],
   "source": [
    "n_unfiltered = len(matchDict.keys())\n",
    "n_filtered = len(filteredMatchDict.keys())\n",
    "print(n_unfiltered)\n",
    "print(n_filtered)"
   ]
  },
  {
   "cell_type": "code",
   "execution_count": 16,
   "metadata": {},
   "outputs": [
    {
     "data": {
      "text/plain": [
       "2.063575157752396"
      ]
     },
     "execution_count": 16,
     "metadata": {},
     "output_type": "execute_result"
    }
   ],
   "source": [
    "avg_dem = 0\n",
    "avg_non_dem = 0\n",
    "for key in filteredMatchDict.keys():\n",
    "    val = filteredMatchDict[key]\n",
    "    avg_dem += filteredData.loc[key][\"wdi_lifexp\"]\n",
    "    avg_non_dem += filteredData.loc[val][\"wdi_lifexp\"]\n",
    "avg_dem = avg_dem/len(filteredMatchDict.keys())\n",
    "avg_non_dem = avg_non_dem/len(filteredMatchDict.keys())\n",
    "avg_dem - avg_non_dem"
   ]
  },
  {
   "cell_type": "code",
   "execution_count": 17,
   "metadata": {},
   "outputs": [],
   "source": [
    "# Interpretation (life expectancy to Democratic/Non-Democratic)\n",
    "# it seems like life expectancy in democratic countries is on average 2 years higher than in non-democratic countries"
   ]
  },
  {
   "cell_type": "code",
   "execution_count": 18,
   "metadata": {},
   "outputs": [],
   "source": [
    "# Discussion of trustworthiness of results:\n",
    "# - greedy is not optimal matching\n",
    "# - maybe not enough data points?\n",
    "# - the threshold may be too high/low\n",
    "# - we only controlled for  population density and gdp per capita, there could be more confounders"
   ]
  },
  {
   "cell_type": "markdown",
   "metadata": {},
   "source": [
    "# Schelling‘s Model of Segregation"
   ]
  },
  {
   "cell_type": "markdown",
   "metadata": {},
   "source": [
    "### a) Create grid\n",
    "Wbrite a function create_grid (shape, share_red, share_blue) that returns a numpy array of the given shape (rows, columns). Cells with a red agent should be marked with the value 1, cells with a blue agent with value 2, empty cells with a 0.\n",
    "\n",
    "Naturally, share_red + share_blue < 1"
   ]
  },
  {
   "cell_type": "code",
   "execution_count": 19,
   "metadata": {},
   "outputs": [],
   "source": [
    "#Source:\n",
    "#https://www.binpress.com/simulating-segregation-with-python/"
   ]
  },
  {
   "cell_type": "code",
   "execution_count": 20,
   "metadata": {},
   "outputs": [
    {
     "data": {
      "text/plain": [
       "array([[1., 2., 1., 0.],\n",
       "       [0., 2., 0., 1.],\n",
       "       [0., 1., 1., 1.],\n",
       "       [2., 2., 1., 1.]])"
      ]
     },
     "execution_count": 20,
     "metadata": {},
     "output_type": "execute_result"
    }
   ],
   "source": [
    "import numpy as np\n",
    "import random as rand\n",
    "def create_grid(shape,share_red,share_blue):\n",
    "    # create grid of dim of shape(rows,columns)\n",
    "    rows=shape[0]\n",
    "    columns=shape[1]\n",
    "    grid=np.zeros(shape)\n",
    "    #converting proportion to integer value\n",
    "    share_red=int(share_red*rows*columns)\n",
    "    share_blue=int(share_blue*rows*columns)\n",
    "    #initializing empty locations to red agents i.e. value 1\n",
    "    while(share_red!=0):\n",
    "        i=rand.randint(0,rows-1)\n",
    "        j=rand.randint(0,columns-1)\n",
    "        if(grid[i][j]==0):\n",
    "            share_red=share_red-1\n",
    "            grid[i][j]=1\n",
    "    #initializing empty locations to blue agents i.e. value 2\n",
    "    while(share_blue!=0):\n",
    "        i=rand.randint(0,rows-1)\n",
    "        j=rand.randint(0,columns-1)\n",
    "        if(grid[i][j]==0):\n",
    "            share_blue=share_blue-1\n",
    "            grid[i][j]=2\n",
    "            \n",
    "    return grid\n",
    "            \n",
    "grid=create_grid((4,4),0.50,0.30)\n",
    "grid"
   ]
  },
  {
   "cell_type": "markdown",
   "metadata": {
    "scrolled": true
   },
   "source": [
    "### b) Visualization\n",
    "\n",
    "Write a function visualize(grid) that take a numpy array with these properties and plots it. We recommend to use matplotlib for this"
   ]
  },
  {
   "cell_type": "code",
   "execution_count": 21,
   "metadata": {},
   "outputs": [],
   "source": [
    "#Sources:\n",
    "#https://matplotlib.org/tutorials/colors/colormap-manipulation.html\n",
    "#https://matplotlib.org/api/_as_gen/matplotlib.pyplot.matshow.html"
   ]
  },
  {
   "cell_type": "code",
   "execution_count": 23,
   "metadata": {},
   "outputs": [
    {
     "data": {
      "image/png": "[encoded data removed]",
      "text/plain": [
       "<Figure size 432x288 with 1 Axes>"
      ]
     },
     "metadata": {
      "needs_background": "light"
     },
     "output_type": "display_data"
    }
   ],
   "source": [
    "import matplotlib.pyplot as plt\n",
    "from matplotlib import colors\n",
    "def visualize(grid):\n",
    "    fig, ax = plt.subplots()\n",
    "    rows=grid.shape[0]\n",
    "    columns=grid.shape[1]\n",
    "    #initialising an array with rgb values of colors to map value to its respective color in the grid\n",
    "    agent_colors = ['r','b']\n",
    "    cm=[(1,1,1),(1,0,0),(0,0,1)]\n",
    "    ax.matshow(grid,cmap=colors.ListedColormap(cm))\n",
    "    # Major ticks\n",
    "    ax.set_xticks(np.arange(0, rows, 1));\n",
    "    ax.set_yticks(np.arange(0, columns, 1));\n",
    "\n",
    "    # Labels for major ticks\n",
    "    ax.set_xticklabels(np.arange(1, rows+1, 1));\n",
    "    ax.set_yticklabels(np.arange(1, columns+1, 1));\n",
    "\n",
    "    # Minor ticks\n",
    "    ax.set_xticks(np.arange(-.5, rows, 1), minor=True);\n",
    "    ax.set_yticks(np.arange(-.5, columns, 1), minor=True);\n",
    "\n",
    "    # Gridlines based on minor ticks\n",
    "    ax.grid(which='minor', color='#000000',linestyle='-', linewidth=2)\n",
    "visualize(grid)    "
   ]
  },
  {
   "cell_type": "markdown",
   "metadata": {},
   "source": [
    "### c) Simulation Step\n",
    "\n",
    "Simulate a single step (potential movement of a single randomly picked agent) of the Schelling model with a function simulate(grid, preferred_proportion)"
   ]
  },
  {
   "cell_type": "code",
   "execution_count": 25,
   "metadata": {},
   "outputs": [
    {
     "name": "stdout",
     "output_type": "stream",
     "text": [
      "Grid before single step simulation: [[1. 2. 1. 0.]\n",
      " [0. 2. 1. 1.]\n",
      " [0. 0. 1. 1.]\n",
      " [2. 2. 1. 1.]]\n",
      "Grid after single step simulation:\n",
      "[[1. 2. 1. 0.]\n",
      " [2. 2. 1. 1.]\n",
      " [0. 0. 1. 1.]\n",
      " [0. 2. 1. 1.]]\n"
     ]
    }
   ],
   "source": [
    "#function to check if the agent is satisfied or satisfied\n",
    "def satisfied(i,j,grid,preferred_proportion):\n",
    "    rows=grid.shape[0]-1\n",
    "    columns=grid.shape[1]-1\n",
    "    agent_race=grid[i][j]\n",
    "    count_same_neighbour_agent=0\n",
    "    count_neighbour_agent=0\n",
    "    #neighbours to the left\n",
    "    x=i-1\n",
    "    y=j-1\n",
    "    if((x>=0 and x<=rows) and (y>=0 and y<=columns)):\n",
    "        if (grid[x][y]==agent_race):\n",
    "            count_same_neighbour_agent=count_same_neighbour_agent+1\n",
    "        count_neighbour_agent=count_neighbour_agent+1\n",
    "    x=i\n",
    "    if((x>=0 and x<=rows) and (y>=0 and y<=columns)):\n",
    "        if (grid[x][y]==agent_race):\n",
    "            count_same_neighbour_agent=count_same_neighbour_agent+1\n",
    "        count_neighbour_agent=count_neighbour_agent+1\n",
    "    x=i+1\n",
    "    if((x>=0 and x<=rows) and (y>=0 and y<=columns)):\n",
    "        if (grid[x][y]==agent_race):\n",
    "            count_same_neighbour_agent=count_same_neighbour_agent+1\n",
    "        count_neighbour_agent=count_neighbour_agent+1\n",
    "    #right neighbours\n",
    "    x=i+1\n",
    "    y=j+1\n",
    "    if((x>=0 and x<=rows) and (y>=0 and y<=columns)):\n",
    "        if (grid[x][y]==agent_race):\n",
    "            count_same_neighbour_agent=count_same_neighbour_agent+1\n",
    "        count_neighbour_agent=count_neighbour_agent+1\n",
    "    x=i\n",
    "    if((x>=0 and x<=rows) and (y>=0 and y<=columns)):\n",
    "        if (grid[x][y]==agent_race):\n",
    "            count_same_neighbour_agent=count_same_neighbour_agent+1\n",
    "        count_neighbour_agent=count_neighbour_agent+1\n",
    "    x=i+1\n",
    "    if((x>=0 and x<=rows) and (y>=0 and y<=columns)):\n",
    "        if (grid[x][y]==agent_race):\n",
    "            count_same_neighbour_agent=count_same_neighbour_agent+1\n",
    "        count_neighbour_agent=count_neighbour_agent+1\n",
    "    #neighbours of same row\n",
    "    x=i-1\n",
    "    y=j\n",
    "    if((x>=0 and x<=rows) and (y>=0 and y<=columns)):\n",
    "        if (grid[x][y]==agent_race):\n",
    "            count_same_neighbour_agent=count_same_neighbour_agent+1\n",
    "        count_neighbour_agent=count_neighbour_agent+1\n",
    "    x=i+1\n",
    "    if((x>=0 and x<=rows) and (y>=0 and y<=columns)):\n",
    "        if (grid[x][y]==agent_race):\n",
    "            count_same_neighbour_agent=count_same_neighbour_agent+1\n",
    "        count_neighbour_agent=count_neighbour_agent+1\n",
    "    #check if current grid has dissatisfied member\n",
    "    proportion_same_neighbours=count_same_neighbour_agent/count_neighbour_agent\n",
    "    if(proportion_same_neighbours<preferred_proportion):\n",
    "        return False\n",
    "    return True\n",
    "#function to move dissatisfied member to empty space in the grid\n",
    "def move_agent(x,y,grid):\n",
    "    flag=0\n",
    "    while(flag==0):\n",
    "        i=rand.randint(0,grid.shape[0]-1)\n",
    "        j=rand.randint(0,grid.shape[1]-1)  \n",
    "        if(grid[i][j]==0):\n",
    "            t=grid[x][y]\n",
    "            grid[x][y]=0\n",
    "            grid[i][j]=t\n",
    "            flag=1\n",
    "    return grid\n",
    "#simulate potential movement of a single randomly picked agent\n",
    "def simulate(grid,preferred_proportion):\n",
    "        rows=grid.shape[0]\n",
    "        columns=grid.shape[1]\n",
    "        i=rand.randint(0,grid.shape[0]-1)\n",
    "        j=rand.randint(0,grid.shape[1]-1)\n",
    "        while(grid[i][j]==0):\n",
    "            i=rand.randint(0,grid.shape[0]-1)\n",
    "            j=rand.randint(0,grid.shape[1]-1)\n",
    "            \n",
    "        if not satisfied(i,j,grid,preferred_proportion):\n",
    "            new_grid=move_agent(i,j,grid)\n",
    "            #print(new_grid)\n",
    "            return True\n",
    "        #no change\n",
    "        return False\n",
    "        \n",
    "print('Grid before single step simulation:',grid)\n",
    "print('Grid after single step simulation:')\n",
    "simulate(grid,1.0)\n",
    "print(grid)"
   ]
  },
  {
   "cell_type": "code",
   "execution_count": 26,
   "metadata": {},
   "outputs": [
    {
     "name": "stdout",
     "output_type": "stream",
     "text": [
      "[[1. 2. 1. 0.]\n",
      " [0. 2. 1. 1.]\n",
      " [0. 2. 1. 1.]\n",
      " [0. 2. 1. 1.]]\n"
     ]
    }
   ],
   "source": [
    "simulate(grid,0.70)\n",
    "print(grid)"
   ]
  },
  {
   "cell_type": "markdown",
   "metadata": {},
   "source": [
    "### d) Full Simulation\n",
    "\n",
    "Write a function simulate(grid, preferred_proportion, max_steps, no_changes_steps, iterations_to_next_vizualization) that performs a full simulation of Schelling's model given a specific start state by performing steps until the maximum number of steps is reached or the was no change for the given amount of steps. Every iterations_to_next_vizualization steps, a visualization of the model should be plotted.\n"
   ]
  },
  {
   "cell_type": "code",
   "execution_count": 27,
   "metadata": {},
   "outputs": [
    {
     "data": {
      "image/png": "[encoded data removed]",
      "text/plain": [
       "<Figure size 432x288 with 1 Axes>"
      ]
     },
     "metadata": {
      "needs_background": "light"
     },
     "output_type": "display_data"
    },
    {
     "data": {
      "image/png": "[encoded data removed]",
      "text/plain": [
       "<Figure size 432x288 with 1 Axes>"
      ]
     },
     "metadata": {
      "needs_background": "light"
     },
     "output_type": "display_data"
    },
    {
     "data": {
      "image/png": "[encoded data removed]",
      "text/plain": [
       "<Figure size 432x288 with 1 Axes>"
      ]
     },
     "metadata": {
      "needs_background": "light"
     },
     "output_type": "display_data"
    },
    {
     "data": {
      "image/png": "[encoded data removed]",
      "text/plain": [
       "<Figure size 432x288 with 1 Axes>"
      ]
     },
     "metadata": {
      "needs_background": "light"
     },
     "output_type": "display_data"
    },
    {
     "data": {
      "image/png": "[encoded data removed]",
      "text/plain": [
       "<Figure size 432x288 with 1 Axes>"
      ]
     },
     "metadata": {
      "needs_background": "light"
     },
     "output_type": "display_data"
    },
    {
     "data": {
      "image/png": "[encoded data removed]",
      "text/plain": [
       "<Figure size 432x288 with 1 Axes>"
      ]
     },
     "metadata": {
      "needs_background": "light"
     },
     "output_type": "display_data"
    }
   ],
   "source": [
    "#function to simulate grid till max number of steps are reached or no change steps are reached\n",
    "def simulate_full(grid,preferred_proportion,max_steps,no_changes_steps,iterations_to_next_vizualization):\n",
    "    #variable to keep track of max number of steps\n",
    "    steps=0\n",
    "    #variable to keep track of no change steps\n",
    "    track_change=0\n",
    "    # boolean variable to track if grid has changed\n",
    "    changed=False\n",
    "    while(steps<max_steps and track_change<no_changes_steps):\n",
    "        changed=simulate(grid,preferred_proportion)\n",
    "        if(changed):\n",
    "            track_change=0\n",
    "        else:\n",
    "            track_change+=1\n",
    "        steps=steps+1\n",
    "        if(steps%iterations_to_next_vizualization==0):\n",
    "            #iterations_to_next_visualization reached\n",
    "            visualize(grid)\n",
    "simulate_full(grid,1,20,5,3)        \n",
    "        \n",
    "        "
   ]
  },
  {
   "cell_type": "markdown",
   "metadata": {},
   "source": [
    "### e) Model Extension\n",
    "\n",
    "Edit your functions such that they support multiple groups (instead of just red and blue), and each group can have a separate preferred proportion. Use for this the following signatures\n",
    "\n",
    "create_grid (shape, shares): percentages should be a list of shares for each color\n",
    "visualize(grid) => choose appropriate colors\n",
    "Simulate a single step (potential movement of a single randomly picked agent) of the Schelling model with a function simulate(grid, preferred_proportions) => Gives a list of preferred proportions for each color.\n"
   ]
  },
  {
   "cell_type": "code",
   "execution_count": 30,
   "metadata": {},
   "outputs": [
    {
     "name": "stdout",
     "output_type": "stream",
     "text": [
      "[90, 22, 45, 22]\n",
      "Result of create grid: [[3. 2. 1. 1. 1. 1. 0. 1. 1. 1. 3. 1. 1. 1. 1.]\n",
      " [1. 0. 1. 3. 1. 1. 3. 1. 1. 3. 3. 1. 0. 1. 3.]\n",
      " [1. 4. 1. 3. 2. 4. 3. 2. 1. 0. 3. 1. 3. 0. 1.]\n",
      " [1. 3. 0. 1. 0. 0. 0. 4. 0. 1. 3. 1. 1. 4. 1.]\n",
      " [3. 0. 0. 1. 3. 2. 0. 4. 3. 0. 0. 3. 0. 1. 1.]\n",
      " [3. 1. 0. 4. 2. 3. 4. 0. 2. 1. 4. 1. 2. 1. 3.]\n",
      " [3. 3. 3. 2. 4. 4. 0. 1. 2. 3. 1. 0. 1. 1. 0.]\n",
      " [4. 1. 1. 0. 2. 0. 1. 3. 4. 0. 1. 1. 0. 1. 1.]\n",
      " [2. 0. 1. 2. 3. 3. 1. 0. 3. 1. 1. 1. 0. 0. 4.]\n",
      " [3. 1. 3. 1. 0. 0. 2. 1. 1. 0. 4. 1. 1. 1. 4.]\n",
      " [1. 2. 4. 4. 1. 1. 2. 1. 3. 3. 1. 1. 3. 1. 0.]\n",
      " [1. 0. 3. 0. 0. 0. 2. 1. 1. 1. 1. 2. 2. 0. 0.]\n",
      " [4. 1. 1. 1. 1. 3. 2. 3. 3. 4. 3. 1. 1. 0. 1.]\n",
      " [2. 1. 4. 4. 3. 3. 0. 3. 3. 0. 4. 0. 1. 3. 1.]\n",
      " [2. 1. 1. 1. 1. 3. 0. 2. 1. 1. 0. 0. 3. 1. 1.]]\n",
      "[(1, 1, 1), (0.28627450980392155, 0.4823529411764706, 0.9333333333333333), (0.7098039215686275, 0.6039215686274509, 0.17647058823529413), (0.3215686274509804, 0.27058823529411763, 0.45098039215686275), (0.7333333333333333, 0.023529411764705882, 0.45098039215686275)]\n"
     ]
    },
    {
     "data": {
      "image/png": "[encoded data removed]",
      "text/plain": [
       "<Figure size 432x288 with 1 Axes>"
      ]
     },
     "metadata": {
      "needs_background": "light"
     },
     "output_type": "display_data"
    }
   ],
   "source": [
    "#list of preferred_proportion for each agent\n",
    "shares=[0.40,0.10,0.20,0.10]\n",
    "#initialize grid with diefferent agents\n",
    "def create_grid(shape,shares):\n",
    "    # create grid of dim of shape(rows,columns)\n",
    "    rows=shape[0]\n",
    "    columns=shape[1]\n",
    "    grid=np.zeros(shape)\n",
    "    #a list to store integer value of proportions of each agent i.e. if agent x has proportion 0.50\n",
    "    #then 8 positions in a grid of 4x4 must be filled with agent x\n",
    "    agent_race_share=[]\n",
    "    #N is number of agents\n",
    "    N=len(shares)\n",
    "    for i in range(N):\n",
    "        agent_race_share.append(int(shares[i]*rows*columns))\n",
    "    print(agent_race_share)\n",
    "    #initialize grid with agents\n",
    "    for agent in range(len(agent_race_share)):\n",
    "        n=agent_race_share[agent]\n",
    "        while(n!=0):\n",
    "            i=rand.randint(0,rows-1)\n",
    "            j=rand.randint(0,columns-1)\n",
    "            if(grid[i][j]==0):\n",
    "                n-=1\n",
    "                #adding plus 1 because agent is an index\n",
    "                grid[i][j]=agent+1\n",
    "            \n",
    "    return grid\n",
    "            \n",
    "grid=create_grid((15,15),shares)\n",
    "print('Result of create grid:',grid)\n",
    "\n",
    "#function to visualise grid with n agents\n",
    "def visualize(grid):\n",
    "    fig, ax = plt.subplots()\n",
    "    rows=grid.shape[0]\n",
    "    columns=grid.shape[1]\n",
    "    #find number of distinct agents\n",
    "    number_of_distinct_agents=len(np.unique(grid))-1\n",
    "    #use a color map with (r,g,b) values for each agent,initialise it with (r,g,b) value of white\n",
    "    cmap=[(1,1,1)]\n",
    "    #to run the simulation with n distinct agents, we need n distinct agent_colors\n",
    "    agent_colors = [\"#\"+''.join([rand.choice('0123456789ABCDEF') for j in range(6)])\n",
    "             for i in range(number_of_distinct_agents)]\n",
    "    #convert randomly genererated hex values of agent colors to rgb and append to cmap\n",
    "    for c in agent_colors:\n",
    "        rgb_val=colors.to_rgb(c)\n",
    "        cmap.append(rgb_val)\n",
    "    print(cmap)\n",
    "    #plot matrix values with help of colormap\n",
    "    ax.matshow(grid,cmap=colors.ListedColormap(cmap))\n",
    "    # Major ticks\n",
    "    ax.set_xticks(np.arange(0, rows, 1));\n",
    "    ax.set_yticks(np.arange(0, columns, 1));\n",
    "\n",
    "    # Labels for major ticks\n",
    "    ax.set_xticklabels(np.arange(1, rows+1, 1));\n",
    "    ax.set_yticklabels(np.arange(1, columns+1, 1));\n",
    "\n",
    "    # Minor ticks\n",
    "    ax.set_xticks(np.arange(-.5, rows, 1), minor=True);\n",
    "    ax.set_yticks(np.arange(-.5, columns, 1), minor=True);\n",
    "\n",
    "    # Gridlines based on minor ticks\n",
    "    ax.grid(which='minor', color='#000000',linestyle='-', linewidth=2)\n",
    "visualize(grid)"
   ]
  },
  {
   "cell_type": "code",
   "execution_count": 31,
   "metadata": {},
   "outputs": [
    {
     "name": "stdout",
     "output_type": "stream",
     "text": [
      "Grid before single step simulation: [[3. 2. 1. 1. 1. 1. 0. 1. 1. 1. 3. 1. 1. 1. 1.]\n",
      " [1. 0. 1. 3. 1. 1. 3. 1. 1. 3. 3. 1. 0. 1. 3.]\n",
      " [1. 4. 1. 3. 2. 4. 3. 2. 1. 0. 3. 1. 3. 0. 1.]\n",
      " [1. 3. 0. 1. 0. 0. 0. 4. 0. 1. 3. 1. 1. 4. 1.]\n",
      " [3. 0. 0. 1. 3. 2. 0. 4. 3. 0. 0. 3. 0. 1. 1.]\n",
      " [3. 1. 0. 4. 2. 3. 4. 0. 2. 1. 4. 1. 2. 1. 3.]\n",
      " [3. 3. 3. 2. 4. 4. 0. 1. 2. 3. 1. 0. 1. 1. 0.]\n",
      " [4. 1. 1. 0. 2. 0. 1. 3. 4. 0. 1. 1. 0. 1. 1.]\n",
      " [2. 0. 1. 2. 3. 3. 1. 0. 3. 1. 1. 1. 0. 0. 4.]\n",
      " [3. 1. 3. 1. 0. 0. 2. 1. 1. 0. 4. 1. 1. 1. 4.]\n",
      " [1. 2. 4. 4. 1. 1. 2. 1. 3. 3. 1. 1. 3. 1. 0.]\n",
      " [1. 0. 3. 0. 0. 0. 2. 1. 1. 1. 1. 2. 2. 0. 0.]\n",
      " [4. 1. 1. 1. 1. 3. 2. 3. 3. 4. 3. 1. 1. 0. 1.]\n",
      " [2. 1. 4. 4. 3. 3. 0. 3. 3. 0. 4. 0. 1. 3. 1.]\n",
      " [2. 1. 1. 1. 1. 3. 0. 2. 1. 1. 0. 0. 3. 1. 1.]]\n",
      "Grid after single step simulation:\n",
      "[[3. 2. 1. 1. 1. 1. 0. 1. 1. 1. 3. 1. 1. 1. 1.]\n",
      " [1. 0. 1. 3. 1. 1. 3. 1. 1. 3. 3. 1. 0. 1. 3.]\n",
      " [1. 4. 1. 3. 2. 4. 3. 2. 1. 0. 3. 1. 3. 0. 1.]\n",
      " [1. 3. 0. 1. 0. 0. 0. 4. 0. 1. 3. 1. 1. 4. 1.]\n",
      " [3. 0. 0. 1. 3. 2. 0. 4. 3. 0. 0. 3. 0. 1. 1.]\n",
      " [3. 1. 0. 4. 2. 3. 4. 0. 2. 1. 4. 1. 2. 1. 3.]\n",
      " [3. 3. 3. 2. 4. 4. 0. 1. 2. 3. 1. 0. 1. 1. 0.]\n",
      " [4. 1. 1. 0. 2. 0. 1. 3. 4. 0. 1. 1. 0. 1. 1.]\n",
      " [2. 0. 1. 2. 3. 3. 1. 0. 3. 1. 1. 1. 0. 0. 4.]\n",
      " [3. 1. 3. 1. 0. 0. 2. 1. 1. 0. 4. 1. 1. 1. 4.]\n",
      " [1. 2. 4. 4. 1. 1. 2. 1. 3. 3. 1. 1. 3. 1. 0.]\n",
      " [1. 0. 3. 0. 0. 0. 2. 1. 1. 1. 1. 2. 2. 0. 0.]\n",
      " [4. 1. 1. 1. 1. 3. 2. 3. 3. 4. 3. 1. 1. 0. 1.]\n",
      " [2. 1. 4. 4. 3. 3. 0. 3. 3. 0. 4. 0. 1. 3. 1.]\n",
      " [2. 1. 1. 1. 1. 3. 0. 2. 1. 1. 0. 0. 3. 1. 1.]]\n"
     ]
    }
   ],
   "source": [
    "#function to check if agent is satistied or dissatisfied\n",
    "def satisfied(i,j,grid,preferred_proportion):\n",
    "    rows=grid.shape[0]-1\n",
    "    columns=grid.shape[1]-1\n",
    "    agent_race=grid[i][j]\n",
    "    #variable that stores  count of neighbours of the same race\n",
    "    count_same_neighbour_agent=0\n",
    "    #variable that stores  count of neighbours\n",
    "    count_neighbour_agent=0\n",
    "    #neighbours to the left\n",
    "    x=i-1\n",
    "    y=j-1\n",
    "    if((x>=0 and x<=rows) and (y>=0 and y<=columns)):\n",
    "        if (grid[x][y]==agent_race):\n",
    "            count_same_neighbour_agent=count_same_neighbour_agent+1\n",
    "        count_neighbour_agent=count_neighbour_agent+1\n",
    "    x=i\n",
    "    if((x>=0 and x<=rows) and (y>=0 and y<=columns)):\n",
    "        if (grid[x][y]==agent_race):\n",
    "            count_same_neighbour_agent=count_same_neighbour_agent+1\n",
    "        count_neighbour_agent=count_neighbour_agent+1\n",
    "    x=i+1\n",
    "    if((x>=0 and x<=rows) and (y>=0 and y<=columns)):\n",
    "        if (grid[x][y]==agent_race):\n",
    "            count_same_neighbour_agent=count_same_neighbour_agent+1\n",
    "        count_neighbour_agent=count_neighbour_agent+1\n",
    "    #right neighbours\n",
    "    x=i+1\n",
    "    y=j+1\n",
    "    if((x>=0 and x<=rows) and (y>=0 and y<=columns)):\n",
    "        if (grid[x][y]==agent_race):\n",
    "            count_same_neighbour_agent=count_same_neighbour_agent+1\n",
    "        count_neighbour_agent=count_neighbour_agent+1\n",
    "    x=i\n",
    "    if((x>=0 and x<=rows) and (y>=0 and y<=columns)):\n",
    "        if (grid[x][y]==agent_race):\n",
    "            count_same_neighbour_agent=count_same_neighbour_agent+1\n",
    "        count_neighbour_agent=count_neighbour_agent+1\n",
    "    x=i+1\n",
    "    if((x>=0 and x<=rows) and (y>=0 and y<=columns)):\n",
    "        if (grid[x][y]==agent_race):\n",
    "            count_same_neighbour_agent=count_same_neighbour_agent+1\n",
    "        count_neighbour_agent=count_neighbour_agent+1\n",
    "    #neighbours of same row\n",
    "    x=i-1\n",
    "    y=j\n",
    "    if((x>=0 and x<=rows) and (y>=0 and y<=columns)):\n",
    "        if (grid[x][y]==agent_race):\n",
    "            count_same_neighbour_agent=count_same_neighbour_agent+1\n",
    "        count_neighbour_agent=count_neighbour_agent+1\n",
    "    x=i+1\n",
    "    if((x>=0 and x<=rows) and (y>=0 and y<=columns)):\n",
    "        if (grid[x][y]==agent_race):\n",
    "            count_same_neighbour_agent=count_same_neighbour_agent+1\n",
    "        count_neighbour_agent=count_neighbour_agent+1\n",
    "    #check if current grid has dissatisfied member\n",
    "    proportion_same_neighbours=count_same_neighbour_agent/count_neighbour_agent\n",
    "    if(proportion_same_neighbours<preferred_proportion):\n",
    "        return False\n",
    "    return True\n",
    "#function to move disastified member to an empty place in the grid\n",
    "def move_agent(x,y,grid):\n",
    "    flag=0\n",
    "    while(flag==0):\n",
    "        i=rand.randint(0,grid.shape[0]-1)\n",
    "        j=rand.randint(0,grid.shape[1]-1)  \n",
    "        if(grid[i][j]==0):\n",
    "            t=grid[x][y]\n",
    "            grid[x][y]=0\n",
    "            grid[i][j]=t\n",
    "            flag=1\n",
    "    return grid\n",
    "#simulate potential movement of a single randomly picked agent\n",
    "def simulate(grid,preferred_proportion):\n",
    "        rows=grid.shape[0]\n",
    "        columns=grid.shape[1]\n",
    "        i=rand.randint(0,grid.shape[0]-1)\n",
    "        j=rand.randint(0,grid.shape[1]-1)\n",
    "        while(grid[i][j]==0):\n",
    "            i=rand.randint(0,grid.shape[0]-1)\n",
    "            j=rand.randint(0,grid.shape[1]-1)\n",
    "        #pick agent\n",
    "        agent_race=int(grid[i][j])   \n",
    "        if not satisfied(i,j,grid,preferred_proportion[agent_race-1]):\n",
    "            grid=move_agent(i,j,grid)\n",
    "            #print(grid)\n",
    "            return True\n",
    "        #no change\n",
    "        return False\n",
    "        \n",
    "#list with preferred proportion for each agent\n",
    "preferred_proportion=[0.30,0.50,0.30,0.20]\n",
    "\n",
    "print('Grid before single step simulation:',grid)\n",
    "print('Grid after single step simulation:')\n",
    "simulate(grid,preferred_proportion)\n",
    "print(grid)"
   ]
  },
  {
   "cell_type": "code",
   "execution_count": null,
   "metadata": {},
   "outputs": [],
   "source": []
  }
 ],
 "metadata": {
  "kernel_info": {
   "name": "python3"
  },
  "kernelspec": {
   "display_name": "Python 3",
   "language": "python",
   "name": "python3"
  },
  "language_info": {
   "codemirror_mode": {
    "name": "ipython",
    "version": 3
   },
   "file_extension": ".py",
   "mimetype": "text/x-python",
   "name": "python",
   "nbconvert_exporter": "python",
   "pygments_lexer": "ipython3",
   "version": "3.7.0"
  },
  "nteract": {
   "version": "0.12.3"
  }
 },
 "nbformat": 4,
 "nbformat_minor": 2
}
